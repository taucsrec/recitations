{
 "cells": [
  {
   "cell_type": "markdown",
   "metadata": {},
   "source": [
    "<h1><center>cs1001.py , Tel Aviv University, Fall 2018-2019</center></h1>\n",
    "<img src=\"http://www.pngall.com/wp-content/uploads/2016/05/Python-Logo-PNG-Image-180x180.png\" width=50/>"
   ]
  },
  {
   "cell_type": "markdown",
   "metadata": {},
   "source": [
    "## Recitation 4"
   ]
  },
  {
   "cell_type": "markdown",
   "metadata": {},
   "source": [
    "We continued discussing complexity.  Then we discussed higher-order functions and mentioned lambda expressions.\n",
    "\n",
    "### Takeaways:\n",
    "<ol>\n",
    "    <li>In order to analyze the time complexity of a code, try to bound the number of \"basic operations\" performed by your code.\n",
    "    If your code contains loops try to understand their structure (series or parallel, and dependent or independent). This may help bounding the overall complexity.</li>    \n",
    "    <li>Lambda expressions are a method for writing short functions. Note that they are rather limited as only expressions (which have a value) can appear after \":\".</li>\n",
    "  <li>Higher-order functions are quite useful and may lead to a more compact code.</li>\n",
    "</ol>"
   ]
  },
  {
   "cell_type": "markdown",
   "metadata": {},
   "source": [
    "#### Code for printing several outputs in one cell (not part of the recitation):"
   ]
  },
  {
   "cell_type": "code",
   "execution_count": null,
   "metadata": {},
   "outputs": [],
   "source": [
    "from IPython.core.interactiveshell import InteractiveShell\n",
    "InteractiveShell.ast_node_interactivity = \"all\""
   ]
  },
  {
   "cell_type": "markdown",
   "metadata": {},
   "source": [
    "### Reminder: Big O notation\n",
    "\n",
    "Given two functions $f(n)$ and $g(n)$,\n",
    "\n",
    "$f(n) = O(g(n))$ \n",
    " If and only if there exist $c > 0 $ and $n_{0}\\in \\mathbb{R}$ such that\n",
    " $\\forall n>n_0$    \n",
    "   $|f(n)| \\leq c\\cdot|g(n)|$ "
   ]
  },
  {
   "cell_type": "markdown",
   "metadata": {},
   "source": [
    "### Series Loops\n",
    "Let $n$ denote the input size.\n",
    "Let $f_1(n) = O(g_1(n))\\;$ and $f_2(n)=O(g_2(n))$.\n",
    "\n",
    "    for i in range(f1(n))):\n",
    "        O(1)\n",
    "    for j in range(f_2(n)):\n",
    "        O(1)\n",
    "\n",
    "Last week we proved that $f_1(n) + f_2(n) = O(g_1(n) + g_2(n))$ and that $f_1(n) + f_2(n) = O(max(g_1(n), g_2(n)))$\n",
    "\n",
    "\n",
    "We've also mentioned that $f_1 + f_2 + ... + f_k = O(f_{max})$. That is, in a finite constant sum of functions, the dominate function defines the growth rate.\n",
    "A private case (which we have also proven last week) is that of a polynomial.\n",
    "\n",
    "\n",
    "\n",
    "### Independednt nested oops\n",
    "\n",
    "    for i in range(f1(n)):\n",
    "        for j in range(f2(n)):\n",
    "            O(1)\n",
    "\n",
    "Similar to the previous claim, it holds that $f_1(n) \\cdot f_2(n) = O(g_1(n) \\cdot g_2(n))$ (prove this yourself!).\n",
    "\n",
    "\n",
    "### Dependent nested loops\n",
    "\n",
    "    for i in range(n):\n",
    "        for j in range(f(i)):\n",
    "            O(1)\n",
    " Use $\\sum$ to bound the time complexity in this case\n",
    " \n",
    "Two useful examples:\n",
    "* In the case where $f(i) = i$ the sum behaves like an arithmetic series: $\\sum_{i=1}^{n}{i} = O(n^2)$\n",
    "* In the case where $f(i) = 2^i$ the sum behaves like a geometric series: $\\sum_{i=1}^{n}{2^i} = O(2^n)$"
   ]
  },
  {
   "cell_type": "markdown",
   "metadata": {},
   "source": [
    "### Exercise: Analyze loops"
   ]
  },
  {
   "cell_type": "markdown",
   "metadata": {},
   "source": [
    "    for i in range(1, n + 1):\n",
    "        j = 1\n",
    "        while j <= n:\n",
    "            j += 1  # O(n**2)\n",
    "            \n",
    "            j += 7  # O(n**2), inner loop does n/7 iterations \n",
    "                    #   for each outer loop\n",
    "                    \n",
    "            j *= 2  # O(n*log(n))\n",
    "            \n",
    "            j *= 7  # O(n*log(n)), change log bases is like \n",
    "                    #   multiplying by a constant\n",
    "                    \n",
    "            j **= 2 # O(n*log(log(n))), Here we assume j starts from 2.\n",
    "                    #   by induction after k steps j = 2^(2^k) \n",
    "                    #   we need to take a log on both sides *twice*: n = 2^(2^k) => k = log log n\n",
    "                    \n",
    "            j += i  # O(n*log(n)), h(n) = the sum of 1/i from i=1 to n is O(log(n))\n",
    "                    #   This is the harmonic series"
   ]
  },
  {
   "cell_type": "markdown",
   "metadata": {},
   "source": [
    "## Lambda expressions and higher-order functions"
   ]
  },
  {
   "cell_type": "markdown",
   "metadata": {},
   "source": [
    "### Expressions:\n",
    "Anonymous vs. named values"
   ]
  },
  {
   "cell_type": "code",
   "execution_count": null,
   "metadata": {},
   "outputs": [],
   "source": [
    "print(2**10)\n",
    "\n",
    "x = 2**10\n",
    "print(x)"
   ]
  },
  {
   "cell_type": "markdown",
   "metadata": {},
   "source": [
    "### Functions:"
   ]
  },
  {
   "cell_type": "markdown",
   "metadata": {},
   "source": [
    "Lambda expressions can be used for creating anonymous functions (and named ones as well)"
   ]
  },
  {
   "cell_type": "code",
   "execution_count": null,
   "metadata": {},
   "outputs": [],
   "source": [
    "(lambda x: x+2)(3)\n",
    "\n",
    "plus2 = lambda x : x + 2\n",
    "plus2(3)"
   ]
  },
  {
   "cell_type": "markdown",
   "metadata": {},
   "source": [
    "#### Example: A function that returns a function: make power"
   ]
  },
  {
   "cell_type": "code",
   "execution_count": 1,
   "metadata": {},
   "outputs": [
    {
     "data": {
      "text/plain": [
       "100"
      ]
     },
     "execution_count": 1,
     "metadata": {},
     "output_type": "execute_result"
    }
   ],
   "source": [
    "def make_pow(n):\n",
    "    def fixed_pow(x):\n",
    "        return pow(x, n)\n",
    "    return fixed_pow\n",
    "\n",
    "square = make_pow(2)\n",
    "cube = make_pow(3)\n",
    "\n",
    "square(10)\n",
    "cube(10)\n",
    "make_pow(2)(10)"
   ]
  },
  {
   "cell_type": "code",
   "execution_count": null,
   "metadata": {},
   "outputs": [],
   "source": [
    "def make_pow(n):\n",
    "    return lambda x : pow(x, n)\n",
    "\n",
    "square = make_pow(2)\n",
    "cube = make_pow(3)\n",
    "\n",
    "square(10)\n",
    "cube(10)"
   ]
  },
  {
   "cell_type": "markdown",
   "metadata": {},
   "source": [
    "#### Example: A function that takes a function as its argument (function as an input): sorted"
   ]
  },
  {
   "cell_type": "code",
   "execution_count": 2,
   "metadata": {},
   "outputs": [
    {
     "data": {
      "text/plain": [
       "['amirrub', 'ben', 'daniel', 'michal']"
      ]
     },
     "execution_count": 2,
     "metadata": {},
     "output_type": "execute_result"
    }
   ],
   "source": [
    "lst = [\"michal\", \"amirrub\", \"daniel\", \"ben\"]\n",
    "\n",
    "sorted(lst)"
   ]
  },
  {
   "cell_type": "markdown",
   "metadata": {},
   "source": [
    "\"sorted\" can recieve a function as an argument and use it to sort the input list. The function is given as the \"key\" argument to \"sorted\". Note that the \"key\" is used for ordering the elements without changing them.\n",
    "\n",
    "examples: sort by length, sort by reverse lexicographical order"
   ]
  },
  {
   "cell_type": "code",
   "execution_count": 4,
   "metadata": {},
   "outputs": [
    {
     "data": {
      "text/plain": [
       "['ben', 'michal', 'daniel', 'amirrub']"
      ]
     },
     "execution_count": 4,
     "metadata": {},
     "output_type": "execute_result"
    }
   ],
   "source": [
    "sorted(lst, key=lambda x: len(x))\n",
    "sorted(lst, key=len)\n",
    "\n",
    "# def rev(s):\n",
    "#     return s[::-1]\n",
    "\n",
    "# sorted(lst, key=rev)\n",
    "# sorted(lst, key=lambda s: s[::-1])"
   ]
  },
  {
   "cell_type": "markdown",
   "metadata": {},
   "source": [
    "What happens when two elements are equivalent under the key function? \n",
    "Will Python use the \"builtin\" comparison method? What if it's undefined?"
   ]
  },
  {
   "cell_type": "code",
   "execution_count": 7,
   "metadata": {},
   "outputs": [
    {
     "data": {
      "text/plain": [
       "['y', 'x', 'abc', '123']"
      ]
     },
     "execution_count": 7,
     "metadata": {},
     "output_type": "execute_result"
    }
   ],
   "source": [
    "# Here \"x\" should come before \"y\" lexicographically\n",
    "lst1 = [\"abc\", \"123\", \"x\", \"y\"]\n",
    "lst2 = [\"abc\", \"123\", \"y\", \"x\"]\n",
    "\n",
    "sorted(lst1, key=lambda x: len(x))\n",
    "sorted(lst2, key=lambda x: len(x))\n"
   ]
  },
  {
   "cell_type": "markdown",
   "metadata": {},
   "source": [
    "another example: sort by the int value of the string elements"
   ]
  },
  {
   "cell_type": "code",
   "execution_count": null,
   "metadata": {},
   "outputs": [],
   "source": [
    "lst2 = [\"232\", \"11\", \"3\"]\n",
    "sorted(lst2)\n",
    "sorted(lst2, key=int)"
   ]
  },
  {
   "cell_type": "markdown",
   "metadata": {},
   "source": [
    "#### Example: another function that gets a function as its input"
   ]
  },
  {
   "cell_type": "code",
   "execution_count": null,
   "metadata": {},
   "outputs": [],
   "source": [
    "def sum_naturals(n):\n",
    "    total = 0\n",
    "    for k in range(1, n + 1):\n",
    "        total += k\n",
    "    return total\n",
    "\n",
    "sum_naturals(10)"
   ]
  },
  {
   "cell_type": "code",
   "execution_count": null,
   "metadata": {},
   "outputs": [],
   "source": [
    "def sum_squres(n):\n",
    "    total = 0\n",
    "    for k in range(1, n + 1):\n",
    "        total += k**2\n",
    "    return total\n",
    "\n",
    "sum_squres(10)"
   ]
  },
  {
   "cell_type": "markdown",
   "metadata": {},
   "source": [
    "Let's make it a general function that gets another function as a parameter:"
   ]
  },
  {
   "cell_type": "code",
   "execution_count": null,
   "metadata": {},
   "outputs": [],
   "source": [
    "def summation(n, term):\n",
    "    total = 0\n",
    "    for k in range(1, n + 1):\n",
    "        total += term(k)\n",
    "    return total"
   ]
  },
  {
   "cell_type": "markdown",
   "metadata": {},
   "source": [
    "The equivalent to sum_naturals and sum_squares:"
   ]
  },
  {
   "cell_type": "code",
   "execution_count": null,
   "metadata": {},
   "outputs": [],
   "source": [
    "term_naturals = lambda x : x\n",
    "summation(10, term_naturals)\n",
    "\n",
    "term_squares = lambda x : x**2\n",
    "summation(10, term_squares)"
   ]
  },
  {
   "cell_type": "markdown",
   "metadata": {},
   "source": [
    "#### Approximating $\\pi$:\n",
    "\n",
    "The following (infinite) sum slowly converges to $\\pi$:\n",
    "$\\frac{8}{1\\cdot 3} + \\frac{8}{5\\cdot 7} + \\frac{8}{9\\cdot11} + \\ldots$\n",
    "We use \"summation\" to compute the sum of the first $n$ elements in this series"
   ]
  },
  {
   "cell_type": "code",
   "execution_count": null,
   "metadata": {},
   "outputs": [],
   "source": [
    "term_pi = lambda k : 8 / ((4*k-1) * (4*k-3))\n",
    "\n",
    "summation(10, term_pi)\n",
    "summation(100, term_pi)\n",
    "summation(10000000, term_pi)"
   ]
  },
  {
   "cell_type": "markdown",
   "metadata": {},
   "source": [
    "### Packing and Unpacking arguments using *\n",
    "\n",
    "The function below can recieve any number of values as its input,\n",
    "all are packed into a tuple named \"params\", in this case.\n",
    "\n",
    "The content of a tuple can be unpacked using * when passed as input to another method, as if you'd passed every value separately."
   ]
  },
  {
   "cell_type": "code",
   "execution_count": 14,
   "metadata": {},
   "outputs": [
    {
     "name": "stdout",
     "output_type": "stream",
     "text": [
      "1 2 3 4\n",
      "(1, 2, 3, 4)\n"
     ]
    },
    {
     "data": {
      "text/plain": [
       "24"
      ]
     },
     "execution_count": 14,
     "metadata": {},
     "output_type": "execute_result"
    }
   ],
   "source": [
    "def mult(*params):\n",
    "    result = 1\n",
    "    print(*params)\n",
    "    print(params)\n",
    "    for elem in params:\n",
    "        result *= elem\n",
    "    return result\n",
    "\n",
    "mult(1, 2, 3, 4)\n",
    "\n",
    "# tup = (1, 2, 3, 4)\n",
    "\n",
    "# Passing the tuple as-is treats it like a single variable\n",
    "# mult(tup)\n",
    "\n",
    "# Unpacking with *tup treats it like multiple variables\n",
    "# mult(*tup)"
   ]
  },
  {
   "cell_type": "markdown",
   "metadata": {},
   "source": [
    "#### Example: Two functions that get a function as an input"
   ]
  },
  {
   "cell_type": "code",
   "execution_count": 13,
   "metadata": {},
   "outputs": [
    {
     "name": "stdout",
     "output_type": "stream",
     "text": [
      "[50, 51, 52, 53, 54]\n",
      "bad range\n"
     ]
    },
    {
     "ename": "TypeError",
     "evalue": "<lambda>() takes 3 positional arguments but 4 were given",
     "output_type": "error",
     "traceback": [
      "\u001b[1;31m---------------------------------------------------------------------------\u001b[0m",
      "\u001b[1;31mTypeError\u001b[0m                                 Traceback (most recent call last)",
      "\u001b[1;32m<ipython-input-13-a47defdfb6ea>\u001b[0m in \u001b[0;36m<module>\u001b[1;34m\u001b[0m\n\u001b[0;32m      6\u001b[0m \u001b[0mprint_consecutive_sublist\u001b[0m\u001b[1;33m(\u001b[0m\u001b[1;33m[\u001b[0m\u001b[0mi\u001b[0m \u001b[1;32mfor\u001b[0m \u001b[0mi\u001b[0m \u001b[1;32min\u001b[0m \u001b[0mrange\u001b[0m\u001b[1;33m(\u001b[0m\u001b[1;36m100\u001b[0m\u001b[1;33m)\u001b[0m\u001b[1;33m]\u001b[0m\u001b[1;33m,\u001b[0m \u001b[0mfunc\u001b[0m\u001b[1;33m,\u001b[0m \u001b[1;36m50\u001b[0m\u001b[1;33m,\u001b[0m \u001b[1;36m55\u001b[0m\u001b[1;33m)\u001b[0m\u001b[1;33m\u001b[0m\u001b[0m\n\u001b[0;32m      7\u001b[0m \u001b[0mprint_consecutive_sublist\u001b[0m\u001b[1;33m(\u001b[0m\u001b[1;33m[\u001b[0m\u001b[0mi\u001b[0m \u001b[1;32mfor\u001b[0m \u001b[0mi\u001b[0m \u001b[1;32min\u001b[0m \u001b[0mrange\u001b[0m\u001b[1;33m(\u001b[0m\u001b[1;36m100\u001b[0m\u001b[1;33m)\u001b[0m\u001b[1;33m]\u001b[0m\u001b[1;33m,\u001b[0m \u001b[0mfunc\u001b[0m\u001b[1;33m,\u001b[0m \u001b[1;36m55\u001b[0m\u001b[1;33m,\u001b[0m \u001b[1;36m50\u001b[0m\u001b[1;33m)\u001b[0m\u001b[1;33m\u001b[0m\u001b[0m\n\u001b[1;32m----> 8\u001b[1;33m \u001b[0mprint_consecutive_sublist\u001b[0m\u001b[1;33m(\u001b[0m\u001b[1;33m[\u001b[0m\u001b[0mi\u001b[0m \u001b[1;32mfor\u001b[0m \u001b[0mi\u001b[0m \u001b[1;32min\u001b[0m \u001b[0mrange\u001b[0m\u001b[1;33m(\u001b[0m\u001b[1;36m100\u001b[0m\u001b[1;33m)\u001b[0m\u001b[1;33m]\u001b[0m\u001b[1;33m,\u001b[0m \u001b[0mfunc\u001b[0m\u001b[1;33m,\u001b[0m \u001b[1;36m50\u001b[0m\u001b[1;33m,\u001b[0m \u001b[1;36m55\u001b[0m\u001b[1;33m,\u001b[0m \u001b[1;36m56\u001b[0m\u001b[1;33m)\u001b[0m \u001b[1;31m# more than three arguments given to func\u001b[0m\u001b[1;33m\u001b[0m\u001b[0m\n\u001b[0m",
      "\u001b[1;32m<ipython-input-13-a47defdfb6ea>\u001b[0m in \u001b[0;36mprint_consecutive_sublist\u001b[1;34m(lst, func, *params)\u001b[0m\n\u001b[0;32m      1\u001b[0m \u001b[1;32mdef\u001b[0m \u001b[0mprint_consecutive_sublist\u001b[0m\u001b[1;33m(\u001b[0m\u001b[0mlst\u001b[0m\u001b[1;33m,\u001b[0m \u001b[0mfunc\u001b[0m\u001b[1;33m,\u001b[0m \u001b[1;33m*\u001b[0m\u001b[0mparams\u001b[0m\u001b[1;33m)\u001b[0m\u001b[1;33m:\u001b[0m\u001b[1;33m\u001b[0m\u001b[0m\n\u001b[1;32m----> 2\u001b[1;33m     \u001b[0mfunc\u001b[0m\u001b[1;33m(\u001b[0m\u001b[0mlst\u001b[0m\u001b[1;33m,\u001b[0m \u001b[1;33m*\u001b[0m\u001b[0mparams\u001b[0m\u001b[1;33m)\u001b[0m \u001b[1;31m#unpacking\u001b[0m\u001b[1;33m\u001b[0m\u001b[0m\n\u001b[0m\u001b[0;32m      3\u001b[0m \u001b[1;33m\u001b[0m\u001b[0m\n\u001b[0;32m      4\u001b[0m \u001b[0mfunc\u001b[0m \u001b[1;33m=\u001b[0m \u001b[1;32mlambda\u001b[0m \u001b[0mlst\u001b[0m\u001b[1;33m,\u001b[0m \u001b[0mi\u001b[0m\u001b[1;33m,\u001b[0m \u001b[0mj\u001b[0m \u001b[1;33m:\u001b[0m \u001b[0mprint\u001b[0m\u001b[1;33m(\u001b[0m\u001b[0mlst\u001b[0m\u001b[1;33m[\u001b[0m\u001b[0mi\u001b[0m\u001b[1;33m:\u001b[0m\u001b[0mj\u001b[0m\u001b[1;33m]\u001b[0m \u001b[1;32mif\u001b[0m \u001b[0mi\u001b[0m \u001b[1;33m<\u001b[0m \u001b[0mj\u001b[0m \u001b[1;32melse\u001b[0m \u001b[1;34m\"bad range\"\u001b[0m\u001b[1;33m)\u001b[0m\u001b[1;33m\u001b[0m\u001b[0m\n\u001b[0;32m      5\u001b[0m \u001b[1;33m\u001b[0m\u001b[0m\n",
      "\u001b[1;31mTypeError\u001b[0m: <lambda>() takes 3 positional arguments but 4 were given"
     ]
    }
   ],
   "source": [
    "def print_consecutive_sublist(lst, func, *params):\n",
    "    func(lst, *params) #unpacking\n",
    "\n",
    "func = lambda lst, i, j : print(lst[i:j] if i < j else \"bad range\")\n",
    "\n",
    "print_consecutive_sublist([i for i in range(100)], func, 50, 55)\n",
    "print_consecutive_sublist([i for i in range(100)], func, 55, 50)\n",
    "print_consecutive_sublist([i for i in range(100)], func, 50, 55, 56) # more than three arguments given to func"
   ]
  },
  {
   "cell_type": "markdown",
   "metadata": {},
   "source": [
    "#### Leave params as tuple:"
   ]
  },
  {
   "cell_type": "code",
   "execution_count": 15,
   "metadata": {},
   "outputs": [
    {
     "name": "stdout",
     "output_type": "stream",
     "text": [
      "[43, 44, 50, 55, 90]\n"
     ]
    }
   ],
   "source": [
    "def print_sublist(lst, func, *params):\n",
    "    func(lst, params)\n",
    "    \n",
    "func2 = lambda lst, tup : print([x for x in lst if x in tup])\n",
    "\n",
    "print_sublist([i for i in range(100)], func2, 50, 55, 43, 44, 90)"
   ]
  },
  {
   "cell_type": "markdown",
   "metadata": {},
   "source": [
    "## $m$-Channel merge:\n",
    "\n",
    "Given a list of $m\\geq 2$ sorted sublists (ascending) as an input, we would like to return as an output a new single sorted (ascending) list containing all elements in the input sublists.\n",
    "The input list/sublists should not be changed.\n",
    "\n",
    "For complexity anaysis, we denote by $n$ the maximal length of an input sublist.\n",
    "\n",
    "We will consider 3 possible solutions:\n"
   ]
  },
  {
   "cell_type": "code",
   "execution_count": 19,
   "metadata": {},
   "outputs": [],
   "source": [
    "def multi_merge_v1(lst_of_lsts):\n",
    "    all_elems = [e for lst in lst_of_lsts for e in lst]\n",
    "    merged = []\n",
    "    while all_elems != []:\n",
    "        minimum = min(all_elems)\n",
    "        merged += [minimum]\n",
    "        all_elems.remove(minimum)\n",
    "    return merged"
   ]
  },
  {
   "cell_type": "code",
   "execution_count": 20,
   "metadata": {},
   "outputs": [
    {
     "data": {
      "text/plain": [
       "[1, 2, 2, 2, 3, 3, 5, 5]"
      ]
     },
     "execution_count": 20,
     "metadata": {},
     "output_type": "execute_result"
    }
   ],
   "source": [
    "multi_merge_v1([[1, 2, 2, 3], [2, 3, 5], [5]])"
   ]
  },
  {
   "cell_type": "markdown",
   "metadata": {},
   "source": [
    "$mn$ iterations, in iteration $i$ we perform operations that take $O(mn-i)$.\n",
    "Overall complexity is $\\sum_{i=0}^{mn}{(mn-i)} = \\sum_{i=0}^{mn}(i) = O(m^2n^2)$"
   ]
  },
  {
   "cell_type": "code",
   "execution_count": 21,
   "metadata": {},
   "outputs": [],
   "source": [
    "def merge(A, B):\n",
    "    \"\"\" merging two lists into a sorted list\n",
    "        A and B must be sorted! \"\"\"\n",
    "    n = len(A)\n",
    "    m = len(B)\n",
    "    C = [None for i in range(n + m)]\n",
    "\n",
    "    a = b = c = 0\n",
    "    while  a < n  and  b < m: #more element in both A and B\n",
    "        if A[a] < B[b]:\n",
    "            C[c] = A[a]\n",
    "            a += 1\n",
    "        else:\n",
    "            C[c] = B[b]\n",
    "            b += 1\n",
    "        c += 1\n",
    "\n",
    "    C[c:] = A[a:] + B[b:] #append remaining elements (one of those is empty)\n",
    "\n",
    "    return C\n",
    "\n",
    "\n",
    "def multi_merge_v2(lst_of_lsts):\n",
    "    m = len(lst_of_lsts)\n",
    "    merged = []\n",
    "    for lst in lst_of_lsts:\n",
    "        merged = merge(lst, merged)\n",
    "    return merged "
   ]
  },
  {
   "cell_type": "code",
   "execution_count": 22,
   "metadata": {},
   "outputs": [
    {
     "data": {
      "text/plain": [
       "[1, 2, 2, 2, 3, 3, 5, 5]"
      ]
     },
     "execution_count": 22,
     "metadata": {},
     "output_type": "execute_result"
    }
   ],
   "source": [
    "multi_merge_v2([[1, 2, 2, 3], [2, 3, 5], [5]])\n"
   ]
  },
  {
   "cell_type": "markdown",
   "metadata": {},
   "source": [
    "The function does $m$ iterations, in iteration $i$ we merge a list of length at most n with a list of length at most $n\\cdot (i-1)$. Merging two lists of length $k,\\ell$ takes $O(k + \\ell)$.\n",
    "Overall complexity is at most $$\\sum_{i=0}^{m} n\\cdot(i-1) + n = \\sum_{i=0}^{m}{ni} = n\\cdot\\sum_{i=0}^{m}i = O(nm^2)$$"
   ]
  }
 ],
 "metadata": {
  "kernelspec": {
   "display_name": "Python 3",
   "language": "python",
   "name": "python3"
  },
  "language_info": {
   "codemirror_mode": {
    "name": "ipython",
    "version": 3
   },
   "file_extension": ".py",
   "mimetype": "text/x-python",
   "name": "python",
   "nbconvert_exporter": "python",
   "pygments_lexer": "ipython3",
   "version": "3.7.0"
  }
 },
 "nbformat": 4,
 "nbformat_minor": 1
}
