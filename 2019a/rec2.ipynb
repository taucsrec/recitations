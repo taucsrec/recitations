{
 "cells": [
  {
   "cell_type": "markdown",
   "metadata": {},
   "source": [
    "<h1><center>cs1001.py , Tel Aviv University, Fall 2018-2019</center></h1>\n",
    "<img src=\"http://www.pngall.com/wp-content/uploads/2016/05/Python-Logo-PNG-Image-180x180.png\" width=50/>"
   ]
  },
  {
   "cell_type": "markdown",
   "metadata": {},
   "source": [
    "## Recitation 2"
   ]
  },
  {
   "cell_type": "markdown",
   "metadata": {},
   "source": [
    "We have implemented a base conversion algorithm (from decimal to 2<=b<=36).\n",
    "We examined Python's memory model and analyzed the efficiency of constructing a list using + or += operators.\n",
    "Finally, we've seen an example for a binary search solution.\n",
    "\n",
    "\n",
    "\n",
    "### Takeaways:\n",
    "1. Make sure you understand binary numbers and base conversions (including the algorithms for conversion to and from a base b to decimal). It is a very useful tool in computer science.\n",
    "2. Elements of a list can be changed from inside a function, if this list is given as a parameter. Note that one should use dedicated list functions or the [] operator for mutating the list.\n",
    "3. Use [Python tutor](http://www.pythontutor.com) in order to understand what's going on in terms of memory. It can be very helpful.\n",
    "4. Try to analyze the number of operations your function does to see how will its runtime scale as a function of the input (we will elabore on this soon).\n",
    "    \n",
    "### Python tutor guidelines:\n",
    "Before you click \"Visualize Execution\" button, you may want to use the following settings (can be adjusted via the drop boxes next to the textbox):\n",
    "<ol>\n",
    "    <li>Python 3.6</li>\n",
    "    <li>\n",
    "        Show exited frames (Python)</li>\n",
    "    <li>Render all objects on the heap</li>\n",
    "<li>Draw pointers as arrows [default]</li>\n",
    "</ol>\n"
   ]
  },
  {
   "cell_type": "markdown",
   "metadata": {},
   "source": [
    "#### Code for printing several outputs in one cell (not part of the recitation):"
   ]
  },
  {
   "cell_type": "code",
   "execution_count": 4,
   "metadata": {},
   "outputs": [],
   "source": [
    "from IPython.core.interactiveshell import InteractiveShell\n",
    "InteractiveShell.ast_node_interactivity = \"all\""
   ]
  },
  {
   "cell_type": "markdown",
   "metadata": {},
   "source": [
    "## Converting from decimal to binary \n",
    "Converting from decimal to binary is done by integer division and modulo operations. \n",
    "Here is an implementation of the algorithm for conversion from decimal to a general base $b$."
   ]
  },
  {
   "cell_type": "markdown",
   "metadata": {},
   "source": [
    "#### Our version for convert_base:"
   ]
  },
  {
   "cell_type": "code",
   "execution_count": 16,
   "metadata": {},
   "outputs": [],
   "source": [
    "def convert_base(n, b):\n",
    "    '''convert_base(int, int)->string\n",
    "        Returns the textual representation \n",
    "        of n(decimal) in base 2 <= b <= 10\n",
    "    '''\n",
    "    result = \"\"\n",
    "    while n != 0:\n",
    "        digit = n % b\n",
    "        n = n // b\n",
    "        result = str(digit) + result\n",
    "    \n",
    "    return result\n",
    "    \n",
    "    \n",
    "    "
   ]
  },
  {
   "cell_type": "code",
   "execution_count": 17,
   "metadata": {},
   "outputs": [
    {
     "data": {
      "text/plain": [
       "'1010'"
      ]
     },
     "execution_count": 17,
     "metadata": {},
     "output_type": "execute_result"
    },
    {
     "data": {
      "text/plain": [
       "''"
      ]
     },
     "execution_count": 17,
     "metadata": {},
     "output_type": "execute_result"
    }
   ],
   "source": [
    "convert_base(10, 2)\n",
    "convert_base(0, 5)"
   ]
  },
  {
   "cell_type": "markdown",
   "metadata": {},
   "source": [
    "convert_base above mishandles n = 0"
   ]
  },
  {
   "cell_type": "markdown",
   "metadata": {},
   "source": [
    "#### Improved version of convert_base:"
   ]
  },
  {
   "cell_type": "code",
   "execution_count": 18,
   "metadata": {},
   "outputs": [
    {
     "data": {
      "text/plain": [
       "'0'"
      ]
     },
     "execution_count": 18,
     "metadata": {},
     "output_type": "execute_result"
    },
    {
     "data": {
      "text/plain": [
       "'101'"
      ]
     },
     "execution_count": 18,
     "metadata": {},
     "output_type": "execute_result"
    }
   ],
   "source": [
    "def convert_base(n, b):\n",
    "    '''convert_base(int, int)->string\n",
    "        Returns the textual representation \n",
    "        of n(decimal) in base 2 <= b <= 10\n",
    "    '''\n",
    "    if n == 0:\n",
    "        return \"0\"\n",
    "    \n",
    "    result = \"\"\n",
    "    while n != 0:\n",
    "        digit = n % b\n",
    "        n = n // b\n",
    "        result = str(digit) + result\n",
    "    \n",
    "    return result\n",
    "\n",
    "convert_base(0, 5)\n",
    "convert_base(161, 16)"
   ]
  },
  {
   "cell_type": "markdown",
   "metadata": {},
   "source": [
    "The improved version above fails for b > 10 (why ?)\n",
    "This issue is fixed in the final version below (improvement #2)\n",
    "(what happens when b = 1?)"
   ]
  },
  {
   "cell_type": "code",
   "execution_count": 19,
   "metadata": {},
   "outputs": [],
   "source": [
    "def convert_base(n, b):\n",
    "    '''convert_base(int, int)->string\n",
    "        Returns the textual representation of n(decimal) in base 2 <= b <= 36\n",
    "    '''\n",
    "    \n",
    "    assert 2 <= b <= 36\n",
    "    \n",
    "    if n == 0:\n",
    "        return \"0\"\n",
    "    \n",
    "    result = \"\"\n",
    "    alphabet = \"0123456789abcdefghijklmnopqrstuvwxyz\"\n",
    "\n",
    "    while n != 0:\n",
    "        digit = n % b\n",
    "        n = n // b\n",
    "        result = alphabet[digit] + result\n",
    "    \n",
    "    return result\n",
    "    "
   ]
  },
  {
   "cell_type": "code",
   "execution_count": 20,
   "metadata": {},
   "outputs": [
    {
     "data": {
      "text/plain": [
       "'a1'"
      ]
     },
     "execution_count": 20,
     "metadata": {},
     "output_type": "execute_result"
    },
    {
     "data": {
      "text/plain": [
       "'1010'"
      ]
     },
     "execution_count": 20,
     "metadata": {},
     "output_type": "execute_result"
    },
    {
     "ename": "AssertionError",
     "evalue": "",
     "output_type": "error",
     "traceback": [
      "\u001b[0;31m---------------------------------------------------------------------------\u001b[0m",
      "\u001b[0;31mAssertionError\u001b[0m                            Traceback (most recent call last)",
      "\u001b[0;32m<ipython-input-20-d75904b47e95>\u001b[0m in \u001b[0;36m<module>\u001b[0;34m\u001b[0m\n\u001b[1;32m      1\u001b[0m \u001b[0mconvert_base\u001b[0m\u001b[0;34m(\u001b[0m\u001b[0;36m161\u001b[0m\u001b[0;34m,\u001b[0m \u001b[0;36m16\u001b[0m\u001b[0;34m)\u001b[0m\u001b[0;34m\u001b[0m\u001b[0m\n\u001b[1;32m      2\u001b[0m \u001b[0mconvert_base\u001b[0m\u001b[0;34m(\u001b[0m\u001b[0;36m10\u001b[0m\u001b[0;34m,\u001b[0m \u001b[0;36m2\u001b[0m\u001b[0;34m)\u001b[0m\u001b[0;34m\u001b[0m\u001b[0m\n\u001b[0;32m----> 3\u001b[0;31m \u001b[0mconvert_base\u001b[0m\u001b[0;34m(\u001b[0m\u001b[0;36m10\u001b[0m\u001b[0;34m,\u001b[0m \u001b[0;36m80\u001b[0m\u001b[0;34m)\u001b[0m\u001b[0;34m\u001b[0m\u001b[0m\n\u001b[0m",
      "\u001b[0;32m<ipython-input-19-a975136accdf>\u001b[0m in \u001b[0;36mconvert_base\u001b[0;34m(n, b)\u001b[0m\n\u001b[1;32m      4\u001b[0m     '''\n\u001b[1;32m      5\u001b[0m \u001b[0;34m\u001b[0m\u001b[0m\n\u001b[0;32m----> 6\u001b[0;31m     \u001b[0;32massert\u001b[0m \u001b[0;36m2\u001b[0m\u001b[0;34m<=\u001b[0m\u001b[0mb\u001b[0m\u001b[0;34m<=\u001b[0m\u001b[0;36m36\u001b[0m\u001b[0;34m\u001b[0m\u001b[0m\n\u001b[0m\u001b[1;32m      7\u001b[0m \u001b[0;34m\u001b[0m\u001b[0m\n\u001b[1;32m      8\u001b[0m     \u001b[0;32mif\u001b[0m \u001b[0mn\u001b[0m\u001b[0;34m==\u001b[0m\u001b[0;36m0\u001b[0m\u001b[0;34m:\u001b[0m\u001b[0;34m\u001b[0m\u001b[0m\n",
      "\u001b[0;31mAssertionError\u001b[0m: "
     ]
    }
   ],
   "source": [
    "convert_base(161, 16)\n",
    "convert_base(10, 2)\n",
    "convert_base(10, 80)"
   ]
  },
  {
   "cell_type": "markdown",
   "metadata": {},
   "source": [
    "## Memory model\n",
    "By understanding Python's memory model we \n",
    "<ol>\n",
    "  <li>can distinguish between objects that can be mutated and those that cannot. We can also understand how to mutate objects.</li>\n",
    "    <li>can write a more efficient code.</li>\n",
    "</ol>\n"
   ]
  },
  {
   "cell_type": "markdown",
   "metadata": {},
   "source": [
    "\n",
    "\n",
    "#### Motivation examples:"
   ]
  },
  {
   "cell_type": "code",
   "execution_count": 7,
   "metadata": {},
   "outputs": [
    {
     "name": "stdout",
     "output_type": "stream",
     "text": [
      "30\n"
     ]
    }
   ],
   "source": [
    "def change_num(num):\n",
    "    num = 999\n",
    "\n",
    "x = 30\n",
    "change_num(x)\n",
    "print(x)\n"
   ]
  },
  {
   "cell_type": "code",
   "execution_count": 1,
   "metadata": {},
   "outputs": [
    {
     "name": "stdout",
     "output_type": "stream",
     "text": [
      "[1, 2, 3]\n",
      "[1, 2, 3, 999]\n"
     ]
    }
   ],
   "source": [
    "def add_to_list(lst):\n",
    "    lst.append(999)\n",
    "    \n",
    "mylst = [1, 2, 3]\n",
    "print(mylst)\n",
    "\n",
    "add_to_list(mylst)\n",
    "print(mylst)"
   ]
  },
  {
   "cell_type": "code",
   "execution_count": 2,
   "metadata": {},
   "outputs": [
    {
     "name": "stdout",
     "output_type": "stream",
     "text": [
      "[1, 2, 3]\n",
      "[1, 2, 3]\n"
     ]
    }
   ],
   "source": [
    "def change_lst(lst):\n",
    "    lst = []\n",
    "\n",
    "mylst = [1, 2, 3]\n",
    "print(mylst)\n",
    "\n",
    "change_lst(mylst)\n",
    "print(mylst)"
   ]
  },
  {
   "cell_type": "markdown",
   "metadata": {},
   "source": [
    "#### Programs examined with [Python tutor](http:\\\\www.pythontutor.com):"
   ]
  },
  {
   "cell_type": "code",
   "execution_count": null,
   "metadata": {},
   "outputs": [],
   "source": [
    "#1 basics  #####################################################\n",
    "a = 1000                #1\n",
    "b = \"hello\"             #2\n",
    "a += len(b)             #3\n",
    "c = 2*b[:2]             #4\n",
    "if b != c:              #5\n",
    "    c = b               #6\n",
    "del c                   #7"
   ]
  },
  {
   "cell_type": "code",
   "execution_count": null,
   "metadata": {},
   "outputs": [],
   "source": [
    "#2 lists  #####################################################\n",
    "a = 1000                #1\n",
    "d = [a, 2]              #2\n",
    "d[1] = -1               #3\n",
    "a = 1003                #4\n",
    "for x in d:             #5a\n",
    "    x = 7               #5b"
   ]
  },
  {
   "cell_type": "code",
   "execution_count": null,
   "metadata": {},
   "outputs": [],
   "source": [
    "#3 funcs  #####################################################\n",
    "a = 1000                #1\n",
    "b = \"hello\"             #2\n",
    "def is_palindrome(a):   #3a\n",
    "    b = a[::-1]         #3b\n",
    "    return a == b       #3c\n",
    "is_pal = is_palindrome  #4\n",
    "x = is_pal(b)           #5"
   ]
  },
  {
   "cell_type": "code",
   "execution_count": null,
   "metadata": {},
   "outputs": [],
   "source": [
    "#4 lists+funcs  #####################################################\n",
    "a = 1000                #1\n",
    "d = [a, 2]              #2\n",
    "def f(a, d):            #3a\n",
    "    a = 2000            #3b\n",
    "    d[0] = a            #3c\n",
    "    d = []              #3d\n",
    "    return d            #3e\n",
    "x = f(a, d)             #4"
   ]
  },
  {
   "cell_type": "markdown",
   "metadata": {},
   "source": [
    "Extend(), append(), sort(), and sorted():"
   ]
  },
  {
   "cell_type": "code",
   "execution_count": 5,
   "metadata": {},
   "outputs": [
    {
     "data": {
      "text/plain": [
       "79625288"
      ]
     },
     "execution_count": 5,
     "metadata": {},
     "output_type": "execute_result"
    },
    {
     "name": "stdout",
     "output_type": "stream",
     "text": [
      "[3, 2, 1]\n"
     ]
    },
    {
     "data": {
      "text/plain": [
       "79625672"
      ]
     },
     "execution_count": 5,
     "metadata": {},
     "output_type": "execute_result"
    },
    {
     "name": "stdout",
     "output_type": "stream",
     "text": [
      "[3, 2, 1, 0]\n"
     ]
    },
    {
     "data": {
      "text/plain": [
       "79625672"
      ]
     },
     "execution_count": 5,
     "metadata": {},
     "output_type": "execute_result"
    },
    {
     "name": "stdout",
     "output_type": "stream",
     "text": [
      "[3, 2, 1, 0, 4]\n"
     ]
    },
    {
     "data": {
      "text/plain": [
       "79625672"
      ]
     },
     "execution_count": 5,
     "metadata": {},
     "output_type": "execute_result"
    },
    {
     "name": "stdout",
     "output_type": "stream",
     "text": [
      "[3, 5, 2, 1, 0, 4]\n"
     ]
    },
    {
     "data": {
      "text/plain": [
       "79625672"
      ]
     },
     "execution_count": 5,
     "metadata": {},
     "output_type": "execute_result"
    },
    {
     "name": "stdout",
     "output_type": "stream",
     "text": [
      "[3, 5, 2, 1, 0, 4, 6, 7]\n"
     ]
    },
    {
     "data": {
      "text/plain": [
       "79625672"
      ]
     },
     "execution_count": 5,
     "metadata": {},
     "output_type": "execute_result"
    },
    {
     "name": "stdout",
     "output_type": "stream",
     "text": [
      "[3, 5, 2, 1, 0, 4, 6, 7, 8]\n"
     ]
    }
   ],
   "source": [
    "#5 – lists operators and methods #####################################################\n",
    "lst = [3, 2, 1]\n",
    "id(lst)\n",
    "print(lst)\n",
    "\n",
    "lst = lst+[0] \n",
    "id(lst)\n",
    "print(lst)\n",
    "\n",
    "lst.append(4)\n",
    "id(lst)\n",
    "print(lst)\n",
    "\n",
    "lst.insert(1,5)\n",
    "id(lst)\n",
    "print(lst)\n",
    "\n",
    "lst.extend([6,7])\n",
    "id(lst)\n",
    "print(lst)\n",
    "\n",
    "lst += [8] \n",
    "id(lst)\n",
    "print(lst)\n"
   ]
  },
  {
   "cell_type": "code",
   "execution_count": 6,
   "metadata": {},
   "outputs": [
    {
     "data": {
      "text/plain": [
       "79625672"
      ]
     },
     "execution_count": 6,
     "metadata": {},
     "output_type": "execute_result"
    },
    {
     "name": "stdout",
     "output_type": "stream",
     "text": [
      "[3, 5, 2, 1, 0, 4, 6, 7, 8]\n"
     ]
    },
    {
     "data": {
      "text/plain": [
       "79625672"
      ]
     },
     "execution_count": 6,
     "metadata": {},
     "output_type": "execute_result"
    },
    {
     "name": "stdout",
     "output_type": "stream",
     "text": [
      "[3, 5, 2, 1, 0, 4, 6, 7, 8]\n"
     ]
    },
    {
     "data": {
      "text/plain": [
       "79625672"
      ]
     },
     "execution_count": 6,
     "metadata": {},
     "output_type": "execute_result"
    },
    {
     "name": "stdout",
     "output_type": "stream",
     "text": [
      "[0, 1, 2, 3, 4, 5, 6, 7, 8]\n"
     ]
    }
   ],
   "source": [
    "id(lst)\n",
    "print(lst)\n",
    "\n",
    "#sorted returns a sorted copy of the list, and does not change the original one\n",
    "lst2 = sorted(lst)\n",
    "id(lst)\n",
    "print(lst)\n",
    "\n",
    "#list.sort() sorts in place, and does not return anything\n",
    "lst.sort()\n",
    "id(lst)\n",
    "print(lst)\n"
   ]
  },
  {
   "cell_type": "markdown",
   "metadata": {},
   "source": [
    "## comparison between + and +=  "
   ]
  },
  {
   "cell_type": "markdown",
   "metadata": {},
   "source": [
    "We use + or += operators in order to construct the same list.\n",
    "\n",
    "Using operator +: less efficient, since a new list is constructed every iteration\n",
    "the number of integers written to memory equals 1+2+ ... + n = (n+1)*n/2\n",
    "(= asumptotically speaking, grows quadratically with n)\n",
    "\n",
    "Using operator +=: more efficient, since the same list is extended again and again\n",
    "the number of integers written to memory equals n\n",
    "(= asumptotically speaking, grows linearly with n)"
   ]
  },
  {
   "cell_type": "markdown",
   "metadata": {},
   "source": [
    "### memory and running times"
   ]
  },
  {
   "cell_type": "code",
   "execution_count": 26,
   "metadata": {},
   "outputs": [],
   "source": [
    "import time"
   ]
  },
  {
   "cell_type": "code",
   "execution_count": 29,
   "metadata": {},
   "outputs": [
    {
     "name": "stdout",
     "output_type": "stream",
     "text": [
      "Extending a list n= 20000 times, using the + operator took 1.8216400000000021 seconds\n",
      "Extending a list n= 20000 times, using the += operator (extend()) took 0.009539999999994109 seconds\n"
     ]
    }
   ],
   "source": [
    "n= 20000\n",
    "\n",
    "lst = []\n",
    "t0 = time.process_time()\n",
    "for i in range(n):\n",
    "\tlst = lst + [i]\n",
    "t1 = time.process_time()\n",
    "print(\"Extending a list n=\", n, \"times, using the + operator took\", t1 - t0, \"seconds\")\n",
    "\n",
    "\n",
    "\n",
    "lst = []\n",
    "t0 = time.process_time()\n",
    "for i in range(n):\n",
    "\tlst += [i]\n",
    "t1 = time.process_time()\n",
    "print(\"Extending a list n=\", n, \"times, using the += operator (extend()) took\", t1 - t0, \"seconds\")\n"
   ]
  },
  {
   "cell_type": "markdown",
   "metadata": {},
   "source": [
    "We double the size of the input."
   ]
  },
  {
   "cell_type": "code",
   "execution_count": 31,
   "metadata": {},
   "outputs": [
    {
     "name": "stdout",
     "output_type": "stream",
     "text": [
      "Extending a list n= 40000 times, using the + operator took 8.112637999999997 seconds\n",
      "Extending a list n= 40000 times, using the += operator (extend()) took 0.022804000000000713 seconds\n"
     ]
    }
   ],
   "source": [
    "n = 40000\n",
    "\n",
    "lst = []\n",
    "t0 = time.process_time()\n",
    "for i in range(n):\n",
    "\tlst = lst + [i]\n",
    "t1 = time.process_time()\n",
    "print(\"Extending a list n=\", n, \"times, using the + operator took\", t1 - t0, \"seconds\")\n",
    "\n",
    "\n",
    "\n",
    "lst = []\n",
    "t0 = time.process_time()\n",
    "for i in range(n):\n",
    "\tlst += [i]\n",
    "t1 = time.process_time()\n",
    "print(\"Extending a list n=\", n, \"times, using the += operator (extend()) took\", t1 - t0, \"seconds\")\n"
   ]
  },
  {
   "cell_type": "markdown",
   "metadata": {},
   "source": [
    "______________________________________________________________\n",
    "\n",
    "In accordance with the theory, the running time of the inefficient code increases by a factor of approximately $2^2 = 4$ as n increases by 2, while the running time of the efficient code increases by a factor of approximately 2.\n",
    "Apparently n is large enough for the constants not to play a serious role, so that the measurements agree with the asymptotic analysis."
   ]
  },
  {
   "cell_type": "markdown",
   "metadata": {},
   "source": [
    "## Binary Search"
   ]
  },
  {
   "cell_type": "markdown",
   "metadata": {},
   "source": [
    "Question from an exam: Implement find_steady, a function that receives a list $L$ of sorted (ascending) unique integers, and returns a value $i \\geq 0$ s.t. $L[i] == i$. If there is no such $i$, None is returned. If there is more than one such index, any one of them can be returned.\n",
    "\n",
    "For example:  \n",
    "find_steady([3, 5, 9, 17]) => None  \n",
    "find_steady([-3, 0, 2, 10]) => 2"
   ]
  },
  {
   "cell_type": "markdown",
   "metadata": {},
   "source": [
    "### A non-efficient solution"
   ]
  },
  {
   "cell_type": "code",
   "execution_count": 39,
   "metadata": {},
   "outputs": [
    {
     "name": "stdout",
     "output_type": "stream",
     "text": [
      "None\n",
      "2\n"
     ]
    }
   ],
   "source": [
    "def find_steady(lst):\n",
    "    for i in range(len(lst)):\n",
    "        if lst[i] == i:\n",
    "            return i\n",
    "    \n",
    "    return None\n",
    "\n",
    "print(find_steady([3, 5, 9, 17]))\n",
    "print(find_steady([-3, 0, 2, 10]))"
   ]
  },
  {
   "cell_type": "markdown",
   "metadata": {},
   "source": [
    "### Solution using binary search"
   ]
  },
  {
   "cell_type": "code",
   "execution_count": 40,
   "metadata": {},
   "outputs": [
    {
     "name": "stdout",
     "output_type": "stream",
     "text": [
      "None\n",
      "2\n"
     ]
    }
   ],
   "source": [
    "def find_steady(lst):\n",
    "    n = len(lst)\n",
    "    left = 0\n",
    "    right = n-1\n",
    "    while left <= right:\n",
    "        middle = (right + left) // 2 # middle rounded down\n",
    "        if middle == lst[middle]: # item found\n",
    "            return middle\n",
    "        elif middle < lst[middle]: # item not in top half\n",
    "            right = middle - 1\n",
    "        else: # item not in bottom half\n",
    "            left = middle + 1\n",
    "\n",
    "    return None\n",
    "\n",
    "print(find_steady([3, 5, 9, 17]))\n",
    "print(find_steady([-3, 0, 2, 10]))"
   ]
  },
  {
   "cell_type": "markdown",
   "metadata": {},
   "source": [
    "**Question**: In the worst case, how many operations would we need in each one of these solutions?"
   ]
  },
  {
   "cell_type": "markdown",
   "metadata": {},
   "source": [
    "**Question**: What happens if the values in the list aren't necessarily unique?"
   ]
  },
  {
   "cell_type": "code",
   "execution_count": 33,
   "metadata": {},
   "outputs": [
    {
     "name": "stdout",
     "output_type": "stream",
     "text": [
      "None\n"
     ]
    }
   ],
   "source": [
    "# We would like the function to return 3\n",
    "print(find_steady([-1, 0, 3, 3, 3]))"
   ]
  }
 ],
 "metadata": {
  "kernelspec": {
   "display_name": "Python 3",
   "language": "python",
   "name": "python3"
  },
  "language_info": {
   "codemirror_mode": {
    "name": "ipython",
    "version": 3
   },
   "file_extension": ".py",
   "mimetype": "text/x-python",
   "name": "python",
   "nbconvert_exporter": "python",
   "pygments_lexer": "ipython3",
   "version": "3.7.0"
  }
 },
 "nbformat": 4,
 "nbformat_minor": 1
}
