{
 "cells": [
  {
   "cell_type": "markdown",
   "metadata": {},
   "source": [
    "<h1><center>cs1001.py , Tel Aviv University, Fall 2018/19</center></h1>\n",
    "<img src=\"http://www.pngall.com/wp-content/uploads/2016/05/Python-Logo-PNG-Image-180x180.png\" width=50/>"
   ]
  },
  {
   "cell_type": "markdown",
   "metadata": {},
   "source": [
    "## Exam recitation\n",
    "\n",
    "We went over various questions from previous exams"
   ]
  },
  {
   "cell_type": "markdown",
   "metadata": {},
   "source": [
    "###### Takeaways:\n",
    "- The exam is easy, all you have to do is write down the correct answers\n",
    "- When in doubt, bet on 42"
   ]
  },
  {
   "cell_type": "markdown",
   "metadata": {},
   "source": [
    "#### Code for printing several outputs in one cell (not part of the recitation):"
   ]
  },
  {
   "cell_type": "code",
   "execution_count": 3,
   "metadata": {},
   "outputs": [],
   "source": [
    "from IPython.core.interactiveshell import InteractiveShell\n",
    "InteractiveShell.ast_node_interactivity = \"all\""
   ]
  },
  {
   "cell_type": "markdown",
   "metadata": {},
   "source": [
    "## 2016bb: q3 (recursive generators)"
   ]
  },
  {
   "cell_type": "markdown",
   "metadata": {},
   "source": [
    "Reminder: in the change problem we are given an amount of money to be paid $amount$ and a list of coins $coins$ and we need to return the number of possible combinations for paying back the amount using the coins.\n",
    "\n",
    "Our recursive solution had the following logic:\n",
    "- If we need to return $amount = 0$ then we can do so in only a single way\n",
    "- If we need to return a negative amount or if we don't have any coins we cannot do so at all\n",
    "- Otherwise, we can either:\n",
    "    - Not use the last coin in our possesion at all\n",
    "    - Or, use it *at least* once\n",
    "    \n",
    "This implies a simple recursive algorithm."
   ]
  },
  {
   "cell_type": "code",
   "execution_count": 3,
   "metadata": {},
   "outputs": [],
   "source": [
    "def change(amount, coins):\n",
    "    if amount == 0:\n",
    "        return 1\n",
    "    if amount < 0 or coins == []:\n",
    "        return 0\n",
    "    return change(amount, coins[:-1]) + change(amount - coins[-1], coins)"
   ]
  },
  {
   "cell_type": "code",
   "execution_count": 4,
   "metadata": {},
   "outputs": [
    {
     "data": {
      "text/plain": [
       "5"
      ]
     },
     "execution_count": 4,
     "metadata": {},
     "output_type": "execute_result"
    }
   ],
   "source": [
    "change(5, [1, 2, 3])"
   ]
  },
  {
   "cell_type": "markdown",
   "metadata": {},
   "source": [
    "### Solving with recursion and generators\n",
    "Given $amount$ and $coins$, write a generator function that returns all possible combinations."
   ]
  },
  {
   "cell_type": "code",
   "execution_count": 5,
   "metadata": {},
   "outputs": [],
   "source": [
    "def change_gen(amount, coins):\n",
    "    if (amount == 0):\n",
    "        yield []\n",
    "    elif not (amount < 0 or coins == []):\n",
    "        g = change_gen(amount, coins[:-1])        \n",
    "        for change in g:\n",
    "            yield change\n",
    "            \n",
    "        g = change_gen(amount - coins[-1], coins)            \n",
    "        for change in g:\n",
    "            yield change+[coins[-1]]"
   ]
  },
  {
   "cell_type": "markdown",
   "metadata": {},
   "source": [
    "### Testing"
   ]
  },
  {
   "cell_type": "code",
   "execution_count": 7,
   "metadata": {},
   "outputs": [
    {
     "name": "stdout",
     "output_type": "stream",
     "text": [
      "[1, 1, 1, 1, 1]\n",
      "[1, 1, 1, 2]\n",
      "[1, 2, 2]\n",
      "[1, 1, 3]\n",
      "[2, 3]\n"
     ]
    }
   ],
   "source": [
    "for change in change_gen(5, [1, 2, 3]):\n",
    "    print(change)"
   ]
  },
  {
   "cell_type": "markdown",
   "metadata": {},
   "source": [
    "## Limit on list length\n",
    "\n",
    "Now we are given $amount$, $coins$ and $max\\_len$. We need to return a single generated list of length at most $max_len$, and if none exists return $None$"
   ]
  },
  {
   "cell_type": "code",
   "execution_count": 8,
   "metadata": {},
   "outputs": [],
   "source": [
    "def change_gen_maxlim(amount, coins, max_coins):\n",
    "    for change in change_gen(amount, coins):\n",
    "        if len(change) <= max_coins:\n",
    "            return change\n",
    "    return None"
   ]
  },
  {
   "cell_type": "markdown",
   "metadata": {},
   "source": [
    "### Testing"
   ]
  },
  {
   "cell_type": "code",
   "execution_count": 10,
   "metadata": {},
   "outputs": [
    {
     "data": {
      "text/plain": [
       "[2, 3]"
      ]
     },
     "execution_count": 10,
     "metadata": {},
     "output_type": "execute_result"
    },
    {
     "data": {
      "text/plain": [
       "True"
      ]
     },
     "execution_count": 10,
     "metadata": {},
     "output_type": "execute_result"
    }
   ],
   "source": [
    "change_gen_maxlim(5, [1,2,3], 2)\n",
    "change_gen_maxlim(5, [1,2,3], 1) == None"
   ]
  },
  {
   "cell_type": "markdown",
   "metadata": {},
   "source": [
    "## 2017aa: q4 (repetition code)"
   ]
  },
  {
   "cell_type": "markdown",
   "metadata": {},
   "source": [
    "Consider the following code for encoding a message using the $m$-repetition code:"
   ]
  },
  {
   "cell_type": "code",
   "execution_count": 12,
   "metadata": {},
   "outputs": [],
   "source": [
    "def encode(msg, m):\n",
    "    return \"\".join([bit*m for bit in msg])"
   ]
  },
  {
   "cell_type": "code",
   "execution_count": 13,
   "metadata": {},
   "outputs": [
    {
     "data": {
      "text/plain": [
       "'111111000'"
      ]
     },
     "execution_count": 13,
     "metadata": {},
     "output_type": "execute_result"
    }
   ],
   "source": [
    "encode('110', 3)"
   ]
  },
  {
   "cell_type": "markdown",
   "metadata": {},
   "source": [
    "For a message of length $k$, what is the length and distance of the code?\n",
    "- Length: $mk$\n",
    "- Distance: $m$"
   ]
  },
  {
   "cell_type": "markdown",
   "metadata": {},
   "source": [
    "Give an example of a corrupt message whose distance to two or more legal codewords is the same. Specify values of $m,k$ used.\n",
    "- Parameters: $k=1, m=2$\n",
    "- Word: $01$, has distance $1$ from both $00$ and $11$"
   ]
  },
  {
   "cell_type": "markdown",
   "metadata": {},
   "source": [
    "Given the following majority function, write a decoding function for the code above. The decoding function will work as follows:\n",
    "- If there is a single nearest codeword, return it\n",
    "- Otherwise, return None"
   ]
  },
  {
   "cell_type": "code",
   "execution_count": 17,
   "metadata": {},
   "outputs": [],
   "source": [
    "def majority(bin_s):\n",
    "    n = len(bin_s)\n",
    "    cnt = bin_s.count(\"1\")\n",
    "    if cnt > n/2:\n",
    "        return \"1\"\n",
    "    elif cnt < n/2:\n",
    "        return \"0\"\n",
    "    else:\n",
    "        return None"
   ]
  },
  {
   "cell_type": "markdown",
   "metadata": {},
   "source": [
    "### Decoding function"
   ]
  },
  {
   "cell_type": "code",
   "execution_count": 20,
   "metadata": {},
   "outputs": [],
   "source": [
    "def decode_rep(trans, m):\n",
    "    msg_len = len(trans)//m\n",
    "    msg = \"\"\n",
    "    for i in range(msg_len):\n",
    "        bit = majority(trans[i*m:(i*m)+m])\n",
    "        if bit == None:\n",
    "            return None\n",
    "        else:\n",
    "            msg += bit\n",
    "    return msg"
   ]
  },
  {
   "cell_type": "markdown",
   "metadata": {},
   "source": [
    "### Testing"
   ]
  },
  {
   "cell_type": "code",
   "execution_count": 24,
   "metadata": {},
   "outputs": [
    {
     "data": {
      "text/plain": [
       "'10'"
      ]
     },
     "execution_count": 24,
     "metadata": {},
     "output_type": "execute_result"
    },
    {
     "data": {
      "text/plain": [
       "'10'"
      ]
     },
     "execution_count": 24,
     "metadata": {},
     "output_type": "execute_result"
    },
    {
     "data": {
      "text/plain": [
       "True"
      ]
     },
     "execution_count": 24,
     "metadata": {},
     "output_type": "execute_result"
    }
   ],
   "source": [
    "decode_rep('111000', 3)\n",
    "decode_rep('111001', 3)\n",
    "decode_rep('10', 2) == None\n"
   ]
  },
  {
   "cell_type": "markdown",
   "metadata": {},
   "source": [
    "## Maximal number of errors\n",
    "\n",
    "What is the maximal number of errors such that there is still a unique decoding?\n",
    "\n",
    "There are $k$ blocks, each block of length $m$. In each block we need a majority, thus we can allow $\\left\\lfloor\\frac{m-1}{2}\\right\\rfloor$ errors.\n",
    "\n",
    "In total: $k \\cdot \\left\\lfloor\\frac{m-1}{2}\\right\\rfloor $ errors"
   ]
  },
  {
   "cell_type": "markdown",
   "metadata": {},
   "source": [
    "## 2017bb: q3 (memory allocation)"
   ]
  },
  {
   "cell_type": "markdown",
   "metadata": {},
   "source": [
    "Rate the following snippets by the amount of memory required for each snippet and decide whether its execution will crash due to a lack of memory."
   ]
  },
  {
   "cell_type": "code",
   "execution_count": 12,
   "metadata": {},
   "outputs": [],
   "source": [
    "# Snip 1\n",
    "c = 2**1000+19\n",
    "\n",
    "# Snip 2\n",
    "d = 2**(2**1000)+11\n",
    "\n",
    "# Snip 3\n",
    "def what():\n",
    "    n=0\n",
    "    while n < 2**10000+1:\n",
    "        yield n\n",
    "        n+=1\n",
    "\n",
    "maybe = what()\n",
    "for i in range(2**20+1):\n",
    "    a = next(maybe)\n",
    "\n",
    "# Snip 4\n",
    "lst = [i for i in range(2**(2**1000)+11)] "
   ]
  },
  {
   "cell_type": "markdown",
   "metadata": {},
   "source": [
    "We go over them one by one:\n",
    "- The first snippet requires around $1000$ bits (doable, easy)\n",
    "- The second snippet requires around $2^{1000}$ bits. A regular PC has, say $16gb$ of ram which is $\\approx 2^{34}$ bits. Clearly not doable.\n",
    "- The third snippet requires creating a generator which loops $2^{10000}$ times. While we require a counter for the generator, we only need around $10000$ bits for this counter, so we don't have any problem here and this is indeed doable.\n",
    "- The fourth snippet requires at least $1$ bit per entry for a list of length $2^{2^{1000}}$. Clearly not doable.\n",
    "\n",
    "Space used, in ascending order: 1, 3, 2, 4"
   ]
  },
  {
   "cell_type": "markdown",
   "metadata": {},
   "source": [
    "## 2017bb: q5 (LZ minimum rep. length)"
   ]
  },
  {
   "cell_type": "markdown",
   "metadata": {},
   "source": [
    "In class we've discussed the benefit of not compressing repetitions of length $2$ in the LZ algorithm.\n",
    "\n",
    "Our implementation required a repetition of length at least $3$. A natural question is whether this is the optimal choice of parameter?\n",
    "\n",
    "I.e. - can we find examples where a minimal repetition of $min\\_rep \\geq 4$ is better than one where $min\\_rep \\geq 3$? And how about the other way around?\n",
    "\n",
    "Here is the code for the algorithm where we have added the $min\\_rep$ optional parameter for the compression function:\n"
   ]
  },
  {
   "cell_type": "code",
   "execution_count": 30,
   "metadata": {},
   "outputs": [],
   "source": [
    "def maxmatch(T, p, w=2**12-1, max_length=2**5-1):\n",
    "    \"\"\" finds a maximum match of length k<=2**5-1 in a\n",
    "    w long window, T[p:p+k] with T[p-m:p-m+k].\n",
    "    Returns m (offset) and k (match length) \"\"\"\n",
    "    assert isinstance(T,str)\n",
    "    n = len(T)\n",
    "    maxmatch = 0\n",
    "    offset = 0\n",
    "    # Why do we need the min here?\n",
    "    for m in range(1, min(p+1, w)):\n",
    "        k = 0\n",
    "        # Why do we need the min here?\n",
    "        while k < min(n-p, max_length) and T[p-m+k] == T[p+k]:\n",
    "            k += 1\n",
    "        # at this point, T[p-m:p-m+k]==T[p:p+k]\n",
    "        if maxmatch < k:  \n",
    "            maxmatch = k\n",
    "            offset = m\n",
    "    return offset, maxmatch\n",
    "# returned offset is smallest one (closest to p) among\n",
    "# all max matches (m starts at 1)\n",
    "\n",
    "\n",
    "\n",
    "def LZW_compress(text, w=2**12-1, max_length=2**5-1, min_rep=3):\n",
    "    \"\"\"LZW compression of an ascii text. Produces\n",
    "       a list comprising of either ascii characters\n",
    "       or pairs [m,k] where m is an offset and\n",
    "       k is a match (both are non negative integers) \"\"\"\n",
    "    result = []\n",
    "    n = len(text)\n",
    "    p = 0\n",
    "    while p<n:\n",
    "        m,k = maxmatch(text, p, w, max_length)\n",
    "        if k<min_rep:\n",
    "            result.append(text[p]) #  a single char\n",
    "            p += 1\n",
    "        else:\n",
    "            result.append([m,k])   # two or more chars in match\n",
    "            p += k\n",
    "    return result  # produces a list composed of chars and pairs"
   ]
  },
  {
   "cell_type": "markdown",
   "metadata": {},
   "source": [
    "We claim that we can find both examples where a minimal repetition of $3$ is better and ones where a minimal repetition of $4$ is better. Why is that?\n",
    "The case for $3$ is easy - sometimes we don't have long repetitions. E.g. - $\"abc\"*n$\n",
    "\n",
    "The case for $4$ is a little trickier - the idea is that sometimes a greedy choice that comes in early will hurt us in the long run. Consider the string $\"aab ~|~ abcd ~|~ aabcd\"$ (the dividers are just for visual clarification). \n",
    "\n",
    "The first two blocks are uncompressed in either case. Next, if we take $min\\_rep = 3$ then we will \"catch\" the appearance of $\"aab\"$ in the last block will then be left with $c,d$. However, if we take $min\\_rep = 4$ then we will \"skip\" the first $\"a\"$ in the last block but we will catch $\"abcd\"$\n"
   ]
  },
  {
   "cell_type": "code",
   "execution_count": 31,
   "metadata": {
    "scrolled": false
   },
   "outputs": [
    {
     "data": {
      "text/plain": [
       "['a', 'b', 'c', [3, 3]]"
      ]
     },
     "execution_count": 31,
     "metadata": {},
     "output_type": "execute_result"
    },
    {
     "data": {
      "text/plain": [
       "['a', 'b', 'c', 'a', 'b', 'c']"
      ]
     },
     "execution_count": 31,
     "metadata": {},
     "output_type": "execute_result"
    },
    {
     "data": {
      "text/plain": [
       "['a', 'a', 'b', 'a', 'b', 'c', 'd', [7, 3], 'c', 'd']"
      ]
     },
     "execution_count": 31,
     "metadata": {},
     "output_type": "execute_result"
    },
    {
     "data": {
      "text/plain": [
       "['a', 'a', 'b', 'a', 'b', 'c', 'd', 'a', [5, 4]]"
      ]
     },
     "execution_count": 31,
     "metadata": {},
     "output_type": "execute_result"
    }
   ],
   "source": [
    "LZW_compress('abcabc', min_rep=3)\n",
    "LZW_compress('abcabc', min_rep=4)\n",
    "\n",
    "LZW_compress('aababcdaabcd', min_rep=3)\n",
    "LZW_compress('aababcdaabcd', min_rep=4)"
   ]
  },
  {
   "cell_type": "markdown",
   "metadata": {},
   "source": [
    "## 2018ba: q2 (LZ and Huffman compression ratios)"
   ]
  },
  {
   "cell_type": "markdown",
   "metadata": {},
   "source": [
    "For each of the following strings give their Huffman Tree, LZ intermediate representation and compression ratio (for both compression algorithms):"
   ]
  },
  {
   "cell_type": "code",
   "execution_count": 32,
   "metadata": {},
   "outputs": [],
   "source": [
    "#st1 = \"abc\" * k (1 < k < 10)\n",
    "#st2 = \"abcabcdabcdeabcde\"\n",
    "#st3 = ''.join(['a'*i+'b'*i+'c'*i for i in range(5)]) "
   ]
  },
  {
   "cell_type": "markdown",
   "metadata": {},
   "source": [
    "The Huffman code is attached below"
   ]
  },
  {
   "cell_type": "code",
   "execution_count": 34,
   "metadata": {},
   "outputs": [],
   "source": [
    "def ascii2bit_stream(text):\n",
    "    \"\"\" Translates ASCII text to binary reprersentation using\n",
    "        7 bits per character. Assume only ASCII chars \"\"\"\n",
    "    return \"\".join([bin(ord(c))[2:].zfill(7) for c in text])\n",
    "\n",
    "\n",
    "\n",
    "########################################################\n",
    "#### HUFFMAN CODE\n",
    "########################################################\n",
    "\n",
    "def char_count(text):\n",
    "    \"\"\" Counts the number of each character in text.\n",
    "        Returns a dictionary, with keys being the observed characters,\n",
    "        values being the counts \"\"\"\n",
    "    d = {}\n",
    "    for ch in text:\n",
    "        if ch in d:\n",
    "            d[ch] += 1\n",
    "        else:\n",
    "            d[ch] = 1\n",
    "    return d\n",
    "\n",
    "\n",
    "def build_huffman_tree(char_count_dict):\n",
    "    \"\"\" Recieves dictionary with char:count entries\n",
    "        Generates a LIST structure representing\n",
    "        the binary Huffman encoding tree \"\"\"\n",
    "    queue = [(c,cnt) for (c,cnt) in char_count_dict.items()]\n",
    "\n",
    "    while len(queue) > 1:\n",
    "        #print(queue)\n",
    "        # combine two smallest elements\n",
    "        A, cntA = extract_min(queue)    # smallest in queue\n",
    "        B, cntB = extract_min(queue)    # next smallest\n",
    "        chars = [A,B]\n",
    "        weight = cntA + cntB            # combined weight\n",
    "        queue.append((chars, weight))   # insert combined node\n",
    "\n",
    "    # only root node left\n",
    "    #print(\"final queue:\", queue)\n",
    "    root, weight_trash = extract_min(queue) # weight_trash unused\n",
    "    return root                             #a LIST representing the tree structure\n",
    "\n",
    "\n",
    "def extract_min(queue): \n",
    "    \"\"\" queue is a list of 2-tuples (x,y).\n",
    "        remove and return the tuple with minimal y \"\"\" \n",
    "    min_pair = min(queue, key = lambda pair: pair[1])\n",
    "    queue.remove(min_pair)\n",
    "    return min_pair\n",
    "\n",
    "\n",
    "\n",
    "def generate_code(huff_tree, prefix=\"\"):\n",
    "    \"\"\" Receives a Huffman tree with embedded encoding,\n",
    "        and a prefix of encodings.\n",
    "        returns a dictionary where characters are\n",
    "        keys and associated binary strings are values.\"\"\"\n",
    "    if isinstance(huff_tree, str): # a leaf\n",
    "        return {huff_tree: prefix}\n",
    "    else:\n",
    "        lchild, rchild = huff_tree[0], huff_tree[1]\n",
    "        codebook = {}\n",
    "\n",
    "        codebook.update(generate_code(lchild, prefix+'0'))\n",
    "        codebook.update(generate_code(rchild, prefix+'1'))\n",
    "        #   oh, the beauty of recursion...\n",
    "        return codebook\n",
    "\n",
    "    \n",
    "def compress(text, encoding_dict):\n",
    "    \"\"\" compress text using encoding dictionary \"\"\"\n",
    "    assert isinstance(text, str)\n",
    "    return \"\".join(encoding_dict[ch] for ch in text)\n",
    "\n",
    "\n",
    "def reverse_dict(d):\n",
    "    \"\"\" build the \"reverse\" of encoding dictionary \"\"\"\n",
    "    return {y:x for (x,y) in d.items()}\n",
    "\n",
    "\n",
    "def decompress(bits, decoding_dict):\n",
    "    prefix = \"\"\n",
    "    result = []\n",
    "    for bit in bits:\n",
    "        prefix += bit\n",
    "        if prefix in decoding_dict:\n",
    "            result.append(decoding_dict[prefix])\n",
    "            prefix = \"\"  #restart\n",
    "    assert prefix == \"\" # must finish last codeword\n",
    "    return \"\".join(result)  # converts list of chars to a string"
   ]
  },
  {
   "cell_type": "markdown",
   "metadata": {},
   "source": [
    "## First string\n",
    "For the first string, we get the following tree (here $k=1$ which of course doesn't matter because any multiple will still give a uniform distribution of characters)"
   ]
  },
  {
   "cell_type": "code",
   "execution_count": 37,
   "metadata": {
    "scrolled": true
   },
   "outputs": [
    {
     "name": "stdout",
     "output_type": "stream",
     "text": [
      "['c', ['a', 'b']]\n",
      "[['a', 'b'], ['c', ['e', 'd']]]\n",
      "['c', ['a', 'b']]\n"
     ]
    }
   ],
   "source": [
    "t1 = build_huffman_tree(char_count(\"abc\"*1))\n",
    "print(t1)"
   ]
  },
  {
   "cell_type": "markdown",
   "metadata": {},
   "source": [
    "So we have $c = 0, a = 01, b = 00$, so we require $5\\cdot k$ bits to represent the compressed string as opposed to $7\\cdot k$ bits uncompressed.\n",
    "\n",
    "The LZ intermediate representation is (for $k=9$):"
   ]
  },
  {
   "cell_type": "code",
   "execution_count": 41,
   "metadata": {
    "scrolled": true
   },
   "outputs": [
    {
     "name": "stdout",
     "output_type": "stream",
     "text": [
      "['a', 'b', 'c', [3, 24]]\n",
      "['a', 'b', 'c', [3, 3], 'd', [4, 4], 'e', [5, 5]]\n",
      "['a', 'b', 'c', 'a', 'a', 'b', 'b', 'c', [6, 3], [7, 3], [8, 3], [9, 4], [10, 4], [11, 4], 'c']\n"
     ]
    }
   ],
   "source": [
    "print(LZW_compress('abc'*9))"
   ]
  },
  {
   "cell_type": "markdown",
   "metadata": {},
   "source": [
    "So the LZ representation requires $3 \\cdot 8 + 1 \\cdot 18$ (for any $k$!) bits versus the uncompressed $7\\cdot k$ bits"
   ]
  },
  {
   "cell_type": "markdown",
   "metadata": {},
   "source": [
    "## Second string\n",
    "For the second string, we get the following char count ($a=b=c=4,d=3,e=2$) and thus the following tree:"
   ]
  },
  {
   "cell_type": "code",
   "execution_count": 43,
   "metadata": {
    "scrolled": true
   },
   "outputs": [
    {
     "name": "stdout",
     "output_type": "stream",
     "text": [
      "[['a', 'b'], ['c', ['e', 'd']]]\n"
     ]
    }
   ],
   "source": [
    "t2 = build_huffman_tree(char_count(\"abcabcdabcdeabcde\"))\n",
    "print(t2)"
   ]
  },
  {
   "cell_type": "markdown",
   "metadata": {},
   "source": [
    "So we have $a = 00, b = 01, c = 10, d = 110, e = 111$, so we require $(4+4+4)\\cdot 2$ bits to represent all occurrences of $a,b,c$ and $(3+2) \\cdot 3$ for $d,e$. In total, $39$ bits as opposed to $17 \\cdot 7$ uncompressed.\n",
    "\n",
    "The LZ intermediate representation is:"
   ]
  },
  {
   "cell_type": "code",
   "execution_count": 44,
   "metadata": {
    "scrolled": true
   },
   "outputs": [
    {
     "name": "stdout",
     "output_type": "stream",
     "text": [
      "['a', 'b', 'c', [3, 3], 'd', [4, 4], 'e', [5, 5]]\n",
      "['a', 'b', 'c', 'a', 'a', 'b', 'b', 'c', [6, 3], [7, 3], [8, 3], [9, 4], [10, 4], [11, 4], 'c']\n"
     ]
    }
   ],
   "source": [
    "print(LZW_compress(\"abcabcdabcdeabcde\"))\n",
    "\n",
    "print(LZW_compress(''.join(['a'*i+'b'*i+'c'*i for i in range(5)])))\n",
    "\n"
   ]
  },
  {
   "cell_type": "markdown",
   "metadata": {},
   "source": [
    "So the LZ representation requires $5 \\cdot 8 + 3 \\cdot 18$ bits versus the uncompressed $7\\cdot 17$ bits"
   ]
  },
  {
   "cell_type": "markdown",
   "metadata": {},
   "source": [
    "## Third string\n",
    "For the third string, we get again a uniform distribution so the tree is similar to the first one:"
   ]
  },
  {
   "cell_type": "code",
   "execution_count": 46,
   "metadata": {
    "scrolled": true
   },
   "outputs": [
    {
     "name": "stdout",
     "output_type": "stream",
     "text": [
      "['c', ['a', 'b']]\n"
     ]
    }
   ],
   "source": [
    "t3 = build_huffman_tree(char_count(''.join(['a'*i+'b'*i+'c'*i for i in range(5)]) ))\n",
    "print(t3)"
   ]
  },
  {
   "cell_type": "markdown",
   "metadata": {},
   "source": [
    "So we have again $c = 0, a = 01, b = 00$. Now, each character appears $1+2+3+4 = 10$ times so we require $5\\cdot 30$ bits to represent the compressed string as opposed to $7\\cdot 30$ bits uncompressed.\n",
    "\n",
    "The LZ intermediate representation is:"
   ]
  },
  {
   "cell_type": "code",
   "execution_count": 47,
   "metadata": {
    "scrolled": true
   },
   "outputs": [
    {
     "name": "stdout",
     "output_type": "stream",
     "text": [
      "['a', 'b', 'c', 'a', 'a', 'b', 'b', 'c', [6, 3], [7, 3], [8, 3], [9, 4], [10, 4], [11, 4], 'c']\n"
     ]
    }
   ],
   "source": [
    "print(LZW_compress(''.join(['a'*i+'b'*i+'c'*i for i in range(5)])))\n",
    "\n"
   ]
  },
  {
   "cell_type": "markdown",
   "metadata": {},
   "source": [
    "So the LZ representation requires $9 \\cdot 8 + 6 \\cdot 18$ bits versus the uncompressed $7\\cdot 30$ bits"
   ]
  },
  {
   "cell_type": "markdown",
   "metadata": {},
   "source": [
    "## 2016ab: q3 (recursive comparison of strings)"
   ]
  },
  {
   "cell_type": "markdown",
   "metadata": {},
   "source": [
    "Implement a recursive function $comp(st1,st2)$ which returns true iff $st1 == st2$.\n",
    "\n",
    "Guidelines:\n",
    "- Use recursion\n",
    "- You may only compare single characters (and not substrings)"
   ]
  },
  {
   "cell_type": "code",
   "execution_count": 1,
   "metadata": {},
   "outputs": [],
   "source": [
    "def comp(s1, s2):\n",
    "    if len(s1) == 0 and len(s2) == 0:\n",
    "        return True\n",
    "    if len(s1) == 0 or len(s2) == 0:\n",
    "        return False\n",
    "    if s1[0] != s2[0]:\n",
    "        return False\n",
    "    return comp(s1[1:], s2[1:])"
   ]
  },
  {
   "cell_type": "markdown",
   "metadata": {},
   "source": [
    "## Testing\n"
   ]
  },
  {
   "cell_type": "code",
   "execution_count": 4,
   "metadata": {
    "scrolled": true
   },
   "outputs": [
    {
     "data": {
      "text/plain": [
       "True"
      ]
     },
     "execution_count": 4,
     "metadata": {},
     "output_type": "execute_result"
    },
    {
     "data": {
      "text/plain": [
       "False"
      ]
     },
     "execution_count": 4,
     "metadata": {},
     "output_type": "execute_result"
    },
    {
     "data": {
      "text/plain": [
       "True"
      ]
     },
     "execution_count": 4,
     "metadata": {},
     "output_type": "execute_result"
    }
   ],
   "source": [
    "comp('ab','ab')\n",
    "comp('ab','abx')\n",
    "comp('','')"
   ]
  },
  {
   "cell_type": "markdown",
   "metadata": {},
   "source": [
    "## Adding a single joker\n",
    "\n",
    "In this implementation $s1$ can contain the character $+$ which is equal to any single character in $s2$.\n",
    "\n",
    "\n",
    "Guidelines: Add two lines in the commented area to accomodate the change"
   ]
  },
  {
   "cell_type": "code",
   "execution_count": 8,
   "metadata": {},
   "outputs": [],
   "source": [
    "def comp_plus(s1, s2):\n",
    "    if len(s1) == 0 and len(s2) == 0:\n",
    "        return True\n",
    "    if len(s1) == 0 or len(s2) == 0:\n",
    "        return False\n",
    "    \n",
    "    ### ADD HERE ###\n",
    "    if s1[0] == '+':\n",
    "        return comp_plus(s1[1:], s2[1:])\n",
    "    ### ADD HERE ###\n",
    "    \n",
    "    if s1[0] != s2[0]:\n",
    "        return False\n",
    "    return comp_plus(s1[1:], s2[1:])"
   ]
  },
  {
   "cell_type": "markdown",
   "metadata": {},
   "source": [
    "## Testing\n"
   ]
  },
  {
   "cell_type": "code",
   "execution_count": 10,
   "metadata": {
    "scrolled": true
   },
   "outputs": [
    {
     "data": {
      "text/plain": [
       "True"
      ]
     },
     "execution_count": 10,
     "metadata": {},
     "output_type": "execute_result"
    },
    {
     "data": {
      "text/plain": [
       "True"
      ]
     },
     "execution_count": 10,
     "metadata": {},
     "output_type": "execute_result"
    },
    {
     "data": {
      "text/plain": [
       "False"
      ]
     },
     "execution_count": 10,
     "metadata": {},
     "output_type": "execute_result"
    },
    {
     "data": {
      "text/plain": [
       "True"
      ]
     },
     "execution_count": 10,
     "metadata": {},
     "output_type": "execute_result"
    }
   ],
   "source": [
    "comp_plus('ab','ab')\n",
    "comp_plus('ab+','abx')\n",
    "comp_plus('ab+','abxx')\n",
    "comp_plus('a++x','abxx')\n"
   ]
  },
  {
   "cell_type": "markdown",
   "metadata": {},
   "source": [
    "## Adding a multiple length joker\n",
    "\n",
    "In this implementation $s1$ can contain the character $*$ which is equal to any substring of length $1$ or more in $s2$\n",
    "\n",
    "\n",
    "Guidelines: \n",
    "- Add two lines in the commented area to accomodate the change\n",
    "- Here $s1$ will not contain the plus sign from the previous section"
   ]
  },
  {
   "cell_type": "code",
   "execution_count": 36,
   "metadata": {},
   "outputs": [],
   "source": [
    "def comp_wild(s1, s2):\n",
    "    if len(s1) == 0 and len(s2) == 0:\n",
    "        return True\n",
    "    if len(s1) == 0 or len(s2) == 0:\n",
    "        return False\n",
    "    \n",
    "    ### ADD HERE ###\n",
    "    if s1[0] == '*':\n",
    "        return comp_wild(s1, s2[1:]) or comp_wild(s1[1:], s2[1:])\n",
    "    ### ADD HERE ###\n",
    "    \n",
    "    if s1[0] != s2[0]:\n",
    "        return False\n",
    "    return comp_wild(s1[1:], s2[1:])"
   ]
  },
  {
   "cell_type": "markdown",
   "metadata": {},
   "source": [
    "## Testing\n"
   ]
  },
  {
   "cell_type": "code",
   "execution_count": 37,
   "metadata": {
    "scrolled": true
   },
   "outputs": [
    {
     "data": {
      "text/plain": [
       "True"
      ]
     },
     "execution_count": 37,
     "metadata": {},
     "output_type": "execute_result"
    },
    {
     "data": {
      "text/plain": [
       "True"
      ]
     },
     "execution_count": 37,
     "metadata": {},
     "output_type": "execute_result"
    },
    {
     "data": {
      "text/plain": [
       "True"
      ]
     },
     "execution_count": 37,
     "metadata": {},
     "output_type": "execute_result"
    },
    {
     "data": {
      "text/plain": [
       "False"
      ]
     },
     "execution_count": 37,
     "metadata": {},
     "output_type": "execute_result"
    }
   ],
   "source": [
    "comp_wild('ab','ab')\n",
    "comp_wild('ab*','abx')\n",
    "comp_wild('ab*z','abxyz')\n",
    "comp_wild('a*','a')\n"
   ]
  },
  {
   "cell_type": "markdown",
   "metadata": {},
   "source": [
    "## 2015bb: q5 (fun with Catalan)"
   ]
  },
  {
   "cell_type": "markdown",
   "metadata": {},
   "source": [
    "The Catalan sequence is the following recursive sequence:\n",
    "- Base case: $C(0) = 1$\n",
    "- Recursive rule: $$C(n) = \\sum_{i=0}^{n-1}C(i)\\cdot C(n - i - 1)$$\n",
    "\n",
    "## The iterative case\n",
    "\n",
    "Implement an iterative function that, given $n$, returns $C(n)$."
   ]
  },
  {
   "cell_type": "code",
   "execution_count": 25,
   "metadata": {},
   "outputs": [],
   "source": [
    "def catalan_iter(n):\n",
    "    cat = [0]*(n+1)\n",
    "    cat[0] = 1\n",
    "    for i in range(1, n+1):\n",
    "        for j in range(i):\n",
    "            cat[i] += cat[j] * cat[i - j - 1]\n",
    "    return cat[n]"
   ]
  },
  {
   "cell_type": "markdown",
   "metadata": {},
   "source": [
    "## Testing\n"
   ]
  },
  {
   "cell_type": "code",
   "execution_count": 28,
   "metadata": {
    "scrolled": true
   },
   "outputs": [
    {
     "name": "stdout",
     "output_type": "stream",
     "text": [
      "[1, 1, 2, 5, 14, 42, 132, 429, 1430, 4862]\n"
     ]
    }
   ],
   "source": [
    "print([catalan_iter(i) for i in range(10)])"
   ]
  },
  {
   "cell_type": "markdown",
   "metadata": {},
   "source": [
    "## Running time\n",
    "\n",
    "Assuming all arithmetic operations run in $O(1)$. What is the running time complexity of the code above given $n$?\n",
    "\n",
    "To initialize the array we need time $O(n)$. Apart from that, all operations are constant so we simply need to compute how many loops we do, and this is our beloved arithmetic sequence $1+ 2 + 3 + \\cdots + n = O(n^2)$"
   ]
  },
  {
   "cell_type": "markdown",
   "metadata": {},
   "source": [
    "## The recursive case\n",
    "\n",
    "Implement a memoized recursive function that, given $n$, returns $C(n)$."
   ]
  },
  {
   "cell_type": "code",
   "execution_count": 33,
   "metadata": {},
   "outputs": [],
   "source": [
    "def catalan_rec(n, d = {}):\n",
    "    if n == 0:\n",
    "        return 1\n",
    "    if n in d:\n",
    "        return d[n]\n",
    "    temp = 0\n",
    "    for i in range(n):\n",
    "        temp += catalan_rec(i) * catalan_rec(n - i - 1)\n",
    "    d[n] = temp\n",
    "    return temp"
   ]
  },
  {
   "cell_type": "markdown",
   "metadata": {},
   "source": [
    "## Testing\n"
   ]
  },
  {
   "cell_type": "code",
   "execution_count": 31,
   "metadata": {
    "scrolled": true
   },
   "outputs": [
    {
     "name": "stdout",
     "output_type": "stream",
     "text": [
      "[1, 1, 2, 5, 14, 42, 132, 429, 1430, 4862]\n"
     ]
    }
   ],
   "source": [
    "print([catalan_rec(i) for i in range(10)])"
   ]
  },
  {
   "cell_type": "markdown",
   "metadata": {},
   "source": [
    "## Recursion depth\n",
    "\n",
    "What is the maximum recursion depth of the code?\n",
    "\n",
    "As the second recursive call $catalan\\_rec(n - i - 1)$ goes down by 1 the first time it is called, the recursion depth is clearly $O(n)$.\n",
    "\n",
    "## Running time\n",
    "\n",
    "Assuming all arithmetic operations run in $O(1)$. What is the running time complexity of the code above given $n$?\n",
    "\n",
    "We first note that once we compute $cat(k)$ for some $k$ it is in the dictionary and we never need to compute it again.\n",
    "\n",
    "Next, note that when we compute $cat(k)$ we need to access all $cat(j)$ where $j < k$, and there are at most $n$ such values.\n",
    "\n",
    "It follows that to compute each value requires $O(n)$ once all lower indices are computed, and each lower index is computed once in time at most $O(n)$, thus the running time is still $O(n^2)$"
   ]
  },
  {
   "cell_type": "markdown",
   "metadata": {},
   "source": [
    "## Closed form evaluation\n",
    "\n",
    "Apart from the recursive formula, the Catalan numbers also follow the following formula:\n",
    "$$C(n) = \\prod_{i=2}^{n} \\frac{n+i}{i}$$\n",
    "\n",
    "Given that, explain the following phenomenon:"
   ]
  },
  {
   "cell_type": "code",
   "execution_count": 35,
   "metadata": {},
   "outputs": [
    {
     "data": {
      "text/plain": [
       "3116285494907301262"
      ]
     },
     "execution_count": 35,
     "metadata": {},
     "output_type": "execute_result"
    },
    {
     "data": {
      "text/plain": [
       "1622730281582592000"
      ]
     },
     "execution_count": 35,
     "metadata": {},
     "output_type": "execute_result"
    }
   ],
   "source": [
    "def catalan_closed(n):\n",
    "    res = 1\n",
    "    for i in range(2, n+1):\n",
    "        res *= ((n+i)/i)\n",
    "    return round(res)\n",
    "\n",
    "catalan_iter(35)\n",
    "catalan_closed(35)"
   ]
  },
  {
   "cell_type": "markdown",
   "metadata": {},
   "source": [
    "The discrepancy arises from the fact that the closed form formula uses division. As we get to very large numbers we get rounding errors due to the limited accuracy of Python's floating point arithmetic, and thus we get differing answers (the iterative answer is of course the correct one)"
   ]
  },
  {
   "cell_type": "markdown",
   "metadata": {},
   "source": [
    "## 2015ab - Q5"
   ]
  },
  {
   "cell_type": "markdown",
   "metadata": {},
   "source": [
    "We define a new (recursive) function lz77_compress_new(text, start, w, max_length)"
   ]
  },
  {
   "cell_type": "code",
   "execution_count": 6,
   "metadata": {},
   "outputs": [],
   "source": [
    "import math\n",
    "\n",
    "\n",
    "\n",
    "def maxmatch(T, p, w=2**12-1, max_length=2**5-1):\n",
    "    \"\"\" finds a maximum match of length k<=2**5-1 in a\n",
    "    w long window, T[p:p+k] with T[p-m:p-m+k].\n",
    "    Returns m (offset) and k (match length) \"\"\"\n",
    "    assert isinstance(T,str)\n",
    "    n = len(T)\n",
    "    maxmatch = 0\n",
    "    offset = 0\n",
    "    # Why do we need the min here?\n",
    "    for m in range(1, min(p+1, w)):\n",
    "        k = 0\n",
    "        # Why do we need the min here?\n",
    "        while k < min(n-p, max_length) and T[p-m+k] == T[p+k]:\n",
    "            k += 1\n",
    "        # at this point, T[p-m:p-m+k]==T[p:p+k]\n",
    "        if maxmatch < k:  \n",
    "            maxmatch = k\n",
    "            offset = m\n",
    "    return offset, maxmatch\n",
    "# returned offset is smallest one (closest to p) among\n",
    "# all max matches (m starts at 1)\n",
    "\n",
    "\n",
    " \n",
    "                          \n",
    "def LZW_decompress(compressed, w=2**12-1, max_length=2**5-1):\n",
    "    \"\"\"LZW decompression from intermediate format to ascii text\"\"\"\n",
    "    result = []\n",
    "    n = len(compressed)\n",
    "    p = 0\n",
    "    while p<n:\n",
    "        if type(compressed[p]) == str:  # char, as opposed to a pair\n",
    "            result.append(compressed[p])\n",
    "            p+=1\n",
    "        else:\n",
    "            m,k = compressed[p]\n",
    "            p += 1\n",
    "            for i in range(0,k):\n",
    "                # append k times to result;  \n",
    "                result.append(result[-m])\n",
    "                # fixed offset m \"to the left\", as result itself grows\n",
    "    return \"\".join(result)\n",
    "\n",
    "\n",
    "\n",
    "def LZW_compress2(text, w=2**12-1, max_length=2**5-1):\n",
    "    \"\"\"LZW compression of an ascii text. Produces\n",
    "       a list comprising of either ascii characters\n",
    "       or pairs [m,k] where m is an offset and\n",
    "       k>3 is a match (both are non negative integers) \"\"\"\n",
    "    result = []\n",
    "    n = len(text)\n",
    "    p = 0\n",
    "    while p<n:\n",
    "        m,k = maxmatch(text, p, w, max_length)\n",
    "        if k<3: # modified from k<2\n",
    "            result.append(text[p]) # a single char\n",
    "            p += 1 #even if k was 2 (why?)\n",
    "        else:\n",
    "            result.append([m,k])   # two or more chars in match\n",
    "            p += k\n",
    "    return result  # produces a list composed of chars and pairs\n",
    "\n",
    "          \n",
    "\n",
    "def inter_to_bin(lst, w=2**12-1, max_length=2**5-1):\n",
    "    \"\"\" converts intermediate format compressed list\n",
    "       to a string of bits\"\"\"\n",
    "    offset_width = math.ceil(math.log(w,2))\n",
    "    match_width = math.ceil(math.log(max_length, 2))\n",
    "    #print(offset_width,match_width)   # for debugging\n",
    "    result = []\n",
    "    for elem in lst:\n",
    "        if type(elem) == str:\n",
    "            result.append(\"0\")\n",
    "            result.append('{:07b}'.format(ord(elem)))\n",
    "        elif type(elem) == list:\n",
    "            result.append(\"1\")\n",
    "            m,k = elem\n",
    "            result.append(str(bin(m)[2:]).zfill(offset_width))\n",
    "            result.append(str(bin(k)[2:]).zfill(match_width))     \n",
    "    return \"\".join(ch for ch in result)\n",
    "   \n",
    "def LZW_compress_new(text, start=0, w=2**12-1, max_length=2**5-1):\n",
    "    n = len(text)\n",
    "    if start >= n:\n",
    "        return []\n",
    "    #find the maximal length matching\n",
    "    m,k = maxmatch(text, start, w, max_length)\n",
    "    res1 = [text[start]] + \\\n",
    "    LZW_compress_new(text, start+1, w, max_length)\n",
    "    res1_len = len(inter_to_bin(res1, w, max_length))\n",
    "    if k < 3:\n",
    "        return res1\n",
    "    res2 = [[m,k]] + LZW_compress_new(text, start+k, w, max_length)\n",
    "    res2_len = len(inter_to_bin(res2, w, max_length))\n",
    "\n",
    "    if (res2_len < res1_len):\n",
    "        return res2\n",
    "    return res1\n",
    "   "
   ]
  },
  {
   "cell_type": "markdown",
   "metadata": {},
   "source": [
    "Let s = \"ababcabcd\". What will be the output of LZW_compress2(s) and LZW_compress_new(s, 0)?"
   ]
  },
  {
   "cell_type": "code",
   "execution_count": 3,
   "metadata": {},
   "outputs": [],
   "source": [
    "s = \"ababcabcd\""
   ]
  },
  {
   "cell_type": "code",
   "execution_count": 4,
   "metadata": {},
   "outputs": [
    {
     "data": {
      "text/plain": [
       "['a', 'b', 'a', 'b', 'c', [3, 3], 'd']"
      ]
     },
     "execution_count": 4,
     "metadata": {},
     "output_type": "execute_result"
    }
   ],
   "source": [
    "LZW_compress2(s)"
   ]
  },
  {
   "cell_type": "code",
   "execution_count": 7,
   "metadata": {},
   "outputs": [
    {
     "data": {
      "text/plain": [
       "['a', 'b', 'a', 'b', 'c', [3, 3], 'd']"
      ]
     },
     "execution_count": 7,
     "metadata": {},
     "output_type": "execute_result"
    }
   ],
   "source": [
    "LZW_compress_new(s, 0)"
   ]
  },
  {
   "cell_type": "markdown",
   "metadata": {},
   "source": [
    "Claim: There exists a string s for which\n",
    "\n",
    "\n",
    "    len(inter_to_bin(LZW_compress_new(s, 0))) < len(inter_to_bin(LZW_compress2(s)))\n",
    "    \n",
    "Give an example for such a string s or explain why such a string does not exist"
   ]
  },
  {
   "cell_type": "code",
   "execution_count": 14,
   "metadata": {},
   "outputs": [],
   "source": [
    "s = \"aababcdaabcd\""
   ]
  },
  {
   "cell_type": "code",
   "execution_count": 15,
   "metadata": {},
   "outputs": [
    {
     "data": {
      "text/plain": [
       "['a', 'a', 'b', 'a', 'b', 'c', 'd', [7, 3], 'c', 'd']"
      ]
     },
     "execution_count": 15,
     "metadata": {},
     "output_type": "execute_result"
    }
   ],
   "source": [
    "LZW_compress2(s)"
   ]
  },
  {
   "cell_type": "code",
   "execution_count": 18,
   "metadata": {},
   "outputs": [
    {
     "data": {
      "text/plain": [
       "90"
      ]
     },
     "execution_count": 18,
     "metadata": {},
     "output_type": "execute_result"
    }
   ],
   "source": [
    "len(inter_to_bin(LZW_compress2(s)))"
   ]
  },
  {
   "cell_type": "code",
   "execution_count": 16,
   "metadata": {},
   "outputs": [
    {
     "data": {
      "text/plain": [
       "['a', 'a', 'b', 'a', 'b', 'c', 'd', 'a', [5, 4]]"
      ]
     },
     "execution_count": 16,
     "metadata": {},
     "output_type": "execute_result"
    }
   ],
   "source": [
    "LZW_compress_new(s, 0)"
   ]
  },
  {
   "cell_type": "code",
   "execution_count": 19,
   "metadata": {},
   "outputs": [
    {
     "data": {
      "text/plain": [
       "82"
      ]
     },
     "execution_count": 19,
     "metadata": {},
     "output_type": "execute_result"
    }
   ],
   "source": [
    "len(inter_to_bin(LZW_compress_new(s, 0)))"
   ]
  },
  {
   "cell_type": "markdown",
   "metadata": {},
   "source": [
    "Note that this is the example from before. At each position the algorithm tries to options: (1) writing a repetition or (2) writing a character. Among the two options, it selects the one that returned a shorter binary string."
   ]
  },
  {
   "cell_type": "markdown",
   "metadata": {},
   "source": [
    "Claim: There exists a string s for which\n",
    "\n",
    "\n",
    "    len(inter_to_bin(LZW_compress_new(s, 0))) > len(inter_to_bin(LZW_compress2(s)))\n",
    "    \n",
    "Give an example for such a string s or explain why such a string does not exist"
   ]
  },
  {
   "cell_type": "markdown",
   "metadata": {},
   "source": [
    "Well, this is clearly impossible (there is no such string s).\n",
    "By drawing the recursion tree of the call LZW_compress_new(s,0), one of the paths from root to one of the leaves will be identical to the selections made by the greedy LZW_compress2 algorithm. Therefore, if LZW_comppress2(s) returned the shortest compression among all compression tried out by LZW_compress_new(s,0), then this will also be the result of LZW_comprees_new.\n",
    "\n",
    "In other word, the following is true for every string s:\n",
    "    \n",
    "    len(inter_to_bin(LZW_compress_new(s, 0))) <= len(inter_to_bin(LZW_compress2(s)))\n",
    "    "
   ]
  },
  {
   "cell_type": "code",
   "execution_count": null,
   "metadata": {},
   "outputs": [],
   "source": []
  }
 ],
 "metadata": {
  "kernelspec": {
   "display_name": "Python 3",
   "language": "python",
   "name": "python3"
  },
  "language_info": {
   "codemirror_mode": {
    "name": "ipython",
    "version": 3
   },
   "file_extension": ".py",
   "mimetype": "text/x-python",
   "name": "python",
   "nbconvert_exporter": "python",
   "pygments_lexer": "ipython3",
   "version": "3.6.2"
  }
 },
 "nbformat": 4,
 "nbformat_minor": 1
}
