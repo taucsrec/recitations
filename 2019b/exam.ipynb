{
 "cells": [
  {
   "cell_type": "markdown",
   "metadata": {},
   "source": [
    "<h1><center>cs1001.py , Tel Aviv University, Fall 2018/19</center></h1>\n",
    "<img src=\"http://www.pngall.com/wp-content/uploads/2016/05/Python-Logo-PNG-Image-180x180.png\" width=50/>"
   ]
  },
  {
   "cell_type": "markdown",
   "metadata": {},
   "source": [
    "## Exam recitation\n",
    "\n",
    "We went over various questions from previous exams"
   ]
  },
  {
   "cell_type": "markdown",
   "metadata": {},
   "source": [
    "###### Takeaways:\n",
    "- The exam is easy, all you have to do is write down the correct answers\n",
    "- When in doubt, bet on 42"
   ]
  },
  {
   "cell_type": "markdown",
   "metadata": {},
   "source": [
    "#### Code for printing several outputs in one cell (not part of the recitation):"
   ]
  },
  {
   "cell_type": "code",
   "execution_count": null,
   "metadata": {},
   "outputs": [],
   "source": [
    "from IPython.core.interactiveshell import InteractiveShell\n",
    "InteractiveShell.ast_node_interactivity = \"all\""
   ]
  },
  {
   "cell_type": "markdown",
   "metadata": {},
   "source": [
    "## 2019AA1: Linked Lists"
   ]
  },
  {
   "cell_type": "markdown",
   "metadata": {},
   "source": [
    "A doubly linked list is similar to a linked list, the difference being that:\n",
    "- Each node has a next field (pointing forward) and a prev field (pointing backwards)\n",
    "- The list contains a head field (pointing to the first node) and a tail field (pointing to the last field)"
   ]
  },
  {
   "cell_type": "code",
   "execution_count": null,
   "metadata": {},
   "outputs": [],
   "source": [
    "class Node():\n",
    "\n",
    "    def __init__(self, val):\n",
    "        self.value = val\n",
    "        self.next = None\n",
    "        self.prev = None\n",
    "\n",
    "class DLList():\n",
    "    def __init__(self, lst=None):\n",
    "        self.head = None\n",
    "        self.tail = None\n",
    "        self.len = 0\n",
    "        if lst != None:\n",
    "            for item in lst:\n",
    "                self.insert(item)\n",
    "                \n",
    "    def __len__(self):\n",
    "        return self.len\n",
    "    \n",
    "    def __repr__(self):\n",
    "        n = len(self)\n",
    "        s = \"[\"\n",
    "        node = self.head\n",
    "        for i in range(n):\n",
    "            s += str(node.value)+\", \"\n",
    "            node = node.next\n",
    "        if len(s) > 1:\n",
    "            s = s[:-2] + \"]\"\n",
    "        else:\n",
    "            s += \"]\"\n",
    "        return s\n",
    "        "
   ]
  },
  {
   "cell_type": "markdown",
   "metadata": {},
   "source": [
    "Implement the insert method. The input is $val$ and $first$ a boolean parameter. If $first==True$ insert at head, else insert at tail.\n",
    "\n",
    "Runtime and memory usage should be $O(1)$.\n",
    "\n",
    "The idea is that there are three cases:\n",
    "- If the list is empty the head and tail should be the new node\n",
    "- Otherwise, if $first == True$ we should place the new node at the front of the list and change existing head\n",
    "- Finally, if $first == False$ we should do the same for the tail\n"
   ]
  },
  {
   "cell_type": "code",
   "execution_count": null,
   "metadata": {},
   "outputs": [],
   "source": [
    "class Node():\n",
    "\n",
    "    def __init__(self, val):\n",
    "        self.value = val\n",
    "        self.next = None\n",
    "        self.prev = None\n",
    "\n",
    "class DLList():\n",
    "    def __init__(self, lst=None):\n",
    "        self.head = None\n",
    "        self.tail = None\n",
    "        self.len = 0\n",
    "        if lst != None:\n",
    "            for item in lst:\n",
    "                self.insert(item)\n",
    "                \n",
    "    def __len__(self):\n",
    "        return self.len\n",
    "    \n",
    "    def __repr__(self):\n",
    "        n = len(self)\n",
    "        s = \"[\"\n",
    "        node = self.head\n",
    "        for i in range(n):\n",
    "            s += str(node.value)+\", \"\n",
    "            node = node.next\n",
    "        if len(s) > 1:\n",
    "            s = s[:-2] + \"]\"\n",
    "        else:\n",
    "            s += \"]\"\n",
    "        return s\n",
    "    \n",
    "    def insert(self, val, first=False):\n",
    "        node = Node(val)\n",
    "        if len(self) == 0:\n",
    "            self.head = self.tail = node\n",
    "        elif first:\n",
    "            tmp = self.head\n",
    "            self.head = node\n",
    "            self.head.next = tmp\n",
    "            tmp.prev = self.head\n",
    "        else:\n",
    "            tmp = self.tail\n",
    "            self.tail = node\n",
    "            self.tail.prev = tmp\n",
    "            tmp.next = self.tail\n",
    "        self.len += 1\n",
    "            \n",
    "        "
   ]
  },
  {
   "cell_type": "markdown",
   "metadata": {},
   "source": [
    "Implement the rotate method. Given $0 \\leq k < n$, the $i$th node of the list will change place and become the $(i+k)~\\%~n$ node.\n",
    "\n",
    "Runtime should be $O(\\textrm{min}(k, n-k))$, memory usage should be $O(\\log n)$ and the method should work in place.\n"
   ]
  },
  {
   "cell_type": "code",
   "execution_count": null,
   "metadata": {},
   "outputs": [],
   "source": [
    "class Node():\n",
    "\n",
    "    def __init__(self, val):\n",
    "        self.value = val\n",
    "        self.next = None\n",
    "        self.prev = None\n",
    "\n",
    "class DLList():\n",
    "    def __init__(self, lst=None):\n",
    "        self.head = None\n",
    "        self.tail = None\n",
    "        self.len = 0\n",
    "        if lst != None:\n",
    "            for item in lst:\n",
    "                self.insert(item)\n",
    "                \n",
    "    def __len__(self):\n",
    "        return self.len\n",
    "    \n",
    "    def __repr__(self):\n",
    "        n = len(self)\n",
    "        s = \"[\"\n",
    "        node = self.head\n",
    "        for i in range(n):\n",
    "            s += str(node.value)+\", \"\n",
    "            node = node.next\n",
    "        if len(s) > 1:\n",
    "            s = s[:-2] + \"]\"\n",
    "        else:\n",
    "            s += \"]\"\n",
    "        return s\n",
    "    \n",
    "    def insert(self, val, first=False):\n",
    "        node = Node(val)\n",
    "        if len(self) == 0:\n",
    "            self.head = self.tail = node\n",
    "        elif first:\n",
    "            tmp = self.head\n",
    "            self.head = node\n",
    "            self.head.next = tmp\n",
    "            tmp.prev = self.head\n",
    "        else:\n",
    "            tmp = self.tail\n",
    "            self.tail = node\n",
    "            self.tail.prev = tmp\n",
    "            tmp.next = self.tail\n",
    "        self.len += 1\n",
    "            \n",
    "    def rotate(self, k):\n",
    "        fwd = True\n",
    "        shift = k\n",
    "        if k > len(self) - k:\n",
    "            shift = len(self) - k\n",
    "            fwd = False\n",
    "        self.head.prev = self.tail\n",
    "        self.tail.next = self.head\n",
    "        node = self.head\n",
    "        for i in range(shift):\n",
    "            if fwd:\n",
    "                node = node.prev\n",
    "            else:\n",
    "                node = node.next\n",
    "        self.head = node\n",
    "        self.tail = node.prev\n",
    "        self.head.prev = None\n",
    "        self.tail.next = None"
   ]
  },
  {
   "cell_type": "markdown",
   "metadata": {},
   "source": [
    "### Testing"
   ]
  },
  {
   "cell_type": "code",
   "execution_count": null,
   "metadata": {},
   "outputs": [],
   "source": [
    "L = DLList([i for i in range(10)])\n",
    "print(L)\n",
    "L.rotate(2)\n",
    "print(L)\n"
   ]
  },
  {
   "cell_type": "markdown",
   "metadata": {},
   "source": [
    "## 2018AA5: Rotating trees\n",
    "\n",
    "Given two BSTs $T,S$ we say that $T$ and $S$ are equivalent if they are the same up to a sequence of switching between left and right sons of some of the nodes in the trees. \n",
    "\n",
    "The following trees are equivalent:\n",
    "\n",
    "![title](equiv1.png)\n",
    "\n",
    "But they are not equivalent to this tree:\n",
    "\n",
    "![title](equiv2.png)\n",
    "\n",
    "Implement $equiv(r1, r2)$ which gets two root nodes $r1, r2$ and return $True$ iff they represent roots of equivalent trees. The function should be recursive.\n",
    "\n",
    "The idea is:\n",
    "- Two leaves are equivalent if their key and value are equivalent\n",
    "- Two trees are equivalent if:\n",
    "    - Their roots agree on their keys and values\n",
    "    - Their left sons $L1, L2$ and right sons $R1,R2$ are equivalent, or $L1, R2$ and $L2, R1$ are equivlanet"
   ]
  },
  {
   "cell_type": "code",
   "execution_count": null,
   "metadata": {},
   "outputs": [],
   "source": [
    "class Tree_node():\n",
    "    def __init__(self, key, val):\n",
    "        self.key = key\n",
    "        self.val = val\n",
    "        self.left = None\n",
    "        self.right = None\n",
    "\n",
    "    def __repr__(self):\n",
    "        return \"(\" + str(self.key) + \":\" + str(self.val) + \")\"\n",
    "\n",
    "    def __eq__(self,other):\n",
    "        if other==None:\n",
    "            return False\n",
    "        if self.key==other.key and self.val==other.val:\n",
    "            return True\n",
    "        else:\n",
    "            return False    \n",
    "        \n",
    "class Binary_search_tree():\n",
    "\n",
    "    def __init__(self):\n",
    "        self.root = None\n",
    "\n",
    "\n",
    "    def __repr__(self): #no need to understand the implementation of this one\n",
    "        out = \"\"\n",
    "        for row in printree(self.root): #need printree.py file\n",
    "            out = out + row + \"\\n\"\n",
    "        return out\n",
    "\n",
    "\n",
    "    def lookup(self, key):\n",
    "        ''' return node with key, uses recursion '''\n",
    "\n",
    "        def lookup_rec(node, key):\n",
    "            if node == None:\n",
    "                return None\n",
    "            elif key == node.key:\n",
    "                return node\n",
    "            elif key < node.key:\n",
    "                return lookup_rec(node.left, key)\n",
    "            else:\n",
    "                return lookup_rec(node.right, key)\n",
    "\n",
    "        return lookup_rec(self.root, key)\n",
    "\n",
    "\n",
    "\n",
    "    def insert(self, key, val):\n",
    "        ''' insert node with key,val into tree, uses recursion '''\n",
    "\n",
    "        def insert_rec(node, key, val):\n",
    "            if key == node.key:\n",
    "                node.val = val     # update the val for this key\n",
    "            elif key < node.key:\n",
    "                if node.left == None:\n",
    "                    node.left = Tree_node(key, val)\n",
    "                else:\n",
    "                    insert_rec(node.left, key, val)\n",
    "            else: #key > node.key:\n",
    "                if node.right == None:\n",
    "                    node.right = Tree_node(key, val)\n",
    "                else:\n",
    "                    insert_rec(node.right, key, val)\n",
    "            return\n",
    "        \n",
    "        if self.root == None: #empty tree\n",
    "            self.root = Tree_node(key, val)\n",
    "        else:\n",
    "            insert_rec(self.root, key, val)\n",
    "\n",
    "def equiv(node1, node2):\n",
    "    if node1 == node2 == None:\n",
    "        return True\n",
    "    if node1 == None or node2 == None or node1 != node2:\n",
    "        return False\n",
    "    no_switch = equiv(node1.left, node2.left) and equiv(node1.right, node2.right)\n",
    "    switch = equiv(node1.left, node2.right) and equiv(node1.right, node2.left)\n",
    "    return switch or no_switch"
   ]
  },
  {
   "cell_type": "markdown",
   "metadata": {},
   "source": [
    "### Testing"
   ]
  },
  {
   "cell_type": "code",
   "execution_count": null,
   "metadata": {},
   "outputs": [],
   "source": [
    "T1 = Binary_search_tree()\n",
    "T1.insert(1,1)\n",
    "T1.root.left = Tree_node(2,2)\n",
    "T1.root.right = Tree_node(3,3)\n",
    "T1.root.left.left = Tree_node(4,4)\n",
    "\n",
    "T2 = Binary_search_tree()\n",
    "T2.insert(1,1)\n",
    "T2.root.left = Tree_node(3,3)\n",
    "T2.root.right = Tree_node(2,2)\n",
    "T2.root.right.left = Tree_node(4,4)\n",
    "\n",
    "T3 = Binary_search_tree()\n",
    "T3.insert(1,1)\n",
    "T3.root.left = Tree_node(3,3)\n",
    "T3.root.right = Tree_node(2,2)\n",
    "T3.root.left.left = Tree_node(4,4)\n",
    "\n",
    "equiv(T1.root,T2.root)\n",
    "equiv(T1.root,T3.root)\n",
    "#k = Tree_node(1,1)\n",
    "#p = Tree_node(1,1)\n",
    "#k == p"
   ]
  },
  {
   "cell_type": "markdown",
   "metadata": {},
   "source": [
    "Can memoization help? Not really, since subtrees can be disjoint, we will never reach a tree we've already examined."
   ]
  },
  {
   "cell_type": "markdown",
   "metadata": {},
   "source": [
    "Next, given two roots of $T1,T2$ determine if there exists a non-empty subtree of $T1$ equivalent to a subtree of $T2$.\n",
    "\n",
    "The idea\n",
    "- If the two roots are equivalent (and not empty) we are done\n",
    "- If one of the roots is $None$, we are done\n",
    "- Otherwise:\n",
    "    - There may be a subtree of $T2$ equivalent to $T1$\n",
    "    - Or a subtree of $T1$ equivalent to $T2$"
   ]
  },
  {
   "cell_type": "code",
   "execution_count": null,
   "metadata": {},
   "outputs": [],
   "source": [
    "def subequiv(node1, node2):\n",
    "    if equiv(node1, node2) and node1 != None:\n",
    "        return True\n",
    "    if node1 == None or node2 == None:\n",
    "        return False\n",
    "    t1_stays = subequiv(node1, node2.left) or subequiv(node1, node2.right)\n",
    "    t2_stays = subequiv(node1.left, node2) or subequiv(node1.right, node2)\n",
    "    return t1_stays or t2_stays"
   ]
  },
  {
   "cell_type": "code",
   "execution_count": null,
   "metadata": {},
   "outputs": [],
   "source": [
    "subequiv(T1.root,T2.root)\n",
    "T4 = Binary_search_tree()\n",
    "T4.insert(100,100)\n",
    "T4.root.left = T2.root\n",
    "subequiv(T4.root, T2.root)\n",
    "\n",
    "# Since they share leaves\n",
    "subequiv(T2.root, T3.root)\n"
   ]
  },
  {
   "cell_type": "markdown",
   "metadata": {},
   "source": [
    "## 2018BB5: Hashing\n",
    "\n",
    "For each of the following hash functions for tuples give 2 tuples of integers of length $\\geq 3$ (same length for both tuples) that collide."
   ]
  },
  {
   "cell_type": "markdown",
   "metadata": {},
   "source": [
    "Possible solutions:\n",
    "\n",
    "- Since $hash1$ is dependant on values and parities we can simply mix lists while maintaining parity of positions, e.g.: $$(3, 2, 5), (5, 2, 3)$$\n",
    "- For $hash2$ if the tuples have length $3$ then $hash2(t) = t[0] + 2t[1]+4t[2]$. We can take any $t1$ and place all the weight of $t2$ on the first entry, e.g.: $$(1,1,1), (7,0,0)$$\n",
    "- For $hash3$, each entry is mapped to its integer value when represented in binary (e.g. - $5 \\to 101$). We can get the value of $4 \\to 100$ by summing 10 entries of $2 \\to 10$, so a possible solution is (note that this is not proper python code):\n",
    "$$(2 \\text{ for i in } range(10)),(4, 0 \\text{ for i in } range(9))$$"
   ]
  },
  {
   "cell_type": "code",
   "execution_count": null,
   "metadata": {},
   "outputs": [],
   "source": [
    "hash1 = lambda t : sum([(-1)**i * t[i] for i in range(len(t))])\n",
    "\n",
    "hash2 = lambda t : sum([2**i * t[i] for i in range(len(t))]) \n",
    "\n",
    "hash3 = lambda t : sum(int(bin(t[i])[2:]) for i in range(len(t))) "
   ]
  },
  {
   "cell_type": "code",
   "execution_count": null,
   "metadata": {},
   "outputs": [],
   "source": [
    "hash1((3,2,5))\n",
    "hash1((5,2,3))"
   ]
  },
  {
   "cell_type": "code",
   "execution_count": null,
   "metadata": {
    "scrolled": true
   },
   "outputs": [],
   "source": [
    "hash2((1,1,1))\n",
    "hash2((7,0,0))"
   ]
  },
  {
   "cell_type": "code",
   "execution_count": null,
   "metadata": {},
   "outputs": [],
   "source": [
    "hash3([2 for i in range(10)])\n",
    "hash3([4] + [0 for i in range(9)])"
   ]
  },
  {
   "cell_type": "markdown",
   "metadata": {},
   "source": [
    "Given a list $L$ of $n$ tuples of length $2$ we say that $L$ is symmetric if $(a,b) \\in L \\implies (b,a) \\in L$.\n",
    "\n",
    "Implement $issym$ which gets $L$ as input and returns $True$ iff $L$ is symmetric. The function should run in time $O(n)$ on average.\n",
    "\n",
    "The idea: we create a set from $L$ and then simply iterate over $L$ and check if each opposite member is in the set."
   ]
  },
  {
   "cell_type": "code",
   "execution_count": null,
   "metadata": {},
   "outputs": [],
   "source": [
    "def issym(L):\n",
    "    n = len(L)\n",
    "    s = set(L)\n",
    "    for i in range(n):\n",
    "        (a,b) = L[i]\n",
    "        if (b,a) not in s:\n",
    "            return False\n",
    "    return True\n",
    "\n",
    "issym([(1,2), (2,1), (3,3)])\n",
    "\n",
    "issym([(1,2), (2,1), (3,3), (4,3)])"
   ]
  },
  {
   "cell_type": "markdown",
   "metadata": {},
   "source": [
    "## 2017AA2: Profit\n",
    "\n",
    "Given $n$ and a list of integers $values$ of length $n$, we we will think of a landlord that has an apartment of size $n$ square meters. The landlord can divide his apartment into smaller subapartments and an apartment of size $k \\leq n$ will yield a rent of $value[k-1]$ dollars.\n",
    "\n",
    "E.g., for $n = 4, values=[1,5,8,9]$ we can have:\n",
    "- One apartment of size $4$ renting at $9$ dollars\n",
    "- Two apartments of size $1$ and one of size $2$ renting at $1+1+5=7$ dollars\n",
    "- And so on...\n",
    "\n",
    "Our goal is to find a partition which maximizes the landlords profit. Our solution needs to be recursive and **use no loops**.\n",
    "\n",
    "The idea:\n",
    "- If we don't have any space, or we don't have any partitions available, we make 0 dollars\n",
    "- If we have 1 meter, we make $value[0]$\n",
    "- Otherwise, say the length of $len(value)$ is $i$:\n",
    "    - If we can make an apartment of size $i$, i.e. $i \\leq size$ then we profit $value[i-1]$ and we need to split $size - i$ meters\n",
    "    - Otherwise, we can shorten the length of $len(value)$ to $i-1$ and we still need to split $size$\n",
    "- We compute both of the above and take the max between them"
   ]
  },
  {
   "cell_type": "code",
   "execution_count": null,
   "metadata": {
    "scrolled": true
   },
   "outputs": [],
   "source": [
    "def profit(value, size):\n",
    "    n = len(value)\n",
    "    return profit_rec(value, n, size)\n",
    "\n",
    "def profit_rec(value, i, size):\n",
    "    if size == 0 or i == 0:\n",
    "        return 0\n",
    "    if size == 1:\n",
    "        return value[0]\n",
    "    \n",
    "    with_last = 0\n",
    "    if i <= size:\n",
    "        with_last = profit_rec(value, i, size - i)+value[i-1]\n",
    "        \n",
    "    without_last = profit_rec(value, i - 1, size)\n",
    "    return max(with_last, without_last)\n",
    "\n",
    "profit([1, 5, 8, 9], 4)\n",
    "profit([2, 3, 7, 8, 9], 5)\n",
    "    "
   ]
  },
  {
   "cell_type": "markdown",
   "metadata": {},
   "source": [
    "## 2017AB2: Jump\n",
    "\n",
    "Given a list $lst$ of $n$ integers where $lst[0]=0$ we want to get to $lst[n-1]$ by jumping to the right (i.e. - advancing in the list). \n",
    "\n",
    "We init a counter $cnt=0$ and if we add $lst[i]$ to the counter for every index $i$ we visit.\n",
    "\n",
    "Implement $jump$ which gets a list as described above and returns the minimal total penalty.\n",
    "\n",
    "The idea: We must visit $lst[-1]$ and we should visit any index $i$ s.t. $lst[i] < 0$."
   ]
  },
  {
   "cell_type": "code",
   "execution_count": null,
   "metadata": {},
   "outputs": [],
   "source": [
    "def jump(lst):\n",
    "    # Note the range!\n",
    "    return lst[-1] + sum(lst[i] for i in range(len(lst)-1) if lst[i] < 0)\n",
    "\n",
    "jump([0,4,5,1,2,-3,-5])\n",
    "\n",
    "jump([0,4,5,1,2,-3,2])"
   ]
  },
  {
   "cell_type": "markdown",
   "metadata": {},
   "source": [
    "Jump limited - we now get a parameter $max\\_jump$ and we can now advance only $1 \\leq i \\leq max\\_jump$ steps in each move.\n",
    "\n",
    "Implement $jump\\_rec$ without splicing."
   ]
  },
  {
   "cell_type": "code",
   "execution_count": null,
   "metadata": {},
   "outputs": [],
   "source": [
    "def jump_lim(lst, max_jump):\n",
    "    return jump_rec(lst, max_jump, 0)\n",
    "\n",
    "def jump_rec(lst, max_jump, ind):\n",
    "    if ind == len(lst) - 1:\n",
    "        return lst[ind]\n",
    "    cnt = float(\"inf\")\n",
    "    for j in range(1, max_jump + 1):\n",
    "        if ind+j < len(lst):\n",
    "            res = jump_rec(lst, max_jump, ind+j) + lst[ind]\n",
    "        if res < cnt:\n",
    "            cnt = res\n",
    "    return cnt\n",
    "        \n",
    "jump_lim([0,4,5,1,2,-3,2], 100)\n",
    "jump_lim([0, 2, 2, 0, 4], 3)"
   ]
  },
  {
   "cell_type": "markdown",
   "metadata": {},
   "source": [
    "Add memoization:"
   ]
  },
  {
   "cell_type": "code",
   "execution_count": null,
   "metadata": {},
   "outputs": [],
   "source": [
    "def jump_lim(lst, max_jump):\n",
    "    d = {}\n",
    "    return jump_rec_mem(lst, max_jump, 0, d)\n",
    "\n",
    "def jump_rec_mem(lst, max_jump, ind, d):\n",
    "    if ind == len(lst) - 1:\n",
    "        return lst[ind]\n",
    "    if ind in d:\n",
    "        return d[ind]\n",
    "    \n",
    "    cnt = float(\"inf\")\n",
    "    for j in range(1, max_jump + 1):\n",
    "        if ind+j < len(lst):\n",
    "            res = jump_rec_mem(lst, max_jump, ind+j, d) + lst[ind]\n",
    "        if res < cnt:\n",
    "            cnt = res\n",
    "    d[ind] = cnt\n",
    "    return cnt\n",
    "        \n",
    "jump_lim([0,4,5,1,2,-3,2], 100)\n",
    "jump_lim([0, 2, 2, 0, 4], 3)"
   ]
  },
  {
   "cell_type": "markdown",
   "metadata": {},
   "source": [
    "## 2017BA4b: Rotated strings\n",
    "\n",
    "We say that two strings of lengthh $n$, $s,t$ are rotated if there exists and $0 \\leq i \\leq n$ such that:\n",
    "$$s == t[i:n] + t[0:i]$$\n",
    "\n",
    "I.e., $introtocs$ is a rotation of $tocsintro$ and of $rotocsint$ but not of $introcsto$.\n",
    "\n",
    "Implement $is_rot$ which gets two strings and return $True$ iff they are rotated.\n",
    "\n",
    "The function should work in $O(n)$ and is allowed a small chance of error.\n",
    "\n",
    "Use $fingerprint, fingerprint\\_text$ we've seen when discussing KR."
   ]
  },
  {
   "cell_type": "code",
   "execution_count": null,
   "metadata": {},
   "outputs": [],
   "source": [
    "def is_rot(s, t):\n",
    "    n = len(s)\n",
    "    if n != len(t):\n",
    "        return False\n",
    "    fp = fingerprint(s)\n",
    "    t = t+t\n",
    "    fp_list = substring_fingerprints(t, n)\n",
    "    for i in range(n):\n",
    "        if fp == fp_list[i]:\n",
    "            return True\n",
    "    return False\n",
    "\n",
    "def fingerprint(string,  basis=2**16, r=2**32-3):\n",
    "    \"\"\" used to computes karp-rabin fingerprint of the pattern\n",
    "        and of the first substring in the text\n",
    "        employs Horner method (modulo r) \"\"\"\n",
    "    s = 0\n",
    "    for ch in string:\n",
    "        s = (s*basis + ord(ch)) % r # Horner\n",
    "    return s\n",
    "\n",
    "def substring_fingerprints(string, m,  basis=2**16, r=2**32-3):\n",
    "    \"\"\" return a list of all fingerprints of size m windows in string \"\"\"\n",
    "    fp_list = []\n",
    "    b_power = pow(basis, m-1, r)\n",
    "\n",
    "    # compute first fingerprint\n",
    "    fp_list.append(fingerprint(string[0:m], basis, r))\n",
    "\n",
    "    # compute f_list[s], based on f_list[s-1]\n",
    "    for s in range(1,len(string)-m+1): # O(n-m-1), each iteration O(1)\n",
    "        next_fingerprint = \\\n",
    "                ((fp_list[s-1] - ord(string[s-1])*b_power) * basis \\\n",
    "                              + ord(string[s+m-1])) % r\n",
    "        fp_list.append(next_fingerprint)\n",
    "\n",
    "    return fp_list\n",
    "\n",
    "is_rot(\"introtocs\", \"introtocs\")\n",
    "\n",
    "is_rot(\"introtocs\", \"tocsintro\")\n",
    "\n",
    "is_rot(\"introtocs\", \"introtosc\")\n",
    "\n"
   ]
  },
  {
   "cell_type": "markdown",
   "metadata": {},
   "source": [
    "## 2019AB2: Matching strings\n",
    "Given a list of strings $strlst$ and a string $word$ we say we can construct $word$ from $strlst$ if we can pick at most 1 char from each string in the list that yield $word$.\n",
    "\n",
    "For example, we can construct \"Raz\" from $[\"abc\", \"FOR\", \"buzz\"]$ and also from $[\"abc\", \"FOR\", \"aaa\", \"buzz\", \"hello\"]$ but not from $[\"az\", \"FOR\", \"jkl\"]$\n",
    "\n",
    "Implement the recursive $construct\\_rec$. The idea is that we maintain an index $j$ s.t. we need to construct $word[j:]$ from the list of strings.\n",
    "- If $j==len(word)$ we are done.\n",
    "- Otherwise, we go over the list, for each string we check if it contains $word[j]$ and if so we recurse on $j+1$ and ommit that string from the list\n",
    "- If we exit the loop without success, we return $False$"
   ]
  },
  {
   "cell_type": "code",
   "execution_count": null,
   "metadata": {},
   "outputs": [],
   "source": [
    "def construct(str_list, word):\n",
    "    if len(str_list) < len(word):\n",
    "        return False\n",
    "    return construct_rec(str_list, word, 0)\n",
    "\n",
    "def construct_rec(str_list, word, j):\n",
    "    if j == len(word):\n",
    "        return True\n",
    "    for i in range(len(str_list)):\n",
    "        if word[j] in str_list[i]:\n",
    "            if construct_rec(str_list[:i]+str_list[i+1:], word, j+1):\n",
    "                return True\n",
    "    return False\n",
    "            \n",
    "construct([\"abc\", \"FOR\", \"buzz\"], \"Raz\")    \n",
    "construct([\"az\", \"FOR\", \"jkl\"], \"Raz\")    \n",
    "construct([\"az\", \"FOR\", \"hello\",\"a\"], \"Raz\")"
   ]
  },
  {
   "cell_type": "markdown",
   "metadata": {},
   "source": [
    "Now we need to solve a variant where the order of the strings we take must agree with the order of characters in $word$.\n",
    "\n",
    "E.g., now we can no longer construct \"Raz\" from $[\"abc\", \"FOR\", \"buzz\"]$ but we can from $[\"FOR\", \"abc\", \"jkl\", \"buzz\"]$.\n",
    "\n",
    "The new solution should run in time $O(n)$ where $n$ is the length fo the string list.\n",
    "\n",
    "The idea: we can now be greedy. Whenever we can take a certain string we should, because we will not be able to take it from characters later on."
   ]
  },
  {
   "cell_type": "code",
   "execution_count": null,
   "metadata": {},
   "outputs": [],
   "source": [
    "def construct_order(str_list, word):\n",
    "    i = 0\n",
    "    j = 0\n",
    "    while i < len(word) and j < len(str_list):\n",
    "        if word[i] in str_list[j]:\n",
    "            i += 1\n",
    "        j += 1\n",
    "        \n",
    "        if i == len(word):\n",
    "            return True\n",
    "        \n",
    "    return False\n",
    "        \n",
    "            \n",
    "construct_order([\"abc\", \"FOR\", \"buzz\"], \"Raz\")    \n",
    "construct_order([\"FOR\", \"abc\", \"buzz\"], \"Raz\")    \n",
    "\n"
   ]
  }
 ],
 "metadata": {
  "celltoolbar": "Slideshow",
  "kernelspec": {
   "display_name": "Python 3",
   "language": "python",
   "name": "python3"
  },
  "language_info": {
   "codemirror_mode": {
    "name": "ipython",
    "version": 3
   },
   "file_extension": ".py",
   "mimetype": "text/x-python",
   "name": "python",
   "nbconvert_exporter": "python",
   "pygments_lexer": "ipython3",
   "version": "3.7.1"
  },
  "livereveal": {
   "auto_select": null,
   "auto_select_fragment": false,
   "scroll": true,
   "transition": "none"
  }
 },
 "nbformat": 4,
 "nbformat_minor": 1
}
