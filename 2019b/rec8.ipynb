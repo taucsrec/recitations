{
 "cells": [
  {
   "cell_type": "markdown",
   "metadata": {},
   "source": [
    "<h1><center>cs1001.py , Tel Aviv University, Spring 2019</center></h1>\n",
    "<img src=\"http://www.pngall.com/wp-content/uploads/2016/05/Python-Logo-PNG-Image-180x180.png\" width=50/>"
   ]
  },
  {
   "cell_type": "markdown",
   "metadata": {},
   "source": [
    "## Recitation 8"
   ]
  },
  {
   "cell_type": "markdown",
   "metadata": {},
   "source": [
    "We reviewed some properties of prime numbers and used them for primality testing. We reviewed the Diffie-Hellman protocol for finding a shared secret key and also tried to crack it. \n",
    "Then, we discussed OOP and special methods that allow us to define operators in Python.\n",
    "\n",
    "### Takeaways:\n",
    "- The probabilistic function is_prime, that uses Fermat's primality test, can be used to detect primes quickly and efficiently, but has a (very small) probability of error. Its time complexity is $O(n^3)$, where $n$ is the number of bits of the input.\n",
    "\n",
    "- The DH protocol relies on two main principles: the following equality $(g^{a}\\mod p)^b \\mod p = g^{ab} \\mod p $ and the (believed) hardness of the discrete log problem (given $g,p$, and $x = g^{a} \\mod p$ finding $a$ is hard). Make sure you understand the details of the protocol.\n",
    "    \n",
    "- OOP allows us to create classes at will and to define complex objects. Remember that the most important thing is to find a good inner representation of the object so that you will have an easy time working with it. \n",
    "    \n",
    "- Important properties of Linked lists: \n",
    "    - Not stored continuously in memory.\n",
    "    - Allows for deletion and insertion after a __given__ element in $O(1)$ time.\n",
    "    - Accessing the $i$'th element takes $O(i)$ time.\n",
    "    - Search takes $O(n)$ time (no random access $\\implies$ no $O(\\log{n})$ search)."
   ]
  },
  {
   "cell_type": "markdown",
   "metadata": {},
   "source": [
    "#### Code for printing several outputs in one cell (not part of the recitation):"
   ]
  },
  {
   "cell_type": "code",
   "execution_count": 66,
   "metadata": {},
   "outputs": [],
   "source": [
    "from IPython.core.interactiveshell import InteractiveShell\n",
    "InteractiveShell.ast_node_interactivity = \"all\""
   ]
  },
  {
   "cell_type": "markdown",
   "metadata": {},
   "source": [
    "## Primes and Diffie-Hellman"
   ]
  },
  {
   "cell_type": "markdown",
   "metadata": {},
   "source": [
    "#### Compositeness witnesses\n",
    "A witness is a piece of evidence that can be produced in order to prove a claim. In our case, the prbolem we are tackling is deciding whether a given number $n$ is prime or composite. We now describe three types of witnesses for compositeness:\n",
    "\n",
    "* A clear witness for compositeness can be a (not necessarily prime) factor of $n$. That is, a number $1 < b < n$ such that $b ~|~ n$ ($b$ divides $n$). Since $b$ is a non-trivial factor of $n$, $n$ is clearly composite.\n",
    "* Another, less trivial witness of compositeness is a GCD witness, that is a number $1 < b < n$ such that $\\mathrm{gcd}(n,b) > 1$. Think, why is $b$ a witness of compositeness? Let $\\mathrm{gcd}(n,b) = r$, then by definition $r ~|~ n$. As $r \\leq b < n$ we get that $r$ is a factor of $n$ and thus $n$ is composite.\n",
    "* Fermat's primality test defines another set of witness of compositeness - a number $1 < a < n$ is a Fermat witness if $a^{n-1} (\\textrm{mod}\\ n) \\not\\equiv 1$\n",
    "\n",
    "Why go through all of this work? Our tactic would be to randomly draw a number $b \\in {1,\\ldots, n - 1}$ and hope that $b$ is some witness of compositeness. Clearly, we'd like our witness pool to be as large as possible. \n",
    "\n",
    "Now, if $n$ is a composite number, let $\\mathrm{FACT}_n, \\mathrm{GCD}_n, \\mathrm{FERM}_n$ be the set of prime factors, GCD witnesses and Fermat witnesses for $n$'s compositeness. It is not hard to show that $$\\mathrm{FACT}_n \\subseteq \\mathrm{GCD}_n \\subseteq \\mathrm{FERM}_n$$ \n",
    "\n",
    "But the real strength of Fermat's primality test comes from the fact that if $n$ is composite, then apart from very rare cases (where $n$ is a Carmichael number) it holds that $|\\mathrm{FERM}_n| \\geq n/2$. That is - a random number is a Fermat witness w.p. at least $1/2$.\n",
    "\n",
    "A side note (for reference only) - Carmichael numbers are exactly the composite numbers $n$ where $\\mathrm{GCD}_n = \\mathrm{FERM}_n$\n",
    "\n",
    "#### Primality test using Ferma's witness\n",
    "\n",
    "Fermat's little theorem states that if $p$ is prime and $1 < a < p$, then $a^{p-1} (\\textrm{mod}\\ p) \\equiv 1$\n",
    "\n",
    "We now show that the converse holds as well: Let $n$ be a composite number and write $n = ab$ for some $a,b>1$. We claim that $a$ is a Fermat witness. To see this, assume towards contradiction that $a^{n-1} (\\textrm{mod}\\ n) \\equiv 1$, i.e. $a^{n-1} = c\\cdot n + 1= c \\cdot a \\cdot b + 1$ for some $c \\geq 1$.\n",
    "\n",
    "Rearrange the above to get $a(a^{n-2} - c\\cdot b) = 1$. However, $a > 1$ and $(a^{n-2} - c\\cdot b) \\in \\mathbb{Z}$, a contradiction.\n",
    "\n",
    "We can use Fermat's little theorem in order test whether a given number is prime. Note that if the number has $n$ bits than testing all possible $a$-s will require $O(2^n)$ iterations (a lot!).\n",
    "\n",
    "Instead, we will try 100 random $a$-s in the range and see if one works as a witness."
   ]
  },
  {
   "cell_type": "code",
   "execution_count": 67,
   "metadata": {},
   "outputs": [],
   "source": [
    "import random\n",
    "\n",
    "def is_prime(m, show_witness=False):\n",
    "\n",
    "    \"\"\" probabilistic test for m's compositeness \"\"\"''\n",
    "\n",
    "    for i in range(0, 100):\n",
    "        a = random.randint(1, m - 1) # a is a random integer in [1..m-1]\n",
    "        if pow(a, m - 1, m) != 1:\n",
    "            if show_witness:  # caller wishes to see a witness\n",
    "                print(m, \"is composite\", \"\\n\", a, \"is a witness, i=\", i + 1)\n",
    "            return False\n",
    "\n",
    "    return True\n"
   ]
  },
  {
   "cell_type": "markdown",
   "metadata": {},
   "source": [
    "For $a,b,c$ of at most $n$ bits each, time complexity of modpower is $O(n^3)$"
   ]
  },
  {
   "cell_type": "code",
   "execution_count": null,
   "metadata": {},
   "outputs": [],
   "source": [
    "def modpower(a, b, c):\n",
    "    \"\"\" computes a**b modulo c, using iterated squaring \"\"\"\n",
    "    result = 1\n",
    "    while b > 0: # while b is nonzero\n",
    "        if b % 2 == 1: # b is odd\n",
    "            result = (result * a) % c\n",
    "        a = (a*a) % c\n",
    "        b = b // 2\n",
    "    return result"
   ]
  },
  {
   "cell_type": "markdown",
   "metadata": {},
   "source": [
    "#### Runtime analysis:\n",
    "\n",
    "* The main loop runs over $b$, dividing $b \\to b/2$ at each iteration, so it runs $O(n)$ times.\n",
    "* In each iteration we do: \n",
    "    * One operation of $b~\\%~2$ in $O(1)$ time (check least significant bit of $b$)\n",
    "    * One operation of $b~//~2$ in $O(1)$ time (snip $b$'s least significant bit)\n",
    "    * At most two multiplication and two modulu operations\n",
    "    * Multiplication of two $n$ bit numbers runs in time $O(n^2)$\n",
    "    * Modulu can be implemented by addition, division and multiplication: $a \\textrm{ mod } b = a - (a // b) b$ and division runs in time $O(n^2)$ same as multiplication\n",
    "    * Finally, the modulu operation keeps all numbers at most $n$ bits, thus the running time does not increase with each iteration\n",
    "* In total - $O(n^3)$\n"
   ]
  },
  {
   "cell_type": "markdown",
   "metadata": {},
   "source": [
    "#### The probability of error:\n",
    "First, notice that if the function says that an input number $m$ is not prime, then it is true. Stated the other way around, if $m$ is prime, the function is always right.\n",
    "\n",
    "The function can make a mistake only in the case where a number $m$ is not prime, and is accidentally categorized by the function as prime. This can happen if all $100$ $a$'s that the function had drawn were not witnesses. \n",
    "\n",
    "A quick computation shows that if $m$ is **not** a Charmichael number then at least $\\frac{1}{2}$ of all possible $a$s are witnesses, so in almost all cases the probability for error is $(\\frac{1}{2})^{100}$ (which is negligible)."
   ]
  },
  {
   "cell_type": "markdown",
   "metadata": {},
   "source": [
    "#### Testing the prime number theorem: For a large n, a number of n bits is prime with a prob. of O(1/n)\n",
    "We decide on the size of the sample (to avoid testing all possible $2^{n-1}$ numbers of $n$ bits) and test whether each number we sample is prime. Then we divide the number of primes with the size of the sample."
   ]
  },
  {
   "cell_type": "code",
   "execution_count": 68,
   "metadata": {},
   "outputs": [],
   "source": [
    "def prob_prime(n, sample):\n",
    "    cnt = 0\n",
    "    for i in range(sample):\n",
    "        m = random.randint(2**(n-1), 2**n - 1)\n",
    "        cnt += is_prime(m)\n",
    "    return cnt / sample\n",
    "\n"
   ]
  },
  {
   "cell_type": "code",
   "execution_count": 69,
   "metadata": {},
   "outputs": [
    {
     "data": {
      "text/plain": [
       "1.0"
      ]
     },
     "execution_count": 69,
     "metadata": {},
     "output_type": "execute_result"
    },
    {
     "data": {
      "text/plain": [
       "0.5057"
      ]
     },
     "execution_count": 69,
     "metadata": {},
     "output_type": "execute_result"
    }
   ],
   "source": [
    "prob_prime(2, 10**4)\n",
    "prob_prime(3, 10**4)\n"
   ]
  },
  {
   "cell_type": "code",
   "execution_count": 70,
   "metadata": {},
   "outputs": [
    {
     "data": {
      "text/plain": [
       "0.0148"
      ]
     },
     "execution_count": 70,
     "metadata": {},
     "output_type": "execute_result"
    }
   ],
   "source": [
    "prob_prime(100, 10**4)"
   ]
  },
  {
   "cell_type": "code",
   "execution_count": 71,
   "metadata": {},
   "outputs": [
    {
     "data": {
      "text/plain": [
       "0.0081"
      ]
     },
     "execution_count": 71,
     "metadata": {},
     "output_type": "execute_result"
    }
   ],
   "source": [
    "prob_prime(200, 10**4)"
   ]
  },
  {
   "cell_type": "markdown",
   "metadata": {},
   "source": [
    "Diffie Hellman from lecture"
   ]
  },
  {
   "cell_type": "markdown",
   "metadata": {},
   "source": [
    "<img src=\"DH.PNG\">"
   ]
  },
  {
   "cell_type": "markdown",
   "metadata": {},
   "source": [
    "#### The protocol as code"
   ]
  },
  {
   "cell_type": "code",
   "execution_count": 72,
   "metadata": {},
   "outputs": [],
   "source": [
    "def DH_exchange(p):\n",
    "    \"\"\" generates a shared DH key \"\"\"\n",
    "    g = random.randint(1, p - 1)\n",
    "    a = random.randint(1, p - 1) #Alice's  secret\n",
    "    b = random.randint(1, p - 1) #Bob's  secret\n",
    "    x = pow(g, a, p)\n",
    "    y = pow(g, b, p)\n",
    "    key_A = pow(y, a, p)\n",
    "    key_B = pow(x, b, p)\n",
    "    #the next line is different from lecture\n",
    "    return g, a, b, x, y, key_A #key_A=key_B"
   ]
  },
  {
   "cell_type": "markdown",
   "metadata": {},
   "source": [
    "#### Find a prime number"
   ]
  },
  {
   "cell_type": "code",
   "execution_count": 73,
   "metadata": {},
   "outputs": [],
   "source": [
    "def find_prime(n):\n",
    "    \"\"\" find random n-bit long prime \"\"\"\n",
    "    while(True):\n",
    "        candidate = random.randrange(2**(n-1), 2**n)\n",
    "        if is_prime(candidate):\n",
    "            return candidate"
   ]
  },
  {
   "cell_type": "markdown",
   "metadata": {},
   "source": [
    "Demostration:"
   ]
  },
  {
   "cell_type": "code",
   "execution_count": 98,
   "metadata": {},
   "outputs": [
    {
     "name": "stdout",
     "output_type": "stream",
     "text": [
      "557\n"
     ]
    },
    {
     "data": {
      "text/plain": [
       "(247, 88, 353, 367, 2, 206)"
      ]
     },
     "execution_count": 98,
     "metadata": {},
     "output_type": "execute_result"
    }
   ],
   "source": [
    "import random\n",
    "p = find_prime(10)\n",
    "print(p)\n",
    "g, a, b, x, y, key = DH_exchange(p)\n",
    "g, a, b, x, y, key"
   ]
  },
  {
   "cell_type": "code",
   "execution_count": 99,
   "metadata": {},
   "outputs": [
    {
     "name": "stdout",
     "output_type": "stream",
     "text": [
      "367\n",
      "206\n"
     ]
    }
   ],
   "source": [
    "print(pow(g, a, p))\n",
    "print(pow(x, b, p))"
   ]
  },
  {
   "cell_type": "markdown",
   "metadata": {},
   "source": [
    "#### Crack the Diffie Hellman code\n",
    "There is no known way to find $a$ efficiently, so we try the naive one: iterating over all $a$-s and cheking whether the equation $g^a \\mod p = x$ holds for them. \n",
    "\n",
    "If we found $a'$ that satisfies the condition but is not the original $a$, does it matter?\n",
    "\n",
    "The time complexity of crack_DH is $O(2^nn^3)$"
   ]
  },
  {
   "cell_type": "code",
   "execution_count": 76,
   "metadata": {},
   "outputs": [],
   "source": [
    "def crack_DH(p, g, x):\n",
    "    ''' find secret \"a\" that satisfies g**a%p == x\n",
    "        Not feasible for large p '''\n",
    "    for a in range(1, p - 1):\n",
    "        if a % 100000 == 0:\n",
    "            print(a) #just to estimate running time\n",
    "        if pow(g, a, p) == x:\n",
    "            return a\n",
    "    return None #should never get here"
   ]
  },
  {
   "cell_type": "code",
   "execution_count": 100,
   "metadata": {},
   "outputs": [
    {
     "name": "stdout",
     "output_type": "stream",
     "text": [
      "88\n"
     ]
    },
    {
     "data": {
      "text/plain": [
       "88"
      ]
     },
     "execution_count": 100,
     "metadata": {},
     "output_type": "execute_result"
    }
   ],
   "source": [
    "#g, a, b, x, y, key = DH_exchange(p)\n",
    "print(a)\n",
    "crack_DH(p, g, x)\n"
   ]
  },
  {
   "cell_type": "markdown",
   "metadata": {},
   "source": [
    "#### Cracking DH with different values of $a$ (different private keys)\n",
    "\n",
    "The algorithm crack_DH can return a different private key ($a$) than the one chosen by Alice, i.e. - $crack\\_DH(p,g,x) = a' \\neq a$, however, in this case we have, by definition of the cracking algorithm: $g^{a'} \\textrm{ mod } p = g^{a} \\textrm{ mod } p$, thus:\n",
    "\n",
    "$$y^{a'} \\textrm{ mod } p = \\left(g^{b}\\right)^{a'} \\textrm{ mod } p = \\left(g^{a'}\\right)^{b} \\textrm{ mod } p = \\left(g^{a} \\textrm{ mod } p \\right)^{b} \\textrm{ mod } p = g^{ab} \\textrm{ mod } p$$\n",
    "\n",
    "I.e. - we can still compute the shared secret!"
   ]
  },
  {
   "cell_type": "markdown",
   "metadata": {},
   "source": [
    "#### Trying to crack the protocol with a 100 bit prime"
   ]
  },
  {
   "cell_type": "code",
   "execution_count": 78,
   "metadata": {},
   "outputs": [
    {
     "name": "stdout",
     "output_type": "stream",
     "text": [
      "972762959355461077758092346931\n",
      "711085486200126306605788797672 301337617630740085784318464474 953829050690741734973058379801 673125365307331009336129574105 220291338338430064459432090221 203856719177576397001814724913\n",
      "100000\n",
      "200000\n",
      "300000\n",
      "400000\n",
      "500000\n",
      "600000\n",
      "700000\n",
      "800000\n",
      "900000\n",
      "1000000\n",
      "1100000\n",
      "1200000\n",
      "1300000\n",
      "1400000\n",
      "1500000\n",
      "1600000\n"
     ]
    },
    {
     "ename": "KeyboardInterrupt",
     "evalue": "",
     "output_type": "error",
     "traceback": [
      "\u001b[1;31m---------------------------------------------------------------------------\u001b[0m",
      "\u001b[1;31mKeyboardInterrupt\u001b[0m                         Traceback (most recent call last)",
      "\u001b[1;32m<ipython-input-78-6b3d13779c00>\u001b[0m in \u001b[0;36m<module>\u001b[1;34m()\u001b[0m\n\u001b[0;32m      5\u001b[0m \u001b[0mprint\u001b[0m\u001b[1;33m(\u001b[0m\u001b[0mg\u001b[0m\u001b[1;33m,\u001b[0m \u001b[0ma\u001b[0m\u001b[1;33m,\u001b[0m \u001b[0mb\u001b[0m\u001b[1;33m,\u001b[0m \u001b[0mx\u001b[0m\u001b[1;33m,\u001b[0m \u001b[0my\u001b[0m\u001b[1;33m,\u001b[0m \u001b[0mkey\u001b[0m\u001b[1;33m)\u001b[0m\u001b[1;33m\u001b[0m\u001b[0m\n\u001b[0;32m      6\u001b[0m \u001b[1;33m\u001b[0m\u001b[0m\n\u001b[1;32m----> 7\u001b[1;33m \u001b[0mcrack_DH\u001b[0m\u001b[1;33m(\u001b[0m\u001b[0mp\u001b[0m\u001b[1;33m,\u001b[0m \u001b[0mg\u001b[0m\u001b[1;33m,\u001b[0m \u001b[0mx\u001b[0m\u001b[1;33m)\u001b[0m\u001b[1;33m\u001b[0m\u001b[0m\n\u001b[0m",
      "\u001b[1;32m<ipython-input-76-9a63fe3af2e8>\u001b[0m in \u001b[0;36mcrack_DH\u001b[1;34m(p, g, x)\u001b[0m\n\u001b[0;32m      3\u001b[0m         Not feasible for large p '''\n\u001b[0;32m      4\u001b[0m     \u001b[1;32mfor\u001b[0m \u001b[0ma\u001b[0m \u001b[1;32min\u001b[0m \u001b[0mrange\u001b[0m\u001b[1;33m(\u001b[0m\u001b[1;36m1\u001b[0m\u001b[1;33m,\u001b[0m \u001b[0mp\u001b[0m \u001b[1;33m-\u001b[0m \u001b[1;36m1\u001b[0m\u001b[1;33m)\u001b[0m\u001b[1;33m:\u001b[0m\u001b[1;33m\u001b[0m\u001b[0m\n\u001b[1;32m----> 5\u001b[1;33m         \u001b[1;32mif\u001b[0m \u001b[0ma\u001b[0m \u001b[1;33m%\u001b[0m \u001b[1;36m100000\u001b[0m \u001b[1;33m==\u001b[0m \u001b[1;36m0\u001b[0m\u001b[1;33m:\u001b[0m\u001b[1;33m\u001b[0m\u001b[0m\n\u001b[0m\u001b[0;32m      6\u001b[0m             \u001b[0mprint\u001b[0m\u001b[1;33m(\u001b[0m\u001b[0ma\u001b[0m\u001b[1;33m)\u001b[0m \u001b[1;31m#just to estimate running time\u001b[0m\u001b[1;33m\u001b[0m\u001b[0m\n\u001b[0;32m      7\u001b[0m         \u001b[1;32mif\u001b[0m \u001b[0mpow\u001b[0m\u001b[1;33m(\u001b[0m\u001b[0mg\u001b[0m\u001b[1;33m,\u001b[0m \u001b[0ma\u001b[0m\u001b[1;33m,\u001b[0m \u001b[0mp\u001b[0m\u001b[1;33m)\u001b[0m \u001b[1;33m==\u001b[0m \u001b[0mx\u001b[0m\u001b[1;33m:\u001b[0m\u001b[1;33m\u001b[0m\u001b[0m\n",
      "\u001b[1;31mKeyboardInterrupt\u001b[0m: "
     ]
    }
   ],
   "source": [
    "import random\n",
    "p = find_prime(100)\n",
    "print(p)\n",
    "g, a, b, x, y, key = DH_exchange(p)\n",
    "print(g, a, b, x, y, key)\n",
    "\n",
    "crack_DH(p, g, x)"
   ]
  },
  {
   "cell_type": "markdown",
   "metadata": {},
   "source": [
    "Analyzing the nubmer of years it will take to crack the protocol if $a$ is found at the end (assuming iterating over 100000 $a$s takes a second)"
   ]
  },
  {
   "cell_type": "code",
   "execution_count": 79,
   "metadata": {},
   "outputs": [
    {
     "data": {
      "text/plain": [
       "301337617630740085784318464474"
      ]
     },
     "execution_count": 79,
     "metadata": {},
     "output_type": "execute_result"
    }
   ],
   "source": [
    "a"
   ]
  },
  {
   "cell_type": "code",
   "execution_count": 80,
   "metadata": {},
   "outputs": [
    {
     "data": {
      "text/plain": [
       "9.55535317195396e+16"
      ]
     },
     "execution_count": 80,
     "metadata": {},
     "output_type": "execute_result"
    }
   ],
   "source": [
    "a//100000/60/60/24/365\n"
   ]
  },
  {
   "cell_type": "markdown",
   "metadata": {},
   "source": [
    "# Linked Lists\n",
    "\n",
    "A linked list is a linear data structure (i.e. - nodes can be accessed one after the other). The list is composed of nodes, where each node contains a value and a \"pointer\" to the next node in the list.\n",
    "\n",
    "Linked lists support operations such as insertion, deletion, search and many more."
   ]
  },
  {
   "cell_type": "code",
   "execution_count": 2,
   "metadata": {},
   "outputs": [],
   "source": [
    "class Node():\n",
    "    def __init__(self, val):\n",
    "        self.value = val\n",
    "        self.next = None\n",
    "        \n",
    "    def __repr__(self):\n",
    "        #return \"[\" + str(self.value) + \",\" + str(id(self.next))+ \"]\"\n",
    "        \n",
    "        #for today's recitation, we print the id of self instead of self.next\n",
    "        return \"[\" + str(self.value) + \",\" + str(id(self))+ \"]\"\n",
    "\n",
    "\n",
    "\n",
    "class Linked_list():\n",
    "\n",
    "    def __init__(self, seq=None):\n",
    "        self.next = None\n",
    "        self.len = 0\n",
    "        if seq != None:\n",
    "            for x in seq[::-1]:\n",
    "                self.add_at_start(x)\n",
    "            \n",
    "\n",
    "    def __repr__(self):\n",
    "        out = \"\"\n",
    "        p = self.next\n",
    "        while p != None:\n",
    "            out += str(p) + \" \" #str envokes __repr__ of class Node\n",
    "            p = p.next\n",
    "        return out\n",
    "\n",
    "            \n",
    "    def __len__(self):\n",
    "        ''' called when using Python's len() '''\n",
    "        return self.len\n",
    "            \n",
    "            \n",
    "    def add_at_start(self, val):\n",
    "        ''' add node with value val at the list head '''\n",
    "        p = self\n",
    "        tmp = p.next\n",
    "        p.next = Node(val)\n",
    "        p.next.next = tmp\n",
    "        self.len += 1\n",
    "    \n",
    "    def add_at_end(self, val):\n",
    "        ''' add node with value val at the list tail '''\n",
    "        p = self\n",
    "        while (p.next != None):\n",
    "            p = p.next\n",
    "        p.next = Node(val)\n",
    "        self.len += 1\n",
    "            \n",
    "        \n",
    "    def insert(self, loc, val):\n",
    "        ''' add node with value val after location 0<=loc<len of the list '''\n",
    "        assert 0 <= loc < len(self)\n",
    "        p = self\n",
    "        for i in range(0, loc):\n",
    "            p = p.next\n",
    "        tmp = p.next\n",
    "        p.next = Node(val)\n",
    "        p.next.next = tmp\n",
    "        self.len += 1\n",
    "        \n",
    "          \n",
    "    def __getitem__(self, loc):\n",
    "        ''' called when using L[i] for reading\n",
    "            return node at location 0<=loc<len '''\n",
    "        assert 0 <= loc < len(self)\n",
    "        p = self.next\n",
    "        for i in range(0, loc):\n",
    "            p = p.next\n",
    "        return p\n",
    "\n",
    "    def __setitem__(self, loc, val):\n",
    "        ''' called when using L[loc]=val for writing\n",
    "            assigns val to node at location 0<=loc<len '''\n",
    "        assert 0 <= loc < len(self)\n",
    "        p = self.next\n",
    "        for i in range(0, loc):\n",
    "            p = p.next\n",
    "        p.value = val\n",
    "        return None\n",
    "\n",
    "    \n",
    "    def find(self, val):\n",
    "        ''' find (first) node with value val in list '''\n",
    "        p = self.next\n",
    "        # loc = 0     # in case we want to return the location\n",
    "        while p != None:\n",
    "            if p.value == val:\n",
    "                return p\n",
    "            else:\n",
    "                p = p.next\n",
    "                #loc=loc+1   # in case we want to return the location\n",
    "        return None\n",
    "\n",
    "    def delete(self, loc):\n",
    "        ''' delete element at location 0<=loc<len '''\n",
    "        assert 0 <= loc < len(self)\n",
    "        p = self\n",
    "        for i in range(0, loc):\n",
    "            p = p.next\n",
    "        # p is the element BEFORE loc\n",
    "        p.next = p.next.next\n",
    "        self.len -= 1\n",
    " \n",
    "    \n",
    "    def insert_ordered(self, val):\n",
    "        ''' assume self is an ordered list,\n",
    "            insert Node with val in order '''\n",
    "        p = self\n",
    "        q = self.next\n",
    "        while q != None and q.value < val:\n",
    "            p = q\n",
    "            q = q.next\n",
    "        newNode = Node(val)\n",
    "        p.next = newNode\n",
    "        newNode.next = q\n",
    "        self.len += 1\n",
    "\n",
    "    def find_ordered(self, val):\n",
    "        ''' assume self is an ordered list,\n",
    "            find Node with value val '''\n",
    "        p = self.next\n",
    "        while p != None and p.value < val:\n",
    "            p = p.next\n",
    "        if p != None and p.value == val: \n",
    "            return p\n",
    "        else:\n",
    "            return None\n"
   ]
  },
  {
   "cell_type": "markdown",
   "metadata": {},
   "source": [
    "Converting a string to a list"
   ]
  },
  {
   "cell_type": "code",
   "execution_count": 6,
   "metadata": {},
   "outputs": [
    {
     "data": {
      "text/plain": [
       "[a,102475824] [b,102476624] [c,102476752] "
      ]
     },
     "execution_count": 6,
     "metadata": {},
     "output_type": "execute_result"
    }
   ],
   "source": [
    "L= Linked_list(\"abc\")\n",
    "L"
   ]
  },
  {
   "cell_type": "markdown",
   "metadata": {},
   "source": [
    "### Memory View\n",
    "<img src=\"linked_lst_mem.PNG\">"
   ]
  },
  {
   "cell_type": "markdown",
   "metadata": {},
   "source": [
    "Adding elements one by one. Try using Python tutor. "
   ]
  },
  {
   "cell_type": "code",
   "execution_count": 7,
   "metadata": {},
   "outputs": [
    {
     "data": {
      "text/plain": [
       "[b,102477648] [a,102477616] "
      ]
     },
     "execution_count": 7,
     "metadata": {},
     "output_type": "execute_result"
    }
   ],
   "source": [
    "l = Linked_list()\n",
    "l.add_at_start(\"a\")\n",
    "l.add_at_start(\"b\")\n",
    "l"
   ]
  },
  {
   "cell_type": "markdown",
   "metadata": {},
   "source": [
    "##### A short summary of methods complexity of Linked lists vs. lists:\n",
    "\n",
    "<table width=550 align=\"left\">\n",
    "        <tr>\n",
    "            <td> <b>Method</b></td>\n",
    "            <td> <b>List</b></td>\n",
    "            <td> <b>Linked list</b></td>\n",
    "    </tr>\n",
    "    <tr>\n",
    "            <td> init</td>\n",
    "            <td> $O(1)$</td>\n",
    "            <td> $O(1)$</td>\n",
    "    </tr>\n",
    "    <tr> \n",
    "        <td> init with $k$ items</td>\n",
    "        <td> $O(k)$</td>\n",
    "        <td> $O(k)$</td>\n",
    "    </tr>\n",
    "    <tr> \n",
    "        <td colspan=\"3\"><b>for the rest of the methods we assume that the structure contains $n$ items</b></td>\n",
    "    </tr>\n",
    "    <tr> \n",
    "        <td> add at start</td>\n",
    "        <td> $O(n)$</td>\n",
    "        <td> $O(1)$</td>\n",
    "    </tr>\n",
    "    <tr> \n",
    "        <td> add at end</td>\n",
    "        <td> $O(1)$</td>\n",
    "        <td> $O(n)$</td>\n",
    "    </tr>\n",
    "    <tr> \n",
    "        <td> $lst[k]$ (get the $k$th item)</td>\n",
    "        <td> $O(1)$</td>\n",
    "        <td> $O(k)$</td>\n",
    "    </tr>\n",
    "    <tr> \n",
    "        <td> delete $lst[k]$</td>\n",
    "        <td> $O(n-k)$</td>\n",
    "        <td> $O(k)$</td>\n",
    "    </tr>\n",
    "</table>"
   ]
  },
  {
   "cell_type": "markdown",
   "metadata": {},
   "source": [
    "Reversing a linked list in $O(1)$ additional memory. \n",
    "See the code and demo <a href=\"http://tau-cs1001-py.wdfiles.com/local--files/recitation-logs-2017b/m_09_reverse_list.pdf\">here</a>"
   ]
  },
  {
   "cell_type": "code",
   "execution_count": 9,
   "metadata": {},
   "outputs": [
    {
     "data": {
      "text/plain": [
       "[c,12242992] [b,12243088] [a,12243216] "
      ]
     },
     "execution_count": 9,
     "metadata": {},
     "output_type": "execute_result"
    }
   ],
   "source": [
    "class Node():\n",
    "    def __init__(self, val):\n",
    "        self.value = val\n",
    "        self.next = None\n",
    "        \n",
    "    def __repr__(self):\n",
    "        #return \"[\" + str(self.value) + \",\" + str(id(self.next))+ \"]\"\n",
    "        \n",
    "        #for today's recitation, we print the id of self instead of self.next\n",
    "        return \"[\" + str(self.value) + \",\" + str(id(self))+ \"]\"\n",
    "\n",
    "\n",
    "class Linked_list():\n",
    "\n",
    "    def __init__(self, seq=None):\n",
    "        self.next = None\n",
    "        self.len = 0\n",
    "        if seq != None:\n",
    "            for x in seq[::-1]:\n",
    "                self.add_at_start(x)\n",
    "            \n",
    "\n",
    "    def __repr__(self):\n",
    "        out = \"\"\n",
    "        p = self.next\n",
    "        while p != None:\n",
    "            out += str(p) + \" \" #str envokes __repr__ of class Node\n",
    "            p = p.next\n",
    "        return out\n",
    "\n",
    "            \n",
    "    def __len__(self):\n",
    "        ''' called when using Python's len() '''\n",
    "        return self.len\n",
    "            \n",
    "            \n",
    "    def add_at_start(self, val):\n",
    "        ''' add node with value val at the list head '''\n",
    "        p = self\n",
    "        tmp = p.next\n",
    "        p.next = Node(val)\n",
    "        p.next.next = tmp\n",
    "        self.len += 1\n",
    "    \n",
    "    def add_at_end(self, val):\n",
    "        ''' add node with value val at the list tail '''\n",
    "        p = self\n",
    "        while (p.next != None):\n",
    "            p = p.next\n",
    "        p.next = Node(val)\n",
    "        self.len += 1\n",
    "            \n",
    "        \n",
    "    def insert(self, loc, val):\n",
    "        ''' add node with value val after location 0<=loc<len of the list '''\n",
    "        assert 0 <= loc < len(self)\n",
    "        p = self\n",
    "        for i in range(0, loc):\n",
    "            p = p.next\n",
    "        tmp = p.next\n",
    "        p.next = Node(val)\n",
    "        p.next.next = tmp\n",
    "        self.len += 1\n",
    "        \n",
    "          \n",
    "    def __getitem__(self, loc):\n",
    "        ''' called when using L[i] for reading\n",
    "            return node at location 0<=loc<len '''\n",
    "        assert 0 <= loc < len(self)\n",
    "        p = self.next\n",
    "        for i in range(0, loc):\n",
    "            p = p.next\n",
    "        return p\n",
    "\n",
    "    def __setitem__(self, loc, val):\n",
    "        ''' called when using L[loc]=val for writing\n",
    "            assigns val to node at location 0<=loc<len '''\n",
    "        assert 0 <= loc < len(self)\n",
    "        p = self.next\n",
    "        for i in range(0, loc):\n",
    "            p = p.next\n",
    "        p.value = val\n",
    "        return None\n",
    "\n",
    "    \n",
    "    def find(self, val):\n",
    "        ''' find (first) node with value val in list '''\n",
    "        p = self.next\n",
    "        # loc = 0     # in case we want to return the location\n",
    "        while p != None:\n",
    "            if p.value == val:\n",
    "                return p\n",
    "            else:\n",
    "                p = p.next\n",
    "                #loc=loc+1   # in case we want to return the location\n",
    "        return None\n",
    "\n",
    "    def delete(self, loc):\n",
    "        ''' delete element at location 0<=loc<len '''\n",
    "        assert 0 <= loc < len(self)\n",
    "        p = self\n",
    "        for i in range(0, loc):\n",
    "            p = p.next\n",
    "        # p is the element BEFORE loc\n",
    "        p.next = p.next.next\n",
    "        self.len -= 1\n",
    " \n",
    "    \n",
    "    def insert_ordered(self, val):\n",
    "        ''' assume self is an ordered list,\n",
    "            insert Node with val in order '''\n",
    "        p = self\n",
    "        q = self.next\n",
    "        while q != None and q.value < val:\n",
    "            p = q\n",
    "            q = q.next\n",
    "        newNode = Node(val)\n",
    "        p.next = newNode\n",
    "        newNode.next = q\n",
    "        self.len += 1\n",
    "\n",
    "    def find_ordered(self, val):\n",
    "        ''' assume self is an ordered list,\n",
    "            find Node with value val '''\n",
    "        p = self.next\n",
    "        while p != None and p.value < val:\n",
    "            p = p.next\n",
    "        if p != None and p.value == val: \n",
    "            return p\n",
    "        else:\n",
    "            return None\n",
    "\n",
    "    def reverse(self):\n",
    "        prev = None\n",
    "        curr = self.next\n",
    "        while curr != None:\n",
    "            tmp = curr.next\n",
    "            curr.next = prev\n",
    "            prev = curr\n",
    "            curr = tmp\n",
    "        self.next = prev\n",
    "        \n",
    "ll = Linked_list(\"abc\")\n",
    "ll\n",
    "ll.reverse()\n",
    "ll\n"
   ]
  },
  {
   "cell_type": "markdown",
   "metadata": {},
   "source": [
    "Exam question (2018, Spring Semester)\n",
    "\n",
    "Let $L,K$ be two linked lists of length $n,m$ respectively. We say that the **lists merge** if there exists a node that is on both lists.\n",
    "\n",
    "I.e. - there exists a node $q$ in $L$ and $p$ in $K$ such that $q ~is~ p == True$. In such a case we call $p$ a **joint node**.\n",
    "\n",
    "Write a function $are\\_merged$ that gets two linked lists as an input and returns True iff the lists merge.\n",
    "\n",
    "The main idea - two linked lists merge if and only if their last node (their tail) is the same node.\n"
   ]
  },
  {
   "cell_type": "code",
   "execution_count": 11,
   "metadata": {},
   "outputs": [
    {
     "name": "stdout",
     "output_type": "stream",
     "text": [
      "True\n",
      "False\n"
     ]
    }
   ],
   "source": [
    "def are_merged(L, K):\n",
    "    node_l = L.next\n",
    "    node_k = K.next\n",
    "    while node_l.next != None:\n",
    "        node_l = node_l.next\n",
    "    while node_k.next != None:\n",
    "        node_k = node_k.next\n",
    "    return node_k is node_l\n",
    "    \n",
    "    #Here is an equivalent solution with a shorter code:\n",
    "    #last_node_l = L[len(L)-1]\n",
    "    #last_node_k = K[len(K)-1]\n",
    "    #return last_node_l is last_node_k\n",
    "\n",
    "L = Linked_list(\"abcd\")\n",
    "L\n",
    "\n",
    "K = Linked_list()\n",
    "K.next = L.next.next.next\n",
    "# Manually define the length of K\n",
    "K.len = 2\n",
    "K.add_at_start(\"e\")\n",
    "K\n",
    "\n",
    "M = Linked_list()\n",
    "M.add_at_start(\"d\")\n",
    "M\n",
    "\n",
    "print(are_merged(L,K))\n",
    "print(are_merged(L,M))\n",
    "\n"
   ]
  },
  {
   "cell_type": "markdown",
   "metadata": {},
   "source": [
    "### Time and space analysis\n",
    "\n",
    "Space: Saving a pointer to two nodes can be done in $O(1)$ memory\n",
    "Time: Each node in the lists is read exactly once and all operations run in time $O(1)$ so runtime is $O(n+m)$\n",
    "\n",
    "### Finding merging point\n",
    "\n",
    "Next, write a function $find\\_shared$ that gets two merged linked lists as an input and returns the first joint node of the lists.\n",
    "\n",
    "Analyze its running time and space complexity."
   ]
  },
  {
   "cell_type": "code",
   "execution_count": 13,
   "metadata": {},
   "outputs": [
    {
     "name": "stdout",
     "output_type": "stream",
     "text": [
      "True\n",
      "False\n",
      "[c,99914672] True\n",
      "advp\n",
      "advp\n",
      "[c,99914672] True\n",
      "[c,99914672] True\n"
     ]
    }
   ],
   "source": [
    "def find_shared_1(L, K):\n",
    "    id_set = set()\n",
    "    p = L.next\n",
    "    while p != None:\n",
    "        id_set.add(id(p))\n",
    "        p = p.next\n",
    "    q = K.next\n",
    "    while q != None:\n",
    "        if id(q) in id_set:\n",
    "            return q\n",
    "        q = q.next\n",
    "    return None # should not reach here since L, K have joint items\n",
    "\n",
    "\n",
    "def find_shared_2(L, K):\n",
    "    n = len(L)\n",
    "    m = len(K)\n",
    "    p = L.next\n",
    "    q = K.next\n",
    "    for i in range(max(0, n-m)):\n",
    "        print('advp')\n",
    "        p = p.next\n",
    "    for i in range(max(0, m-n)):\n",
    "        print('advq')\n",
    "        q = q.next\n",
    "    while p != None:\n",
    "        if p is q:\n",
    "            return p\n",
    "        p = p.next\n",
    "        q = q.next\n",
    "    return None # Should never get here\n",
    "\n",
    "def find_shared_3(L, K):\n",
    "    p = L.next\n",
    "    q = K.next\n",
    "    while p != None and q != None:\n",
    "        if p is q:\n",
    "            return p\n",
    "        p = p.next\n",
    "        q = q.next\n",
    "        if p == None:\n",
    "            p = K.next\n",
    "        if q == None:\n",
    "            q = L.next\n",
    "    return None # must end before, since L, K have joint items    \n",
    "\n",
    "L = Linked_list(\"abcd\")\n",
    "L\n",
    "\n",
    "K = Linked_list()\n",
    "K.next = L.next.next.next\n",
    "# Save the first joint node\n",
    "x = K.next\n",
    "K.len = 2\n",
    "K.add_at_start(\"e\")\n",
    "K\n",
    "\n",
    "M = Linked_list()\n",
    "M.add_at_start(\"d\")\n",
    "M\n",
    "\n",
    "print(are_merged(L,K))\n",
    "print(are_merged(L,M))\n",
    "\n",
    "\n",
    "\n",
    "print(find_shared_1(L,K), find_shared_1(L,K) == x)\n",
    "print(find_shared_2(L,K), find_shared_2(L,K) == x)\n",
    "print(find_shared_3(L,K), find_shared_3(L,K) == x)\n"
   ]
  }
 ],
 "metadata": {
  "kernelspec": {
   "display_name": "Python 3",
   "language": "python",
   "name": "python3"
  },
  "language_info": {
   "codemirror_mode": {
    "name": "ipython",
    "version": 3
   },
   "file_extension": ".py",
   "mimetype": "text/x-python",
   "name": "python",
   "nbconvert_exporter": "python",
   "pygments_lexer": "ipython3",
   "version": "3.7.1"
  }
 },
 "nbformat": 4,
 "nbformat_minor": 1
}
