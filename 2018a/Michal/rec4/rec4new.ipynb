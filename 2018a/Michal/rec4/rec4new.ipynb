{
 "cells": [
  {
   "cell_type": "markdown",
   "metadata": {},
   "source": [
    "<h1><center>cs1001.py , Tel Aviv University, Fall 2017-2018</center></h1>\n",
    "<img src=\"http://www.pngall.com/wp-content/uploads/2016/05/Python-Logo-PNG-Image-180x180.png\" width=50/>"
   ]
  },
  {
   "cell_type": "markdown",
   "metadata": {},
   "source": [
    "## Recitation 4"
   ]
  },
  {
   "cell_type": "markdown",
   "metadata": {},
   "source": [
    "### Complexity\n",
    "\n",
    "We analyzed the time complexity of different solutions for a given problem.\n",
    "Then, we proved several claims using the Formal definition of Big O.\n",
    "\n",
    "#### Takeaways:\n",
    "\n",
    "<ol>\n",
    "  <li>The time complexity bound implies how that the running time changes as a function of the input size.</li>\n",
    "  <li>Two solutions that have the same time complexity bound may differ in their running time (one can be more efficient than the other).</li>\n",
    "  <li>The Big O notation \"hides\" additive and multiplicative constants</li>\n",
    "  <li>Two solutions that have the same time complexity bound may differ in their running time (one can be more efficient than the other).</li>\n",
    "   <li>To analyze nested loops that are dependent, use a sum ($\\sum$), with the boundaries of the external loop as the limits and the number of iterations for the inner loop in the sum itself.</li>\n",
    "</ol>\n",
    "_________________________________________________________________________________"
   ]
  },
  {
   "cell_type": "markdown",
   "metadata": {},
   "source": [
    "### Problem: \n",
    "Given a natural number $p$, how many right triangles exist with integer-sized sides whose perimeter is $p$?\n",
    "\n",
    "#### or in other words:\n",
    "How many triplets $(a,b,c)$ are there such that:\n",
    "<ol>\n",
    "    <li>$a*a +b*b == c*c$</li>\n",
    "    <li>$a + b + c == p$</li>\n",
    "    <li>$a,b,c > 0$ are all integers</li>\n",
    "</ol>\n",
    "In order to avoid counting a triplet twice or more, we require that $0 < a < b < c$\n",
    "Note that:\n",
    "<ol>\n",
    "    <li>$a \\neq b$ and $b \\neq c$</li>\n",
    "    <li>The condition $b < c$ is redundant (since we require that $a,b,c > 0$ and $a*a + b*b == c*c$)</li>\n",
    "    </ol>\n",
    "\n",
    "\n",
    "\n",
    "\n",
    "When computing code complexity, we\n",
    "<ol>\n",
    "    <li>define the entire content of the innermost loop as an “atomic operation” which takes constant time.</li>\n",
    "    <li>describe the complexity as a function of $p$ (i.e., use $p$ as the “problem size” or “input size”). \n",
    "        Note, however, that the formal definition of “problem size” for a numeric input is the size it takes to represent the input, i.e. $n = \\log(p)$. \n",
    "        Working with $p$ here is easier and more intuitive.</li>\n",
    "</ol>"
   ]
  },
  {
   "cell_type": "markdown",
   "metadata": {},
   "source": [
    "#### Trivial solution (v1):\n",
    "\n",
    "go over all triplets of numbers in the relevant range. \n",
    "\n",
    "There are $(p-1)^3$ iterations.\n",
    "\n",
    "Complexity: $O(p^3)$"
   ]
  },
  {
   "cell_type": "code",
   "execution_count": 2,
   "metadata": {},
   "outputs": [],
   "source": [
    "def number_of_integer_right_triangles_v1(p):\n",
    "    cnt = 0\n",
    "    for a in range(1,p):\n",
    "        for b in range(1,p):\n",
    "            for c in range(1,p):\n",
    "                if a<b and a+b+c==p and a**2+b**2==c**2:\n",
    "                    cnt += 1\n",
    "    return cnt\n",
    "    \n",
    "    \n",
    "    "
   ]
  },
  {
   "cell_type": "markdown",
   "metadata": {},
   "source": [
    "#### Second version (v2):\n",
    "\n",
    "instead of looping over $c$, use one of the constraints to set its value as a function of $a,b$. one less loop and one less condition. \n",
    "\n",
    "There are $(p-1)^2$ iterations.\n",
    "\n",
    "Complexity: $O(p^2)$"
   ]
  },
  {
   "cell_type": "code",
   "execution_count": 3,
   "metadata": {},
   "outputs": [],
   "source": [
    "def number_of_integer_right_triangles_v2(p):\n",
    "    cnt = 0\n",
    "    for a in range(1,p):\n",
    "        for b in range(1,p):\n",
    "            c = p-a-b\n",
    "            if a<b and a**2+b**2==c**2:\n",
    "                cnt += 1\n",
    "    return cnt"
   ]
  },
  {
   "cell_type": "markdown",
   "metadata": {},
   "source": [
    "#### Third version (v3):\n",
    "\n",
    "define a lower bound for $b$. The loops are now dependent and, therefore, to compute the number of atomic operations, we take a sum over $a$ of the number of $b$ values tested. \n",
    "\n",
    "The number of iterations is: $\\sum_{a = 1}^{p-1} (p - (a+1)) = \\frac{(p-1)(p-2)}{2}$\n",
    "\n",
    "Complexity: $O(p^2)$."
   ]
  },
  {
   "cell_type": "code",
   "execution_count": 4,
   "metadata": {},
   "outputs": [],
   "source": [
    "def number_of_integer_right_triangles_v3(p):\n",
    "    cnt = 0\n",
    "    for a in range(1,p):\n",
    "        for b in range(a+1,p):\n",
    "            c = p-a-b\n",
    "            if a**2+b**2==c**2:\n",
    "                cnt += 1\n",
    "    return cnt"
   ]
  },
  {
   "cell_type": "markdown",
   "metadata": {},
   "source": [
    "#### Fourth version (v4):\n",
    "\n",
    "define an upper bound for $a,b$. we use the same strategy as in v3 to count operations.\n",
    "\n",
    "$a = p-b-c < p-2a \\implies 3a < p$. Thus: $a < p/3$, that is, the maximal possible value of $a$ is $p//3$ (we add $1$ in order to include $p//3$ in the range)\n",
    "\n",
    "$b = p-a-c < p-a-b  \\implies 2b < (p-a)$. Thus: $b < (p-a)/2$, that is, the maximal possible value of $b$ is $(p-a)//2$ (we add 1 in order to include (p-a)//2 in the range).\n",
    "\n",
    "\n",
    "The number of iterations is: $\\sum_{a = 1}^{p/3} (\\lfloor\\frac{p-a}{2}\\rfloor + 1 - (a+1))$\n",
    "\n",
    "\n",
    "\n",
    "\n",
    "Complexity: $O(p^2)$."
   ]
  },
  {
   "cell_type": "code",
   "execution_count": 5,
   "metadata": {},
   "outputs": [],
   "source": [
    "def number_of_integer_right_triangles_v4(p):\n",
    "    cnt = 0\n",
    "    for a in range(1,p//3+1):\n",
    "        for b in range(a+1,(p-a)//2+1):\n",
    "            c = p-a-b\n",
    "            if a**2+b**2==c**2:\n",
    "                cnt += 1\n",
    "    return cnt"
   ]
  },
  {
   "cell_type": "markdown",
   "metadata": {},
   "source": [
    "#### Fifth version (v5):\n",
    "\n",
    "we realize we have two equations in three variables, therefore there’s only a single free parameter here. \n",
    "\n",
    "$a+b+c=p \\implies c = p-a-b$\n",
    "\n",
    "Substitute $c$ with $p-a-b$ in $a^2+b^2=c^2$ and isolate $b$ to get $b = \\frac{p^2-2ap}{2(p-a)}$.\n",
    "   \n",
    "we loop only over $a$, but need to make sure that the resulting $b$ is integral, and that $a<b$. Note that we do not have to calculate $c$ here\n",
    "\n",
    "\n",
    "The number of iterations is: $p/3$\n",
    "\n",
    "Complexity: $O(p)$"
   ]
  },
  {
   "cell_type": "code",
   "execution_count": 6,
   "metadata": {},
   "outputs": [],
   "source": [
    "def number_of_integer_right_triangles_v5(p):\n",
    "    cnt = 0\n",
    "    for a in range(1, p//3+1):\n",
    "        b = (p**2-2*p*a)/(2*(p-a))\n",
    "        if int(b)==b and a<b:\n",
    "            cnt += 1\n",
    "    return cnt"
   ]
  },
  {
   "cell_type": "markdown",
   "metadata": {},
   "source": [
    "#### Experiment:\n",
    "\n",
    "We compare the change in running time of each of the functions as $p$ increases twofold.\n",
    "\n",
    "As expected, when $p$ increases by 2 and for large enough $p$ (so that asymptotic computations are valid):\n",
    "\n",
    "the cubical version ($O(p^3)$) takes x ~$2^3$ longer,\n",
    "\n",
    "the quadratic versions ($O(p^2)$) takes x ~$2^2$ longer,\n",
    "\n",
    "and the linear version ($O(p)$) takes x ~2 longer.\n",
    "\n"
   ]
  },
  {
   "cell_type": "code",
   "execution_count": 8,
   "metadata": {},
   "outputs": [
    {
     "name": "stdout",
     "output_type": "stream",
     "text": [
      "v1, p = 240 took 1.3234666596139846 secs\n",
      "v2, p = 240 took 0.04294541250200723 secs\n",
      "v3, p = 240 took 0.03771628332745536 secs\n",
      "v4, p = 240 took 0.006203349058495178 secs\n",
      "v5, p = 240 took 9.513249270298729e-05 secs\n",
      "\n",
      "v1, p = 480 took 11.197607950707948 secs\n",
      "v2, p = 480 took 0.1921735564039011 secs\n",
      "v3, p = 480 took 0.19173342059733045 secs\n",
      "v4, p = 480 took 0.025842485065965093 secs\n",
      "v5, p = 480 took 0.00017605432262257636 secs\n"
     ]
    }
   ],
   "source": [
    "import time\n",
    "\n",
    "def elapsed(expression,number=1):\n",
    "    ''' computes elapsed time for executing code\n",
    "    number of times (default is 1 time). expression should\n",
    "    be a string representing a Python expression. '''\n",
    "    t1=time.clock()\n",
    "    for i in range(number):\n",
    "        x = eval(expression)\n",
    "    t2=time.clock()\n",
    "    return t2-t1\n",
    "\n",
    "\n",
    "print(\"v1, p = 240 took\",elapsed(\"number_of_integer_right_triangles_v1(240)\"), \"secs\")\n",
    "print(\"v2, p = 240 took\",elapsed(\"number_of_integer_right_triangles_v2(240)\"), \"secs\")\n",
    "print(\"v3, p = 240 took\",elapsed(\"number_of_integer_right_triangles_v3(240)\"), \"secs\")\n",
    "print(\"v4, p = 240 took\",elapsed(\"number_of_integer_right_triangles_v4(240)\"), \"secs\")\n",
    "print(\"v5, p = 240 took\",elapsed(\"number_of_integer_right_triangles_v5(240)\"), \"secs\")\n",
    "print(\"\")\n",
    "print(\"v1, p = 480 took\",elapsed(\"number_of_integer_right_triangles_v1(480)\"), \"secs\")\n",
    "print(\"v2, p = 480 took\",elapsed(\"number_of_integer_right_triangles_v2(480)\"), \"secs\")\n",
    "print(\"v3, p = 480 took\",elapsed(\"number_of_integer_right_triangles_v3(480)\"), \"secs\")\n",
    "print(\"v4, p = 480 took\",elapsed(\"number_of_integer_right_triangles_v4(480)\"), \"secs\")\n",
    "print(\"v5, p = 480 took\",elapsed(\"number_of_integer_right_triangles_v5(480)\"), \"secs\")"
   ]
  },
  {
   "cell_type": "markdown",
   "metadata": {},
   "source": [
    "# Big O notation\n",
    "\n",
    "Given two functions $f(n)$ and $g(n)$,\n",
    "\n",
    "$f(n) = O(g(n))$ \n",
    " If and only if there exist $c > 0 $ and $n_{0}\\in \\mathbb{R}$ such that\n",
    " $\\forall n>n_0$    \n",
    "   $|f(n)| \\leq c\\cdot|g(n)|$ "
   ]
  },
  {
   "cell_type": "markdown",
   "metadata": {},
   "source": [
    "### Time complexity hierarchy\n",
    "  \n",
    "Let $n$ denote the size of the input.\n",
    "The most common time complexities we encounter are :\n",
    "\n",
    "* Constant - $O(1)$\n",
    "* Logarithmic - $O(\\log(n))$\n",
    "* Root/fractional - $O(n^{1/c})$ for $c>1$\n",
    "* Linear - $O(n)$\n",
    "* Loglinear - $O(n \\log(n))$\n",
    "* Polynomial - $O(n^{c})$ for $c>1$\n",
    "* Exponential - $O(c^{n})$ for $c>1$\n",
    "\n",
    "See also this list on [Wikipedia](http://en.wikipedia.org/wiki/Time_complexity#Table_of_common_time_complexities).\n",
    "\n",
    "\n"
   ]
  },
  {
   "cell_type": "markdown",
   "metadata": {},
   "source": [
    "## Prove or Disprove examples\n",
    "See some examples [here](http://tau-cs1001-py.wdfiles.com/local--files/recitation-logs-2017a/complexity_prove_or_disprove.pdf)"
   ]
  }
 ],
 "metadata": {
  "kernelspec": {
   "display_name": "Python 3",
   "language": "python",
   "name": "python3"
  },
  "language_info": {
   "codemirror_mode": {
    "name": "ipython",
    "version": 3
   },
   "file_extension": ".py",
   "mimetype": "text/x-python",
   "name": "python",
   "nbconvert_exporter": "python",
   "pygments_lexer": "ipython3",
   "version": "3.6.2"
  }
 },
 "nbformat": 4,
 "nbformat_minor": 1
}
