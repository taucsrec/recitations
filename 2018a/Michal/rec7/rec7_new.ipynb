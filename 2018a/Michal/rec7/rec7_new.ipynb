{
 "cells": [
  {
   "cell_type": "markdown",
   "metadata": {},
   "source": [
    "<h1><center>cs1001.py , Tel Aviv University, Fall 2017-2018</center></h1>\n",
    "<img src=\"http://www.pngall.com/wp-content/uploads/2016/05/Python-Logo-PNG-Image-180x180.png\" width=50/>"
   ]
  },
  {
   "cell_type": "markdown",
   "metadata": {},
   "source": [
    "# Recitation 7"
   ]
  },
  {
   "cell_type": "markdown",
   "metadata": {},
   "source": [
    "We discussed memoization and demonstrated it using our recursive implementations for binom, change, and cnt_paths. Additionally, we solved an exam question about Catalan numbers which involves recursion, memoization, and complexity. Finally, we gave an intro to analysis of prime numbers and primality testing. We will continue this subject in the next recitation."
   ]
  },
  {
   "cell_type": "markdown",
   "metadata": {},
   "source": [
    "#### Takeaways:\n",
    "- Memoization is mainly technical. Remember the main steps of defining an envelope function, deciding what keys you use to describe the input, \n",
    "and finally changing your recursive implementation so that it will search for the key in the dictionary before making the recursive calls, and save the key:value pair after obtaining the value for a certain input. \n",
    "- The keys of the dictionary should be chosen to represent the current input to the function in a one-to-one fashion.\n",
    "- When analyzing the time complexity of a recursive function with memoization, consider the recursion tree and remember that a node that has already been computed will not have a subtree."
   ]
  },
  {
   "cell_type": "markdown",
   "metadata": {},
   "source": [
    "#### Code for printing several outputs in one cell (not part of the recitation):"
   ]
  },
  {
   "cell_type": "code",
   "execution_count": 2,
   "metadata": {},
   "outputs": [],
   "source": [
    "from IPython.core.interactiveshell import InteractiveShell\n",
    "InteractiveShell.ast_node_interactivity = \"all\""
   ]
  },
  {
   "cell_type": "markdown",
   "metadata": {},
   "source": [
    "# Recursion & Memoization"
   ]
  },
  {
   "cell_type": "markdown",
   "metadata": {},
   "source": [
    "## Binom"
   ]
  },
  {
   "cell_type": "markdown",
   "metadata": {},
   "source": [
    "The number of sets of size $k$ selected from a set of $n$ elements (with no repetitions)\n",
    "Recursive formula (Pascal):\n",
    "$\\binom{n}{k} = \\binom{n-1}{k} + \\binom{n-1}{k-1}$\n",
    "where the stopping criterion is $\\binom{n}{0} = \\binom{n}{n} = 1$\n",
    "\n",
    "The time complexity of binom is exponential in $n$ (worst case behaviour is when $k=\\frac{n}{2}$)"
   ]
  },
  {
   "cell_type": "markdown",
   "metadata": {},
   "source": [
    "From previous class:"
   ]
  },
  {
   "cell_type": "code",
   "execution_count": 3,
   "metadata": {},
   "outputs": [
    {
     "name": "stdout",
     "output_type": "stream",
     "text": [
      ">>(4,2)\n",
      ">>>>(3,2)\n",
      ">>>>>>(2,2)\n",
      "<<<<<<(2,2)\n",
      ">>>>>>(2,1)\n",
      ">>>>>>>>(1,1)\n",
      "<<<<<<<<(1,1)\n",
      ">>>>>>>>(1,0)\n",
      "<<<<<<<<(1,0)\n",
      "<<<<<<(2,1)\n",
      "<<<<(3,2)\n",
      ">>>>(3,1)\n",
      ">>>>>>(2,1)\n",
      ">>>>>>>>(1,1)\n",
      "<<<<<<<<(1,1)\n",
      ">>>>>>>>(1,0)\n",
      "<<<<<<<<(1,0)\n",
      "<<<<<<(2,1)\n",
      ">>>>>>(2,0)\n",
      "<<<<<<(2,0)\n",
      "<<<<(3,1)\n",
      "<<(4,2)\n"
     ]
    },
    {
     "data": {
      "text/plain": [
       "6"
      ]
     },
     "execution_count": 3,
     "metadata": {},
     "output_type": "execute_result"
    }
   ],
   "source": [
    "def binom(n,k):\n",
    "    if n < 0 or k < 0 or n < k:\n",
    "        return 0\n",
    "    elif (k==0 or n==k):\n",
    "        return 1\n",
    "    return binom(n-1,k) + binom(n-1,k-1)\n",
    "\n",
    "def binom_trace(n,k):\n",
    "    result = binom_trace(n,k)\n",
    "    return result\n",
    "\n",
    "def binom_trace(n,k,indent=1):\n",
    "    #indent = how much to indent the printouts\n",
    "    if (k<0 or n<0 or n<k): # safety checks\n",
    "        return 0\n",
    "    elif (k==0 or k==n): # halting conditions\n",
    "        print(\">>\"*indent + \"({},{})\".format(n,k))\n",
    "        print(\"<<\"*indent + \"({},{})\".format(n,k))\n",
    "        return 1\n",
    "    print(\">>\"*indent + \"({},{})\".format(n,k))\n",
    "    indent+=1\n",
    "    val = binom_trace(n-1,k,indent) + binom_trace(n-1,k-1,indent)\n",
    "    indent-=1\n",
    "    print(\"<<\"*indent + \"({},{})\".format(n,k))\n",
    "    return val\n",
    "\n",
    "binom_trace(4,2)"
   ]
  },
  {
   "cell_type": "markdown",
   "metadata": {},
   "source": [
    "Now with memoization:"
   ]
  },
  {
   "cell_type": "code",
   "execution_count": 3,
   "metadata": {},
   "outputs": [
    {
     "data": {
      "text/plain": [
       "6"
      ]
     },
     "execution_count": 3,
     "metadata": {},
     "output_type": "execute_result"
    },
    {
     "data": {
      "text/plain": [
       "126410606437752"
      ]
     },
     "execution_count": 3,
     "metadata": {},
     "output_type": "execute_result"
    }
   ],
   "source": [
    "def binom_fast(n,k):\n",
    "    d = {}\n",
    "    return binom_mem(n,k,d)\n",
    "\n",
    "def binom_mem(n,k,mem):\n",
    "    if n < 0 or k < 0 or n < k:\n",
    "        return 0\n",
    "    elif (k==0 or n==k):\n",
    "        return 1\n",
    "    if (n,k) not in mem:\n",
    "        mem[(n,k)] = binom_mem(n-1,k, mem) + \\\n",
    "                    binom_mem(n-1,k-1, mem)\n",
    "    return mem[(n,k)]\n",
    "\n",
    "binom_fast(4,2)\n",
    "binom_fast(50,25)"
   ]
  },
  {
   "cell_type": "markdown",
   "metadata": {},
   "source": [
    "And now with the content of the dictionary: "
   ]
  },
  {
   "cell_type": "code",
   "execution_count": 10,
   "metadata": {},
   "outputs": [
    {
     "name": "stdout",
     "output_type": "stream",
     "text": [
      "2 1 {(2, 1): 2}\n",
      "3 2 {(2, 1): 2, (3, 2): 3}\n",
      "3 1 {(2, 1): 2, (3, 2): 3, (3, 1): 3}\n",
      "4 2 {(2, 1): 2, (3, 2): 3, (3, 1): 3, (4, 2): 6}\n"
     ]
    },
    {
     "data": {
      "text/plain": [
       "6"
      ]
     },
     "execution_count": 10,
     "metadata": {},
     "output_type": "execute_result"
    }
   ],
   "source": [
    "def binom_mem(n,k,mem):\n",
    "    if n < 0 or k < 0 or n < k:\n",
    "        return 0\n",
    "    elif (k==0 or n==k):\n",
    "        return 1\n",
    "    \n",
    "    if (n,k) not in mem:\n",
    "        mem[(n,k)] = binom_mem(n-1,k, mem) + \\\n",
    "                    binom_mem(n-1,k-1, mem)\n",
    "        print (n,k, mem)\n",
    "    return mem[(n,k)]\n",
    "\n",
    "binom_mem(4,2,{})"
   ]
  },
  {
   "cell_type": "markdown",
   "metadata": {},
   "source": [
    "Printing the recursive calls, with memoization:"
   ]
  },
  {
   "cell_type": "code",
   "execution_count": 7,
   "metadata": {},
   "outputs": [
    {
     "name": "stdout",
     "output_type": "stream",
     "text": [
      ">>(4,2)\n",
      ">>>>(3,2)\n",
      ">>>>>>(2,2)\n",
      "<<<<<<(2,2)\n",
      ">>>>>>(2,1)\n",
      ">>>>>>>>(1,1)\n",
      "<<<<<<<<(1,1)\n",
      ">>>>>>>>(1,0)\n",
      "<<<<<<<<(1,0)\n",
      "<<<<<<(2,1)\n",
      "<<<<(3,2)\n",
      ">>>>(3,1)\n",
      ">>>>>>(2,1)\n",
      "<<<<<<(2,1)\n",
      ">>>>>>(2,0)\n",
      "<<<<<<(2,0)\n",
      "<<<<(3,1)\n",
      "<<(4,2)\n"
     ]
    },
    {
     "data": {
      "text/plain": [
       "6"
      ]
     },
     "execution_count": 7,
     "metadata": {},
     "output_type": "execute_result"
    }
   ],
   "source": [
    "def binom_fast_trace(n,k):\n",
    "    mem = dict()\n",
    "    result = binom_mem_trace(n,k,mem)\n",
    "    return result\n",
    "\n",
    "def binom_mem_trace(n,k,mem,indent=1):\n",
    "    #indent = how much to indent the printouts\n",
    "    if (k<0 or n<0 or n<k): # safety checks\n",
    "        return 0\n",
    "    elif (k==0 or k==n): # halting conditions\n",
    "        print(\">>\"*indent + \"({},{})\".format(n,k))\n",
    "        print(\"<<\"*indent + \"({},{})\".format(n,k))\n",
    "        return 1\n",
    "    print(\">>\"*indent + \"({},{})\".format(n,k))\n",
    "    indent+=1\n",
    "    if (n,k) not in mem:\n",
    "        mem[(n,k)] = binom_mem_trace(n-1,k,mem,indent) + binom_mem_trace(n-1,k-1,mem,indent)\n",
    "    indent-=1\n",
    "    print(\"<<\"*indent + \"({},{})\".format(n,k))\n",
    "    return mem[(n,k)]\n",
    "\n",
    "\n",
    "binom_fast_trace(4,2)"
   ]
  },
  {
   "cell_type": "markdown",
   "metadata": {},
   "source": [
    "#### Analysis of binom_fast(n,k):\n",
    "\n",
    "Time complexity = number of different visited cells \\* number of visits per cell \\* time per visit (not including recursive calls)\n",
    "\n",
    "The same analysis can be found in the following <a href=\"http://tau-cs1001-py.wdfiles.com/local--files/recitation-logs-2017a/a_06_binom_mem_complexity.pdf\" >link</a> "
   ]
  },
  {
   "attachments": {
    "binom_proof.PNG": {
     "image/png": "[encoded data removed]"
    }
   },
   "cell_type": "markdown",
   "metadata": {},
   "source": [
    "![binom_proof.PNG](attachment:binom_proof.PNG)"
   ]
  },
  {
   "cell_type": "markdown",
   "metadata": {},
   "source": [
    "## Change problem"
   ]
  },
  {
   "cell_type": "markdown",
   "metadata": {},
   "source": [
    "A bus driver needs to give an exact change and she has coins of limited types. She has infinite coins of each type.\n",
    "Given the amount of change ($amount$) and the coin types (the list $coins$), how many ways are there? \n",
    "\n",
    "solution:\n",
    "The requested value (denoted as $W(amount, coins)$) is equal to the number of ways to give the change when using coins of type $coins[-1]$ at least once plus the number of ways to give the change without using coins of type $coins[-1]$.\n",
    "$W(amount, coins) = W(amount-coins[-1], coins) + W(amount, coins[:-1])$\n",
    "\n",
    "stopping crtiteria:\n",
    "- If $amount == 0$ return 1\n",
    "- If $amount <0$ or $coins==[]$ return 0\n",
    "\n",
    "This function change() below has an exponential time complexity."
   ]
  },
  {
   "cell_type": "markdown",
   "metadata": {},
   "source": [
    "From previous class:"
   ]
  },
  {
   "cell_type": "code",
   "execution_count": 4,
   "metadata": {
    "collapsed": true
   },
   "outputs": [],
   "source": [
    "def change(amount, coins):\n",
    "    if amount == 0:\n",
    "        return 1\n",
    "    elif amount < 0 or coins == []:\n",
    "        return 0\n",
    "    return change(amount, coins[:-1]) +\\\n",
    "        change(amount - coins[-1], coins)"
   ]
  },
  {
   "cell_type": "markdown",
   "metadata": {},
   "source": [
    "Now with memoization:"
   ]
  },
  {
   "cell_type": "code",
   "execution_count": 5,
   "metadata": {},
   "outputs": [
    {
     "data": {
      "text/plain": [
       "21084"
      ]
     },
     "execution_count": 5,
     "metadata": {},
     "output_type": "execute_result"
    }
   ],
   "source": [
    "def change_fast(amount, coins):\n",
    "    d = {}\n",
    "    return change_mem(amount, coins, d)\n",
    "\n",
    "def change_mem(amount, coins, d):\n",
    "    if amount == 0:\n",
    "        return 1\n",
    "    elif amount < 0 or coins == []:\n",
    "        return 0\n",
    "    #if (amount, tuple(coins)) not in d:\n",
    "    if (amount, len(coins)) not in d:\n",
    "        #d[(amount, tuple(coins))] = \\\n",
    "        d[(amount, len(coins))] = \\\n",
    "            change_mem(amount, coins[:-1], d) +\\\n",
    "            change_mem(amount - coins[-1], coins, d)\n",
    "    #return d[(amount, tuple(coins))]\n",
    "    return d[(amount, len(coins))]\n",
    "\n",
    "change_fast(500, [1,3,2])\n",
    "        \n",
    "        \n",
    "    \n",
    "    "
   ]
  },
  {
   "cell_type": "markdown",
   "metadata": {},
   "source": [
    "## Count paths"
   ]
  },
  {
   "cell_type": "markdown",
   "metadata": {},
   "source": [
    "We solved question 2(b) from the 2015 fall semester exam (Moed B):\n",
    "<img src=\"cnt_path_question.png\">"
   ]
  },
  {
   "cell_type": "markdown",
   "metadata": {},
   "source": [
    "From previous class:"
   ]
  },
  {
   "cell_type": "code",
   "execution_count": 6,
   "metadata": {},
   "outputs": [],
   "source": [
    "def cnt_paths(L):\n",
    "    if all_zeros(L):\n",
    "        return 1\n",
    "    \n",
    "    result = 0\n",
    "    for i in range(len(L)):\n",
    "        if L[i] != 0:\n",
    "            L[i] -= 1\n",
    "            result += cnt_paths(L)\n",
    "            L[i] += 1\n",
    "    return result\n",
    "\n",
    "def all_zeros(L):\n",
    "    for i in L:\n",
    "        if i != 0:\n",
    "            return False\n",
    "    return True"
   ]
  },
  {
   "cell_type": "markdown",
   "metadata": {},
   "source": [
    "Now with memoization:"
   ]
  },
  {
   "cell_type": "code",
   "execution_count": 7,
   "metadata": {},
   "outputs": [
    {
     "data": {
      "text/plain": [
       "3"
      ]
     },
     "execution_count": 7,
     "metadata": {},
     "output_type": "execute_result"
    },
    {
     "data": {
      "text/plain": [
       "7486376454823865391082482192000"
      ]
     },
     "execution_count": 7,
     "metadata": {},
     "output_type": "execute_result"
    }
   ],
   "source": [
    "def cnt_paths_fast(L):\n",
    "    d = {}\n",
    "    return cnt_paths_mem(L,d)\n",
    "\n",
    "def cnt_paths_mem(L,d):\n",
    "    if all_zeros(L):\n",
    "        return 1\n",
    "    if tuple(L) not in d:\n",
    "        result = 0\n",
    "        for i in range(len(L)):\n",
    "            if L[i] != 0:\n",
    "                L[i] -= 1\n",
    "                result += cnt_paths_mem(L, d)\n",
    "                L[i] += 1\n",
    "        d[tuple(L)] = result\n",
    "    return d[tuple(L)]\n",
    "\n",
    "def all_zeros(L):\n",
    "    for i in L:\n",
    "        if i != 0:\n",
    "            return False\n",
    "    return True\n",
    "\n",
    "cnt_paths_fast([1,2])\n",
    "cnt_paths_fast([1,2,80, 4, 7,6])"
   ]
  },
  {
   "cell_type": "markdown",
   "metadata": {},
   "source": [
    "## Catalan numbers"
   ]
  },
  {
   "cell_type": "markdown",
   "metadata": {},
   "source": [
    "We solved question 5 from the <a href=\"http://tau-cs1001-py.wdfiles.com/local--files/recitation-logs-2016b/m_catalan_exam_question.pdf\"> 2015 spring semester exam (Moed B)</a>:\n",
    "\n",
    "<img src=\"catalan.png\">"
   ]
  },
  {
   "cell_type": "markdown",
   "metadata": {},
   "source": [
    "#### An iterative implementation (section a):"
   ]
  },
  {
   "cell_type": "code",
   "execution_count": null,
   "metadata": {},
   "outputs": [],
   "source": [
    "def catalan1(n):\n",
    "    cat = [0]*(n+1)\n",
    "    cat[0] = 1\n",
    "    for i in range(1, n+1):\n",
    "        #calculating C(i)\n",
    "        for j in range(i):\n",
    "            cat[i] += cat[j]*cat[i-j-1]\n",
    "\n",
    "    \n",
    "    return cat[n]\n",
    "    \n",
    "    \n",
    "    \n",
    "    "
   ]
  },
  {
   "cell_type": "markdown",
   "metadata": {},
   "source": [
    "#### Complexity (section b):\n",
    "We assume that arithmetic operations take constant time.\n",
    "\n",
    "Let's consider the significant operations invelved in the function. First, it creates a list of size $n+1$, so that's $O(n)$ work. Then, it iterates through two loops, in a nested structure, where the inner loop is dependent on the outer loop. \n",
    "Using the tools we learned in class, we can analyze the number of iterations: $\\sum_{i=1}^{n} i = O(n^2)$."
   ]
  },
  {
   "cell_type": "markdown",
   "metadata": {},
   "source": [
    "#### A recursive implementation with memoization (section c):"
   ]
  },
  {
   "cell_type": "code",
   "execution_count": null,
   "metadata": {},
   "outputs": [],
   "source": [
    "def catalan2(n):\n",
    "    d = dict()\n",
    "    return catalan_rec(n,d)\n",
    "\n",
    "def catalan_rec(n,d):\n",
    "    if n==0:\n",
    "        return 1\n",
    "    \n",
    "    if n not in d:\n",
    "        result = 0\n",
    "        for i in range(n):\n",
    "            result += catalan_rec(i,d) * catalan_rec(n-i-1,d)\n",
    "        d[n] = result\n",
    "        \n",
    "    return d[n]\n",
    "        \n",
    "\n"
   ]
  },
  {
   "cell_type": "markdown",
   "metadata": {},
   "source": [
    "#### Analysis of the recursive version:\n",
    "The recursion depth is $O(n)$.\n",
    "\n",
    "The tree will have a path of length $O(n)$, and every inner node along this path (including the root), solving a problem of size $i$, will have $(2*i-1)$ other child nodes that are leaves (among its $2*i$ child nodes).\n",
    "\n",
    "Note that in every node, where we solve a problem of size $i$, we spend $O(i)$ time not including the recursive calls. Thus, the overall time complexity is $O(n^2)$."
   ]
  },
  {
   "cell_type": "markdown",
   "metadata": {},
   "source": [
    "# Intro to primes"
   ]
  },
  {
   "cell_type": "markdown",
   "metadata": {},
   "source": [
    "Fermat's little theorem: if $p$ is prime and $1 < a < p$, then $a^{p-1} (\\textrm{mod}\\ p) \\equiv 1$\n",
    "\n",
    "Equivalently: if $m$ is not a prime then there exists $1 < a < p$ such that $a^{p-1} (\\textrm{mod}\\ p) \\not\\equiv 1$. Such a number $a$ is called a witness to the fact that $m$ is not prime.\n",
    "\n",
    "We can use Fermat's little theorem in order test whether a given number is prime. Note that if the number has $n$ bits than testing all possible $a$s will require $O(2^n)$ iterations (a lot!).\n",
    "\n",
    "Instead, we will try 100 random $a$s in the range and see if one works as a witness."
   ]
  },
  {
   "cell_type": "markdown",
   "metadata": {},
   "source": [
    "### Primality test using Ferma's witness"
   ]
  },
  {
   "cell_type": "code",
   "execution_count": null,
   "metadata": {
    "collapsed": true
   },
   "outputs": [],
   "source": [
    "import random\n",
    "\n",
    "def is_prime(m, show_witness=False):\n",
    "\n",
    "    \"\"\" probabilistic test for m's compositeness \"\"\"\n",
    "\n",
    "    for i in range(0,100):\n",
    "        a = random.randint(1,m-1) # a is a random integer in [1..m-1]\n",
    "        if pow(a,m-1,m) != 1:\n",
    "            if show_witness:  # caller wishes to see a witness\n",
    "                print(m,\"is composite\",\"\\n\",a,\"is a witness, i=\",i+1)\n",
    "            return False\n",
    "\n",
    "    return True"
   ]
  }
 ],
 "metadata": {
  "kernelspec": {
   "display_name": "Python 3",
   "language": "python",
   "name": "python3"
  },
  "language_info": {
   "codemirror_mode": {
    "name": "ipython",
    "version": 3
   },
   "file_extension": ".py",
   "mimetype": "text/x-python",
   "name": "python",
   "nbconvert_exporter": "python",
   "pygments_lexer": "ipython3",
   "version": "3.6.2"
  }
 },
 "nbformat": 4,
 "nbformat_minor": 1
}
