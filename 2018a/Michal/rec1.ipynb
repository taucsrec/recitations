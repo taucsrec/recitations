{
 "cells": [
  {
   "cell_type": "markdown",
   "metadata": {
    "collapsed": true
   },
   "source": [
    "If-else structure"
   ]
  },
  {
   "cell_type": "code",
   "execution_count": 1,
   "metadata": {
    "collapsed": false
   },
   "outputs": [
    {
     "name": "stdout",
     "output_type": "stream",
     "text": [
      "no intro to CS\n"
     ]
    }
   ],
   "source": [
    "today = \"Tuesday\"\n",
    "strike = \"No\"\n",
    "my_recitation = \"Thursday\"\n",
    "\n",
    "if today == \"Sunday\":\n",
    "    print(\"Shvizut Yom Alef\")\n",
    "    if strike == \"Y\":\n",
    "        print(\"Stay home\")\n",
    "    else:\n",
    "        print(\"Lecture in intro to CS!\")\n",
    "elif today == \"Wednesday\":\n",
    "    print(\"Another lecture in intro to CS!\")\n",
    "elif today==my_recitation:\n",
    "    print(\"Go to recitation!\")\n",
    "elif today==\"Monday\" or today==\"Tuesday\" or today==\"Friday\" or today==\"Saturday\":\n",
    "    print(\"no intro to CS\")\n",
    "else:\n",
    "    print(\"Not a day\")"
   ]
  }
 ],
 "metadata": {
  "kernelspec": {
   "display_name": "Python 3",
   "language": "python",
   "name": "python3"
  },
  "language_info": {
   "codemirror_mode": {
    "name": "ipython",
    "version": 3
   },
   "file_extension": ".py",
   "mimetype": "text/x-python",
   "name": "python",
   "nbconvert_exporter": "python",
   "pygments_lexer": "ipython3",
   "version": "3.4.4"
  }
 },
 "nbformat": 4,
 "nbformat_minor": 1
}
