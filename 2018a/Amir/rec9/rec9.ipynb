{
 "cells": [
  {
   "cell_type": "markdown",
   "metadata": {},
   "source": [
    "<h1><center>cs1001.py , Tel Aviv University, Fall 2017-2018</center></h1>\n",
    "<img src=\"http://www.pngall.com/wp-content/uploads/2016/05/Python-Logo-PNG-Image-180x180.png\" width=50/>"
   ]
  },
  {
   "cell_type": "markdown",
   "metadata": {},
   "source": [
    "# Recitation 9"
   ]
  },
  {
   "cell_type": "markdown",
   "metadata": {},
   "source": [
    "We discussed two data structures: Linked lists and Binary search trees. \n",
    "Then, we solved two (challenging) recursion exercises: Choose-sets and N-queens.\n",
    "\n",
    "#### Takeaways:\n",
    "- When choosing a data structure (DS) for a specific application, consider the advantages and disadvantages of this DS and then evaluate whether it fits your application.\n",
    "- We have proved the correctness of inorder(), which is an important skill to learn for all algorithms that we implement. \n",
    "- Important properties of Linked lists: \n",
    "    - Not stored continuously in memory.\n",
    "    - Allow for detetion and insertion after a __given__ element in $O(1)$ time.\n",
    "    - Accessing the $i$'th element takes $O(i)$ time.\n",
    "    - Search takes $O(n)$ time (no random access $\\implies$ no $O(\\log{n})$ search).\n",
    "- Important properties of Binary search trees: \n",
    "    - Insert and find take $O(h)$ time where $h$ is the height of the tree.\n",
    "    - When a tree containing $n$ nodes is balanced, $h = O(\\log{n})$.\n",
    "    - Many methods in this class are implemented using recursion.\n",
    "- Solve as many recursion questions as possible. It gets easier after about 100."
   ]
  },
  {
   "cell_type": "markdown",
   "metadata": {},
   "source": [
    "#### Code for printing several outputs in one cell (not part of the recitation):"
   ]
  },
  {
   "cell_type": "code",
   "execution_count": 14,
   "metadata": {},
   "outputs": [],
   "source": [
    "from IPython.core.interactiveshell import InteractiveShell\n",
    "InteractiveShell.ast_node_interactivity = \"all\""
   ]
  },
  {
   "cell_type": "markdown",
   "metadata": {},
   "source": [
    "## Linked Lists"
   ]
  },
  {
   "cell_type": "markdown",
   "metadata": {},
   "source": [
    "Code from class"
   ]
  },
  {
   "cell_type": "code",
   "execution_count": 6,
   "metadata": {},
   "outputs": [],
   "source": [
    "class Node():\n",
    "    def __init__(self, val):\n",
    "        self.value = val\n",
    "        self.next = None\n",
    "        \n",
    "    def __repr__(self):\n",
    "        #return \"[\" + str(self.value) + \",\" + str(id(self.next))+ \"]\"\n",
    "        \n",
    "        #for today's recitation, we print the id of self instead of self.next\n",
    "        return \"[\" + str(self.value) + \",\" + str(id(self))+ \"]\"\n",
    "\n",
    "\n",
    "\n",
    "class Linked_list():\n",
    "\n",
    "    def __init__(self, seq=None):\n",
    "        self.next = None\n",
    "        self.len = 0\n",
    "        if seq != None:\n",
    "            for x in seq[::-1]:\n",
    "                self.add_at_start(x)\n",
    "            \n",
    "\n",
    "    def __repr__(self):\n",
    "       out = \"\"\n",
    "       p = self.next\n",
    "       while p != None:\n",
    "           out += str(p) + \" \" #str envokes __repr__ of class Node\n",
    "           p = p.next\n",
    "       return out\n",
    "\n",
    "            \n",
    "    def __len__(self):\n",
    "        ''' called when using Python's len() '''\n",
    "        return self.len\n",
    "            \n",
    "            \n",
    "    def add_at_start(self, val):\n",
    "        ''' add node with value val at the list head '''\n",
    "        p = self\n",
    "        tmp = p.next\n",
    "        p.next = Node(val)\n",
    "        p.next.next = tmp\n",
    "        self.len += 1\n",
    "    \n",
    "    def add_at_end(self, val):\n",
    "        ''' add node with value val at the list tail '''\n",
    "        p = self\n",
    "        while (p.next != None):\n",
    "            p = p.next\n",
    "        p.next = Node(val)\n",
    "        self.len += 1\n",
    "            \n",
    "        \n",
    "    def insert(self, loc, val):\n",
    "        ''' add node with value val after location 0<=loc<len of the list '''\n",
    "        assert 0 <= loc < len(self)\n",
    "        p = self\n",
    "        for i in range(0, loc):\n",
    "            p = p.next\n",
    "        tmp = p.next\n",
    "        p.next = Node(val)\n",
    "        p.next.next = tmp\n",
    "        self.len += 1\n",
    "        \n",
    "          \n",
    "    def __getitem__(self, loc):\n",
    "        ''' called when using L[i] for reading\n",
    "            return node at location 0<=loc<len '''\n",
    "        assert 0 <= loc < len(self)\n",
    "        p = self.next\n",
    "        for i in range(0, loc):\n",
    "            p = p.next\n",
    "        return p\n",
    "\n",
    "    def __setitem__(self, loc, val):\n",
    "        ''' called when using L[loc]=val for writing\n",
    "            assigns val to node at location 0<=loc<len '''\n",
    "        assert 0 <= loc < len(self)\n",
    "        p = self.next\n",
    "        for i in range(0, loc):\n",
    "            p = p.next\n",
    "        p.value = val\n",
    "        return None\n",
    "\n",
    "    \n",
    "    def find(self, val):\n",
    "        ''' find (first) node with value val in list '''\n",
    "        p = self.next\n",
    "        # loc = 0     # in case we want to return the location\n",
    "        while p != None:\n",
    "            if p.value == val:\n",
    "                return p\n",
    "            else:\n",
    "                p = p.next\n",
    "                #loc=loc+1   # in case we want to return the location\n",
    "        return None\n",
    "\n",
    "    def delete(self, loc):\n",
    "        ''' delete element at location 0<=loc<len '''\n",
    "        assert 0 <= loc < len(self)\n",
    "        p = self\n",
    "        for i in range(0, loc):\n",
    "            p = p.next\n",
    "        if p != None and p.next != None:\n",
    "            p.next = p.next.next\n",
    "        self.len -= 1\n",
    " \n",
    "    \n",
    "    def insert_ordered(self, val):\n",
    "        ''' assume self is an ordered list,\n",
    "            insert Node with val in order '''\n",
    "        p = self\n",
    "        q = self.next\n",
    "        while q != None and q.value < val:\n",
    "            p = q\n",
    "            q = q.next\n",
    "        newNode = Node(val)\n",
    "        p.next = newNode\n",
    "        newNode.next = q\n",
    "        self.len += 1\n",
    "\n",
    "    def find_ordered(self, val):\n",
    "        ''' assume self is an ordered list,\n",
    "            find Node with value val '''\n",
    "        p = self.next\n",
    "        while p != None and p.value < val:\n",
    "            p = p.next\n",
    "        if p != None and p.value == val: \n",
    "            return p\n",
    "        else:\n",
    "            return None\n"
   ]
  },
  {
   "cell_type": "markdown",
   "metadata": {},
   "source": [
    "Converting a string to a list"
   ]
  },
  {
   "cell_type": "code",
   "execution_count": 7,
   "metadata": {},
   "outputs": [
    {
     "data": {
      "text/plain": [
       "[a,2491464885696] [b,2491464884856] [c,2491464887544] "
      ]
     },
     "execution_count": 7,
     "metadata": {},
     "output_type": "execute_result"
    }
   ],
   "source": [
    "def string_to_linked_list(str):\n",
    "    L= Linked_list()\n",
    "    for ch in str[::-1]:\n",
    "        L.add_at_start(ch)\n",
    "    return L\n",
    "\n",
    "string_to_linked_list(\"abc\")"
   ]
  },
  {
   "cell_type": "markdown",
   "metadata": {},
   "source": [
    "Memory view"
   ]
  },
  {
   "cell_type": "markdown",
   "metadata": {},
   "source": [
    "<img src=\"linked_lst_mem.PNG\">"
   ]
  },
  {
   "cell_type": "markdown",
   "metadata": {},
   "source": [
    "Adding elements one by one. Try using Python tutor."
   ]
  },
  {
   "cell_type": "code",
   "execution_count": 16,
   "metadata": {},
   "outputs": [
    {
     "data": {
      "text/plain": [
       "[b,2491465543576] [a,2491465542904] "
      ]
     },
     "execution_count": 16,
     "metadata": {},
     "output_type": "execute_result"
    }
   ],
   "source": [
    "l = Linked_list()\n",
    "l.add_at_start(\"a\")\n",
    "l.add_at_start(\"b\")\n",
    "l"
   ]
  },
  {
   "cell_type": "markdown",
   "metadata": {},
   "source": [
    "Reversing a linked list in $O(1)$ additional memory. \n",
    "See the code and demo <a href=\"http://tau-cs1001-py.wdfiles.com/local--files/recitation-logs-2017b/m_09_reverse_list.pdf\">here</a>"
   ]
  },
  {
   "cell_type": "code",
   "execution_count": 15,
   "metadata": {},
   "outputs": [
    {
     "data": {
      "text/plain": [
       "[a,2491465701024] [b,2491465700968] [c,2491465700912] "
      ]
     },
     "execution_count": 15,
     "metadata": {},
     "output_type": "execute_result"
    },
    {
     "data": {
      "text/plain": [
       "[c,2491465700912] [b,2491465700968] [a,2491465701024] "
      ]
     },
     "execution_count": 15,
     "metadata": {},
     "output_type": "execute_result"
    }
   ],
   "source": [
    "class Node():\n",
    "    def __init__(self, val):\n",
    "        self.value = val\n",
    "        self.next = None\n",
    "        \n",
    "    def __repr__(self):\n",
    "        #return \"[\" + str(self.value) + \",\" + str(id(self.next))+ \"]\"\n",
    "        \n",
    "        #for today's recitation, we print the id of self instead of self.next\n",
    "        return \"[\" + str(self.value) + \",\" + str(id(self))+ \"]\"\n",
    "\n",
    "\n",
    "class Linked_list():\n",
    "\n",
    "    def __init__(self, seq=None):\n",
    "        self.next = None\n",
    "        self.len = 0\n",
    "        if seq != None:\n",
    "            for x in seq[::-1]:\n",
    "                self.add_at_start(x)\n",
    "            \n",
    "\n",
    "    def __repr__(self):\n",
    "       out = \"\"\n",
    "       p = self.next\n",
    "       while p != None:\n",
    "           out += str(p) + \" \" #str envokes __repr__ of class Node\n",
    "           p = p.next\n",
    "       return out\n",
    "\n",
    "            \n",
    "    def __len__(self):\n",
    "        ''' called when using Python's len() '''\n",
    "        return self.len\n",
    "            \n",
    "            \n",
    "    def add_at_start(self, val):\n",
    "        ''' add node with value val at the list head '''\n",
    "        p = self\n",
    "        tmp = p.next\n",
    "        p.next = Node(val)\n",
    "        p.next.next = tmp\n",
    "        self.len += 1\n",
    "    \n",
    "    def add_at_end(self, val):\n",
    "        ''' add node with value val at the list tail '''\n",
    "        p = self\n",
    "        while (p.next != None):\n",
    "            p = p.next\n",
    "        p.next = Node(val)\n",
    "        self.len += 1\n",
    "            \n",
    "        \n",
    "    def insert(self, loc, val):\n",
    "        ''' add node with value val after location 0<=loc<len of the list '''\n",
    "        assert 0 <= loc < len(self)\n",
    "        p = self\n",
    "        for i in range(0, loc):\n",
    "            p = p.next\n",
    "        tmp = p.next\n",
    "        p.next = Node(val)\n",
    "        p.next.next = tmp\n",
    "        self.len += 1\n",
    "        \n",
    "          \n",
    "    def __getitem__(self, loc):\n",
    "        ''' called when using L[i] for reading\n",
    "            return node at location 0<=loc<len '''\n",
    "        assert 0 <= loc < len(self)\n",
    "        p = self.next\n",
    "        for i in range(0, loc):\n",
    "            p = p.next\n",
    "        return p\n",
    "\n",
    "    def __setitem__(self, loc, val):\n",
    "        ''' called when using L[loc]=val for writing\n",
    "            assigns val to node at location 0<=loc<len '''\n",
    "        assert 0 <= loc < len(self)\n",
    "        p = self.next\n",
    "        for i in range(0, loc):\n",
    "            p = p.next\n",
    "        p.value = val\n",
    "        return None\n",
    "\n",
    "    \n",
    "    def find(self, val):\n",
    "        ''' find (first) node with value val in list '''\n",
    "        p = self.next\n",
    "        # loc = 0     # in case we want to return the location\n",
    "        while p != None:\n",
    "            if p.value == val:\n",
    "                return p\n",
    "            else:\n",
    "                p = p.next\n",
    "                #loc=loc+1   # in case we want to return the location\n",
    "        return None\n",
    "\n",
    "    def delete(self, loc):\n",
    "        ''' delete element at location 0<=loc<len '''\n",
    "        assert 0 <= loc < len(self)\n",
    "        p = self\n",
    "        for i in range(0, loc):\n",
    "            p = p.next\n",
    "        if p != None and p.next != None:\n",
    "            p.next = p.next.next\n",
    "        self.len -= 1\n",
    " \n",
    "    \n",
    "    def insert_ordered(self, val):\n",
    "        ''' assume self is an ordered list,\n",
    "            insert Node with val in order '''\n",
    "        p = self\n",
    "        q = self.next\n",
    "        while q != None and q.value < val:\n",
    "            p = q\n",
    "            q = q.next\n",
    "        newNode = Node(val)\n",
    "        p.next = newNode\n",
    "        newNode.next = q\n",
    "        self.len += 1\n",
    "\n",
    "    def find_ordered(self, val):\n",
    "        ''' assume self is an ordered list,\n",
    "            find Node with value val '''\n",
    "        p = self.next\n",
    "        while p != None and p.value < val:\n",
    "            p = p.next\n",
    "        if p != None and p.value == val: \n",
    "            return p\n",
    "        else:\n",
    "            return None\n",
    "\n",
    "    def reverse(self):\n",
    "        prev = None\n",
    "        curr = self.next\n",
    "        while curr !=None:\n",
    "            tmp = curr.next\n",
    "            curr.next = prev\n",
    "            prev = curr\n",
    "            curr = tmp\n",
    "        self.next = prev\n",
    "        \n",
    "ll = string_to_linked_list(\"abc\")\n",
    "ll\n",
    "ll.reverse()\n",
    "ll"
   ]
  },
  {
   "cell_type": "markdown",
   "metadata": {},
   "source": [
    "##  Binary Search Trees"
   ]
  },
  {
   "cell_type": "code",
   "execution_count": 10,
   "metadata": {},
   "outputs": [],
   "source": [
    "class Tree_node():\n",
    "    def __init__(self, key, val):\n",
    "        self.key = key\n",
    "        self.val = val\n",
    "        self.left = None\n",
    "        self.right = None\n",
    "\n",
    "    def __repr__(self):\n",
    "        return \"(\" + str(self.key) + \":\" + str(self.val) + \")\"\n",
    "    \n",
    "    \n",
    "    \n",
    "class Binary_search_tree():\n",
    "\n",
    "    def __init__(self):\n",
    "        self.root = None\n",
    "\n",
    "\n",
    "    def __repr__(self): #no need to understand the implementation of this one\n",
    "        out = \"\"\n",
    "        for row in printree(self.root): #need printree.py file\n",
    "            out = out + row + \"\\n\"\n",
    "        return out\n",
    "\n",
    "\n",
    "    def lookup(self, key):\n",
    "        ''' return node with key, uses recursion '''\n",
    "\n",
    "        def lookup_rec(node, key):\n",
    "            if node == None:\n",
    "                return None\n",
    "            elif key == node.key:\n",
    "                return node\n",
    "            elif key < node.key:\n",
    "                return lookup_rec(node.left, key)\n",
    "            else:\n",
    "                return lookup_rec(node.right, key)\n",
    "\n",
    "        return lookup_rec(self.root, key)\n",
    "\n",
    "\n",
    "\n",
    "    def insert(self, key, val):\n",
    "        ''' insert node with key,val into tree, uses recursion '''\n",
    "\n",
    "        def insert_rec(node, key, val):\n",
    "            if key == node.key:\n",
    "                node.val = val     # update the val for this key\n",
    "            elif key < node.key:\n",
    "                if node.left == None:\n",
    "                    node.left = Tree_node(key, val)\n",
    "                else:\n",
    "                    insert_rec(node.left, key, val)\n",
    "            else: #key > node.key:\n",
    "                if node.right == None:\n",
    "                    node.right = Tree_node(key, val)\n",
    "                else:\n",
    "                    insert_rec(node.right, key, val)\n",
    "            return\n",
    "        \n",
    "        if self.root == None: #empty tree\n",
    "            self.root = Tree_node(key, val)\n",
    "        else:\n",
    "            insert_rec(self.root, key, val)\n",
    "\n",
    "\n",
    "    def minimum(self):\n",
    "        ''' return node with minimal key '''\n",
    "        if self.root == None:\n",
    "            return None\n",
    "        node = self.root\n",
    "        left = node.left\n",
    "        while left != None:\n",
    "            node = left\n",
    "            left = node.left\n",
    "        return node\n",
    "\n",
    "\n",
    "    def depth(self):\n",
    "        ''' return depth of tree, uses recursion'''\n",
    "        def depth_rec(node):\n",
    "            if node == None:\n",
    "                return -1\n",
    "            else:\n",
    "                return 1 + max(depth_rec(node.left), depth_rec(node.right))\n",
    "\n",
    "        return depth_rec(self.root)\n",
    "\n",
    "\n",
    "    def size(self):\n",
    "        ''' return number of nodes in tree, uses recursion '''\n",
    "        def size_rec(node):\n",
    "            if node == None:\n",
    "                return 0\n",
    "            else:\n",
    "                return 1 + size_rec(node.left) + size_rec(node.right)\n",
    "\n",
    "        return size_rec(self.root)\n",
    "    \n",
    "    def inorder(self):\n",
    "        '''prints the keys of the tree in a sorted order'''\n",
    "        def inorder_rec(node):\n",
    "            if node == None:\n",
    "                return\n",
    "            inorder_rec(node.left)\n",
    "            print(node.key)\n",
    "            inorder_rec(node.right)\n",
    "\n",
    "        inorder_rec(self.root)\n"
   ]
  },
  {
   "cell_type": "code",
   "execution_count": 11,
   "metadata": {},
   "outputs": [
    {
     "name": "stdout",
     "output_type": "stream",
     "text": [
      "1\n",
      "2\n",
      "3\n",
      "4\n"
     ]
    }
   ],
   "source": [
    "t = Binary_search_tree()\n",
    "t.insert(2,\"hi\")\n",
    "t.insert(4,\"tea\")\n",
    "t.insert(1,\"mother\")\n",
    "t.insert(3,\"CS\")\n",
    "t.insert(4,\"recursion\")\n",
    "\n",
    "t.inorder()"
   ]
  },
  {
   "cell_type": "markdown",
   "metadata": {},
   "source": [
    "#### Proof of the correctness of the inorder function (can also be found <a href=\"http://tau-cs1001-py.wdfiles.com/local--files/recitation-logs-2017b/m_09_BST_inorder_proof.pdf\"> here</a>)"
   ]
  },
  {
   "cell_type": "markdown",
   "metadata": {},
   "source": [
    "<img src=\"inorder_proof.PNG\">"
   ]
  },
  {
   "cell_type": "markdown",
   "metadata": {},
   "source": [
    "##  Choose sets"
   ]
  },
  {
   "cell_type": "markdown",
   "metadata": {},
   "source": [
    "<img src=\"choose_sets.PNG\">"
   ]
  },
  {
   "cell_type": "code",
   "execution_count": 13,
   "metadata": {},
   "outputs": [
    {
     "data": {
      "text/plain": [
       "[[]]"
      ]
     },
     "execution_count": 13,
     "metadata": {},
     "output_type": "execute_result"
    },
    {
     "data": {
      "text/plain": [
       "[[2, 1], [3, 1], [4, 1], [3, 2], [4, 2], [4, 3]]"
      ]
     },
     "execution_count": 13,
     "metadata": {},
     "output_type": "execute_result"
    },
    {
     "data": {
      "text/plain": [
       "[[4, 3, 2, 1]]"
      ]
     },
     "execution_count": 13,
     "metadata": {},
     "output_type": "execute_result"
    }
   ],
   "source": [
    "def choose_sets(lst,k):\n",
    "        if k==0:\n",
    "                return [[]]\n",
    "        elif len(lst)<k:\n",
    "                return []\n",
    "        tmp = choose_sets(lst[1:],k-1)\n",
    "        for e in tmp:\n",
    "                e.append(lst[0])\n",
    "                \n",
    "        tmp.extend(choose_sets(lst[1:],k))\n",
    "        return tmp\n",
    "    \n",
    "choose_sets([1,2,3,4], 0)\n",
    "choose_sets([1,2,3,4], 2)\n",
    "choose_sets([1,2,3,4], 4)"
   ]
  },
  {
   "cell_type": "markdown",
   "metadata": {},
   "source": [
    "## The N-Queens Problem"
   ]
  },
  {
   "cell_type": "markdown",
   "metadata": {},
   "source": [
    "The presentation can be found <a href=\"http://tau-cs1001-py.wdfiles.com/local--files/recitation-logs-2017b/8queens.pdf\">here</a>.\n",
    "\n",
    "First try to understand the queens() and queens_rec() functions and then try to understand how the function legal() works.\n",
    "\n",
    "Some intuition for queens_rec:\n",
    "\n",
    "assume we can find a solution for placing $k<N$ queens, how do we expand the solution to $k+1$?\n",
    "queens_rec returns the number of possible legal placements for $N$ queens, where $k$ are already placed at the leftmost columns and there are $N-k$ queens left to place. \n",
    "The recursive idea: Legally place queen number $(k+1)$ and recursively solve the problem, when there is one less queen to place.\n",
    "\n",
    "\n",
    "Note that the complexity is $O(N!)$ (greater than $O(2^N)$)\n"
   ]
  },
  {
   "cell_type": "code",
   "execution_count": 17,
   "metadata": {},
   "outputs": [],
   "source": [
    "def queens(n,show=True):\n",
    "    ''' how many ways to place n queens on an nXn board? '''\n",
    "    partial = []    # list representing partial placement of queens\n",
    "    return queens_rec(n, partial,show)\n",
    "\n",
    "def queens_rec(n, partial,show):\n",
    "    ''' Given a list representing partial placement of queens,\n",
    "        can we legally extend it ? '''\n",
    "    if len(partial)==n: #all n queens are placed legally\n",
    "        if show:\n",
    "            print(partial)\n",
    "        return 1\n",
    "    else:\n",
    "        cnt=0\n",
    "        for i in range(n):\n",
    "            if legal(partial,i): #try to place a queen in row i of the next column\n",
    "                cnt += queens_rec(n, partial+[i],show)\n",
    "        return cnt\n",
    "\n",
    "def legal(partial, i):\n",
    "    ''' Can we place a queen in the next column in row i ? '''\n",
    "    left = [j for j in partial if j==i] #any queens in the same row to the left?\n",
    "    diag_up = [j for j in partial if j-partial.index(j) == i-len(partial)] #diagonal up-left\n",
    "    diag_down = [j for j in partial if j+partial.index(j) == i+len(partial)] #diagonal down-left\n",
    "    res = (left == diag_up == diag_down == [])\n",
    "    # print (\"partial=\",partial,\"can add queen at row\", i , \"?\",res)\n",
    "    return res"
   ]
  }
 ],
 "metadata": {
  "kernelspec": {
   "display_name": "Python 3",
   "language": "python",
   "name": "python3"
  },
  "language_info": {
   "codemirror_mode": {
    "name": "ipython",
    "version": 3
   },
   "file_extension": ".py",
   "mimetype": "text/x-python",
   "name": "python",
   "nbconvert_exporter": "python",
   "pygments_lexer": "ipython3",
   "version": "3.6.2"
  }
 },
 "nbformat": 4,
 "nbformat_minor": 1
}
