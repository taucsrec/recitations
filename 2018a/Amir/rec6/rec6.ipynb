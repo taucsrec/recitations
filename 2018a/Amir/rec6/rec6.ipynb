{
 "cells": [
  {
   "cell_type": "markdown",
   "metadata": {},
   "source": [
    "<h1><center>cs1001.py , Tel Aviv University, Fall 2017-2018</center></h1>\n",
    "<img src=\"http://www.pngall.com/wp-content/uploads/2016/05/Python-Logo-PNG-Image-180x180.png\" width=50/>"
   ]
  },
  {
   "cell_type": "markdown",
   "metadata": {},
   "source": [
    "# Recitation 6"
   ]
  },
  {
   "cell_type": "markdown",
   "metadata": {},
   "source": [
    "Recursion recursion recursion!\n",
    "\n",
    "We saw two recursive functions for finding the maximal element in a list.\n",
    "We discussed quicksort.\n",
    "Then we wrote three recursive functions: binom, change, and cnt_paths.\n",
    "We will get back to these function next week.\n",
    "\n",
    "\n",
    "#### Takeaways:\n",
    "- The recursion tree helps in bounding the recursion depth and time complexity. Each tree node represents a call to the recursive function. We write the relevant size of the input inside the tree node, and for each node we also keep the total amount of work done for this input, not including the time spent on the recursive call.\n",
    "- It is important to find out the recursion depth (as an O(.) bound). Note that python has a limit on this value.\n",
    "- The time complexity of a recursive function is the total amount of work in all the tree nodes."
   ]
  },
  {
   "cell_type": "markdown",
   "metadata": {},
   "source": [
    "#### Code for printing several outputs in one cell (not part of the recitation):"
   ]
  },
  {
   "cell_type": "code",
   "execution_count": null,
   "metadata": {
    "collapsed": true
   },
   "outputs": [],
   "source": [
    "from IPython.core.interactiveshell import InteractiveShell\n",
    "InteractiveShell.ast_node_interactivity = \"all\""
   ]
  },
  {
   "cell_type": "markdown",
   "metadata": {},
   "source": [
    "## Max1 \n",
    "The maximum is the maximal value between lst[0] and the result of recursively finding the max in lst[1:].\n",
    "\n",
    "Let $n$ denote the size of lst.\n",
    "\n",
    "Recursion depth: $O(n)$\n",
    "\n",
    "Time complexity: $O(n^2)$"
   ]
  },
  {
   "cell_type": "code",
   "execution_count": 4,
   "metadata": {
    "collapsed": true
   },
   "outputs": [],
   "source": [
    "def max1(L): \n",
    "    if len(L) == 1:\n",
    "        return L[0]\n",
    "    return max(max1(L[1:]), L[0])"
   ]
  },
  {
   "cell_type": "markdown",
   "metadata": {},
   "source": [
    "## Max2\n",
    "The maximum is the maximal value between the result of recursively finding the max in lst[:n//2] and the result of recursively finding the max in lst[n//2:], where $n$ denotes the size of lst.\n",
    "\n",
    "Recursion depth: $O(\\log{n})$\n",
    "\n",
    "Time complexity: $O(n\\log{n})$"
   ]
  },
  {
   "cell_type": "code",
   "execution_count": 5,
   "metadata": {
    "collapsed": true
   },
   "outputs": [],
   "source": [
    "def max2(L): \n",
    "    if len(L) == 1:\n",
    "        return L[0]\n",
    "    l = max2(L[:len(L)//2])\n",
    "    r = max2(L[len(L)//2:])\n",
    "    return max(l,r)"
   ]
  },
  {
   "cell_type": "markdown",
   "metadata": {},
   "source": [
    "### comparison in running times"
   ]
  },
  {
   "cell_type": "code",
   "execution_count": 6,
   "metadata": {
    "collapsed": false
   },
   "outputs": [
    {
     "name": "stdout",
     "output_type": "stream",
     "text": [
      "max1\n",
      "n= 1000 :  0.1126931254485437\n",
      "n= 2000 :  0.342663700192405\n",
      "n= 4000 :  1.9245601804517452\n",
      "max2\n",
      "n= 1000 :  0.012483430035867826\n",
      "n= 2000 :  0.02438024978702824\n",
      "n= 4000 :  0.048809054799506146\n"
     ]
    }
   ],
   "source": [
    "import time\n",
    "import random\n",
    "import sys\n",
    "sys.setrecursionlimit(5000)\n",
    "\n",
    "\n",
    "for f in [max1, max2]:\n",
    "    print(f.__name__)\n",
    "    for n in [1000,2000, 4000]:\n",
    "        L = [i for i in range(n)]\n",
    "        random.shuffle(L)\n",
    "        tic =time.clock()\n",
    "        for x in range(10):\n",
    "            f(L)\n",
    "        toc =time.clock()\n",
    "        print(\"n=\",n,\": \",toc-tic)"
   ]
  },
  {
   "cell_type": "markdown",
   "metadata": {},
   "source": [
    "## Quick Sort"
   ]
  },
  {
   "cell_type": "markdown",
   "metadata": {},
   "source": [
    "#### Random:"
   ]
  },
  {
   "cell_type": "code",
   "execution_count": null,
   "metadata": {
    "collapsed": true
   },
   "outputs": [],
   "source": [
    "def quicksort(lst):\n",
    "    \"\"\" quick sort of lst \"\"\"\n",
    "    if len(lst) <= 1: \n",
    "        return lst\n",
    "    else:\n",
    "        pivot = random.choice(lst)         # select a random element from list\n",
    "        smaller = [elem for elem in lst if elem < pivot] \n",
    "        equal = [elem for elem in lst if elem == pivot]      \n",
    "        greater = [elem for elem in lst if elem > pivot]\n",
    "        return quicksort(smaller) + equal + quicksort(greater) #two recursive calls"
   ]
  },
  {
   "cell_type": "markdown",
   "metadata": {},
   "source": [
    "#### Computing the probability of worst-case behaviour of quicksort (using recursive factorial):"
   ]
  },
  {
   "cell_type": "code",
   "execution_count": 7,
   "metadata": {
    "collapsed": false
   },
   "outputs": [
    {
     "data": {
      "text/plain": [
       "0.00014109347442680775"
      ]
     },
     "execution_count": 7,
     "metadata": {},
     "output_type": "execute_result"
    }
   ],
   "source": [
    "def factorial(n):\n",
    "    if n == 0:\n",
    "        return 1\n",
    "    return n * factorial(n-1)\n",
    "\n",
    "2**9 / factorial(10)"
   ]
  },
  {
   "cell_type": "markdown",
   "metadata": {},
   "source": [
    "#### Deterministic:"
   ]
  },
  {
   "cell_type": "code",
   "execution_count": null,
   "metadata": {
    "collapsed": true
   },
   "outputs": [],
   "source": [
    "def det_quicksort(lst):\n",
    "    \"\"\" sort using deterministic pivot selection \"\"\"\n",
    "    if len(lst) <= 1: \n",
    "        return lst\n",
    "    else:\n",
    "        pivot = lst[0]      # select first element from list\n",
    "        smaller = [elem \n",
    "                   elem in lst if elem < pivot] \n",
    "        equal = [elem for elem in lst if elem == pivot]      \n",
    "        greater = [elem for elem in lst if elem > pivot]\n",
    "        return det_quicksort(smaller) + equal + det_quicksort(greater) #two recursive calls"
   ]
  },
  {
   "cell_type": "markdown",
   "metadata": {},
   "source": [
    "## Binom"
   ]
  },
  {
   "cell_type": "markdown",
   "metadata": {},
   "source": [
    "The number of sets of size $k$ selected from a set of $n$ elements (with no repetitions)\n",
    "Recursive formula (Pascal):\n",
    "$\\binom{n}{k} = \\binom{n-1}{k} + \\binom{n-1}{k-1}$\n",
    "where the stopping criterion is $\\binom{n}{0} = \\binom{n}{n} = 1$\n",
    "\n",
    "The time complexity of binom is exponential in $n$ (worst case behaviour is when $k=\\frac{n}{2}$)"
   ]
  },
  {
   "cell_type": "code",
   "execution_count": 8,
   "metadata": {
    "collapsed": false
   },
   "outputs": [
    {
     "data": {
      "text/plain": [
       "6"
      ]
     },
     "execution_count": 8,
     "metadata": {},
     "output_type": "execute_result"
    }
   ],
   "source": [
    "def binom(n,k):\n",
    "    if n < 0 or k < 0 or n < k:\n",
    "        return 0\n",
    "    elif (k==0 or n==k):\n",
    "        return 1\n",
    "    return binom(n-1,k-1) + binom(n-1,k)\n",
    "\n",
    "binom(4,2)"
   ]
  },
  {
   "cell_type": "markdown",
   "metadata": {},
   "source": [
    "#### Printing the recursive calls using tracing:"
   ]
  },
  {
   "cell_type": "code",
   "execution_count": 9,
   "metadata": {
    "collapsed": false
   },
   "outputs": [
    {
     "name": "stdout",
     "output_type": "stream",
     "text": [
      ">>(4,2)\n",
      ">>>>(3,2)\n",
      ">>>>>>(2,2)\n",
      "<<<<<<(2,2)\n",
      ">>>>>>(2,1)\n",
      ">>>>>>>>(1,1)\n",
      "<<<<<<<<(1,1)\n",
      ">>>>>>>>(1,0)\n",
      "<<<<<<<<(1,0)\n",
      "<<<<<<(2,1)\n",
      "<<<<(3,2)\n",
      ">>>>(3,1)\n",
      ">>>>>>(2,1)\n",
      ">>>>>>>>(1,1)\n",
      "<<<<<<<<(1,1)\n",
      ">>>>>>>>(1,0)\n",
      "<<<<<<<<(1,0)\n",
      "<<<<<<(2,1)\n",
      ">>>>>>(2,0)\n",
      "<<<<<<(2,0)\n",
      "<<<<(3,1)\n",
      "<<(4,2)\n"
     ]
    },
    {
     "data": {
      "text/plain": [
       "6"
      ]
     },
     "execution_count": 9,
     "metadata": {},
     "output_type": "execute_result"
    }
   ],
   "source": [
    "def binom_trace(n,k):\n",
    "    result = binom_trace(n,k)\n",
    "    return result\n",
    "\n",
    "def binom_trace(n,k,indent=1):\n",
    "    #indent = how much to indent the printouts\n",
    "    if (k<0 or n<0 or n<k): # safety checks\n",
    "        return 0\n",
    "    elif (k==0 or k==n): # halting conditions\n",
    "        print(\">>\"*indent + \"({},{})\".format(n,k))\n",
    "        print(\"<<\"*indent + \"({},{})\".format(n,k))\n",
    "        return 1\n",
    "    print(\">>\"*indent + \"({},{})\".format(n,k))\n",
    "    indent+=1\n",
    "    val = binom_trace(n-1,k,indent) + binom_trace(n-1,k-1,indent)\n",
    "    indent-=1\n",
    "    print(\"<<\"*indent + \"({},{})\".format(n,k))\n",
    "    return val\n",
    "\n",
    "binom_trace(4,2)"
   ]
  },
  {
   "cell_type": "markdown",
   "metadata": {},
   "source": [
    "## Change problem"
   ]
  },
  {
   "cell_type": "markdown",
   "metadata": {},
   "source": [
    "A bus driver needs to give an exact change and she has coins of limited types. She has infinite coins of each type.\n",
    "Given the amount of change ($amount$) and the coin types (the list $coins$), how many ways are there? \n",
    "\n",
    "solution:\n",
    "The requested value (denoted as $W(amount, coins)$) is equal to the number of ways to give the change when using coins of type $coins[-1]$ at least once plus the number of ways to give the change without using coins of type $coins[-1]$.\n",
    "$W(amount, coins) = W(amount-coins[-1], coins) + W(amount, coins[:-1])$\n",
    "\n",
    "stopping crtiteria:\n",
    "- If $amount == 0$ return 1\n",
    "- If $amount <0$ or $coins==[]$ return 0\n",
    "\n",
    "This function change() below has an exponential time complexity."
   ]
  },
  {
   "cell_type": "code",
   "execution_count": 11,
   "metadata": {
    "collapsed": false
   },
   "outputs": [
    {
     "data": {
      "text/plain": [
       "5"
      ]
     },
     "execution_count": 11,
     "metadata": {},
     "output_type": "execute_result"
    }
   ],
   "source": [
    "def change(amount, coins):\n",
    "    if amount == 0:\n",
    "        return 1\n",
    "    elif amount < 0 or coins == []:\n",
    "        return 0\n",
    "    return change(amount, coins[:-1]) +\\\n",
    "        change(amount - coins[-1], coins)\n",
    "    \n",
    "change(5, [1,2,3])"
   ]
  },
  {
   "cell_type": "markdown",
   "metadata": {},
   "source": [
    "The change() recursion tree for $amount=5, coins = [1,2,3]$:\n",
    "<img src=\"rec6_change_tree.PNG\">"
   ]
  },
  {
   "cell_type": "markdown",
   "metadata": {},
   "source": [
    "## Count paths"
   ]
  },
  {
   "cell_type": "markdown",
   "metadata": {},
   "source": [
    "We solved question 2(a) from the 2015 fall semester exam (Moed B):\n",
    "<img src=\"cnt_path_question.png\">"
   ]
  },
  {
   "cell_type": "code",
   "execution_count": 5,
   "metadata": {
    "collapsed": true
   },
   "outputs": [],
   "source": [
    "def cnt_paths(L):\n",
    "    if all_zeros(L):\n",
    "        return 1\n",
    "    \n",
    "    result = 0\n",
    "    for i in range(len(L)):\n",
    "        if L[i] != 0:\n",
    "            L[i] -= 1\n",
    "            result += cnt_paths(L)\n",
    "            L[i] += 1\n",
    "    return result\n",
    "\n",
    "def all_zeros(L):\n",
    "    for i in L:\n",
    "        if i != 0:\n",
    "            return False\n",
    "    return True"
   ]
  }
 ],
 "metadata": {
  "kernelspec": {
   "display_name": "Python 3",
   "language": "python",
   "name": "python3"
  },
  "language_info": {
   "codemirror_mode": {
    "name": "ipython",
    "version": 3
   },
   "file_extension": ".py",
   "mimetype": "text/x-python",
   "name": "python",
   "nbconvert_exporter": "python",
   "pygments_lexer": "ipython3",
   "version": "3.4.4"
  }
 },
 "nbformat": 4,
 "nbformat_minor": 1
}
