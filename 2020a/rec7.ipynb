{
 "cells": [
  {
   "cell_type": "markdown",
   "metadata": {},
   "source": [
    "<h1><center>cs1001.py , Tel Aviv University, Fall 2019-2020</center></h1>\n",
    "<img src=\"http://www.pngall.com/wp-content/uploads/2016/05/Python-Logo-PNG-Image-180x180.png\" width=50/>"
   ]
  },
  {
   "cell_type": "markdown",
   "metadata": {},
   "source": [
    "###### Recitation 7"
   ]
  },
  {
   "cell_type": "markdown",
   "metadata": {},
   "source": [
    "We continued discussing recursion.\n",
    "We also discussed memoization and demonstrated it.\n",
    "Then we reviewed some properties of prime numbers and used them for primality testing.\n",
    "\n",
    "\n",
    "#### Takeaways:\n",
    "- Memoization is mainly technical. Remember the main steps of defining an envelope function, deciding what keys you use to describe the input, \n",
    "and finally changing your recursive implementation so that it will search for the key in the dictionary before making the recursive calls, and save the key:value pair after obtaining the value for a certain input. \n",
    "- The keys of the dictionary should be chosen to represent the current input to the function in a one-to-one fashion.\n",
    "- When analyzing the time complexity of a recursive function with memoization, consider the recursion tree and remember that a node that has already been computed will not have a subtree."
   ]
  },
  {
   "cell_type": "markdown",
   "metadata": {},
   "source": [
    "#### Code for printing several outputs in one cell (not part of the recitation):"
   ]
  },
  {
   "cell_type": "code",
   "execution_count": null,
   "metadata": {},
   "outputs": [],
   "source": [
    "from IPython.core.interactiveshell import InteractiveShell\n",
    "InteractiveShell.ast_node_interactivity = \"all\""
   ]
  },
  {
   "cell_type": "markdown",
   "metadata": {},
   "source": [
    "### Counting paths\n",
    "\n",
    "Question 2(a) from the 2015 fall semester exam (Moed B).\n",
    "\n",
    "Given a list $L$ of non-negative integers with $len(L) = d$ we consider $L$ as a point in a $d$-dimensional space.\n",
    "\n",
    "For example: $L = [0, 0, 0]$ represents the origin in a $3$-dimensional space.\n",
    "\n",
    "Our goal is to find how many ways we have of getting from $[0, \\ldots, 0]$ to $L$ by advancing **only forward**.\n",
    "\n",
    "For example, if $L=[1, 2]$ then we have three such paths:\n",
    "* $[0,0] \\to [1, 0] \\to [1, 1] \\to [1,2]$\n",
    "* $[0,0] \\to [0, 1] \\to [1, 1] \\to [1,2]$\n",
    "* $[0,0] \\to [0, 1] \\to [0, 2] \\to [1,2]$"
   ]
  },
  {
   "cell_type": "markdown",
   "metadata": {},
   "source": [
    "Again, we first think of the base case, and then reduce big problems to smaller ones.\n",
    "\n",
    "* If $L$ has only zeros then there is a single possible path - not taking any steps.\n",
    "* Otherwise, we have the following relation, let $L = [a_1, \\ldots, a_n]$, then: $$paths([a_1, \\ldots, a_n]) = \\sum_{i : a_i > 0}paths([a_1,\\ldots, a_i - 1, \\ldots, a_n])$$\n",
    "\n",
    "This gives rise to a simple recursive algorithm:"
   ]
  },
  {
   "cell_type": "code",
   "execution_count": 1,
   "metadata": {},
   "outputs": [
    {
     "name": "stdout",
     "output_type": "stream",
     "text": [
      "27720\n"
     ]
    }
   ],
   "source": [
    "def cnt_paths(L):\n",
    "    if all_zeros(L):\n",
    "        return 1\n",
    "    \n",
    "    result = 0\n",
    "    for i in range(len(L)):\n",
    "        if L[i] != 0:\n",
    "            L[i] -= 1\n",
    "            result += cnt_paths(L)\n",
    "            L[i] += 1\n",
    "    return result\n",
    "\n",
    "def all_zeros(L):\n",
    "    for i in L:\n",
    "        if i != 0:\n",
    "            return False\n",
    "    return True\n",
    "\n",
    "\n",
    "print(cnt_paths([3,4,5]))"
   ]
  },
  {
   "cell_type": "markdown",
   "metadata": {},
   "source": [
    "## Analysis\n",
    "\n",
    "Let's take a simple case where $L = [n, n, \\ldots, n]$ and $|L| = d$. I.e. - we are in a $d$-dimensional space and we want to get to $[n, \\ldots, n]$.\n",
    "\n",
    "How does the recursion tree for this problem looks like? At each node we have $k$ recursive calls where $k$ is the number of non-zero coordinates in the current list. This means that at the $i$th level of the recursion we have $sum(L) = nd - i$, and so each path in the tree has length **exactly** $nd$ and in particular the depth of the tree is $nd$.\n",
    "\n",
    "Additionally, the leaves in the tree are exactly the \"legal paths\" which we count.\n",
    "\n",
    "If $cnt$ is the result of the function (i.e., the number of such legal paths, i.e., the number of leaves) the above means that the recursion tree has size at most $nd \\cdot cnt$ (the level of the leaves is the \"widest\" level).\n",
    "\n",
    "Since each node does $O(1)$ work, this is also a bound for the running time of the function. \n",
    "\n",
    "Can we do better?"
   ]
  },
  {
   "cell_type": "markdown",
   "metadata": {},
   "source": [
    "## Combinatorial solution\n",
    "\n",
    "Can you think of a combinatorial solution for cnt_paths? Let's take the case above where $L = [n, n, \\ldots, n]$ and $|L| = d$. \n",
    "\n",
    "In each step we subtract $1$ from one of the $d$ coordinates (which is currently positive) and in exactly $nd$ steps we need to get to the all-zero vector.\n",
    "\n",
    "Think about the first coordinate - there are precisely $n$ steps along our path where we change this coordinate, thus we have $\\binom{nd}{n}$ options to choose where the moves for the first coordinate are located.\n",
    "\n",
    "What about the second coordainte? Well now we are left with $nd - n = n(d-1)$ places out of which we again pick $n$ places to advance the second coordinate. By indcution, we get: $$cnt = \\prod_{i=1}^d \\tbinom{n(d-i+1)}{n} = \\prod_{i=1}^d \\tbinom{ni}{n} $$\n",
    "\n",
    "How long does it take to compute this number? We need to multiply $d$ elements, and for each of those we need to compute factorials and divide numbers in the range of $1,\\ldots,n$. This is clearly done in time polynomial in $d,n$.\n",
    "\n",
    "And how big is $cnt$ exactly? Recall that $cnt$ is a bound on the running time of cnt_paths. \n",
    "\n",
    "We now claim that $cnt = exp(n,d)$. To see this, we write it explicitly:\n",
    "\n",
    "$$cnt = \\tbinom{n}{n}\\cdot \\tbinom{2n}{n} \\cdots \\tbinom{dn}{n} = \\frac{n!}{(n-n)! n!} \\cdot \\frac{(2n)!}{(2n-n)! n!} \\cdot \\frac{(3n)!}{(3n-n)! n!}\\cdots \\frac{(nd)!}{(nd-n)! n!} $$\n",
    "\n",
    "This product has a telescopic property - thus we can cancel out elements and get: \n",
    "\n",
    "$$cnt =  \\frac{(nd)!}{(n!)^d} = \\frac{1\\cdot 2 \\cdot 3 \\cdots \\cdot nd}{(1 \\cdot 2 \\cdots n) \\cdots(1 \\cdot 2 \\cdots n)} $$\n",
    "\n",
    "Break this product into two terms:\n",
    "\n",
    "$$cnt = \\frac{1 \\cdots 2n}{n! \\cdot n!} \\cdot \\frac{(2n + 1) \\cdots nd }{(n!)^{d - 2}}$$\n",
    "\n",
    "The first multiplicand is clearly larger than $1$, as for the second, each term in the numerator is **at least** $2n$ and each term in the denominator is **at most** $n$ thus clearly: $$cnt  \\gg \\frac{2n \\cdot 2n \\cdots 2n}{n \\cdot n \\cdot n} = 2^{dn - 2n} = exp(n,d)$$\n",
    "\n",
    "Conclusion? Using the combinatorial computation we reduce a running time which is exponential in $n,d$ into a running time polynomial in $n,d$."
   ]
  },
  {
   "cell_type": "markdown",
   "metadata": {},
   "source": [
    "## Memoization"
   ]
  },
  {
   "cell_type": "markdown",
   "metadata": {},
   "source": [
    "### Binom \n",
    "The number of sets of size $k$ selected from a set of $n$ elements (with no repetitions)\n",
    "Recursive formula (Pascal):\n",
    "$\\binom{n}{k} = \\binom{n-1}{k} + \\binom{n-1}{k-1}$\n",
    "where the stopping criterion is $\\binom{n}{0} = \\binom{n}{n} = 1$\n",
    "\n",
    "The time complexity of binom is exponential in $n$ (worst case behaviour is when $k=\\frac{n}{2}$)"
   ]
  },
  {
   "cell_type": "code",
   "execution_count": 2,
   "metadata": {},
   "outputs": [
    {
     "data": {
      "text/plain": [
       "6"
      ]
     },
     "execution_count": 2,
     "metadata": {},
     "output_type": "execute_result"
    }
   ],
   "source": [
    "def binom(n,k):\n",
    "    if n < 0 or k < 0 or n < k:\n",
    "        return 0\n",
    "    elif (k==0 or n==k):\n",
    "        return 1\n",
    "    return binom(n-1,k-1) + binom(n-1,k)\n",
    "\n",
    "binom(4,2)"
   ]
  },
  {
   "cell_type": "markdown",
   "metadata": {},
   "source": [
    "#### Printing the recursive calls using tracing:"
   ]
  },
  {
   "cell_type": "code",
   "execution_count": 3,
   "metadata": {},
   "outputs": [
    {
     "name": "stdout",
     "output_type": "stream",
     "text": [
      ">>(4,2)\n",
      ">>>>(3,2)\n",
      ">>>>>>(2,2)\n",
      "<<<<<<(2,2)\n",
      ">>>>>>(2,1)\n",
      ">>>>>>>>(1,1)\n",
      "<<<<<<<<(1,1)\n",
      ">>>>>>>>(1,0)\n",
      "<<<<<<<<(1,0)\n",
      "<<<<<<(2,1)\n",
      "<<<<(3,2)\n",
      ">>>>(3,1)\n",
      ">>>>>>(2,1)\n",
      ">>>>>>>>(1,1)\n",
      "<<<<<<<<(1,1)\n",
      ">>>>>>>>(1,0)\n",
      "<<<<<<<<(1,0)\n",
      "<<<<<<(2,1)\n",
      ">>>>>>(2,0)\n",
      "<<<<<<(2,0)\n",
      "<<<<(3,1)\n",
      "<<(4,2)\n"
     ]
    },
    {
     "data": {
      "text/plain": [
       "6"
      ]
     },
     "execution_count": 3,
     "metadata": {},
     "output_type": "execute_result"
    }
   ],
   "source": [
    "def binom_trace(n,k):\n",
    "    result = binom_trace(n,k)\n",
    "    return result\n",
    "\n",
    "def binom_trace(n,k,indent=1):\n",
    "    #indent = how much to indent the printouts\n",
    "    if (k<0 or n<0 or n<k): # safety checks\n",
    "        return 0\n",
    "    elif (k==0 or k==n): # halting conditions\n",
    "        print(\">>\"*indent + \"({},{})\".format(n,k))\n",
    "        print(\"<<\"*indent + \"({},{})\".format(n,k))\n",
    "        return 1\n",
    "    print(\">>\"*indent + \"({},{})\".format(n,k))\n",
    "    indent+=1\n",
    "    val = binom_trace(n-1,k,indent) + binom_trace(n-1,k-1,indent)\n",
    "    indent-=1\n",
    "    print(\"<<\"*indent + \"({},{})\".format(n,k))\n",
    "    return val\n",
    "\n",
    "binom_trace(4,2)"
   ]
  },
  {
   "cell_type": "markdown",
   "metadata": {},
   "source": [
    "Now with memoization:"
   ]
  },
  {
   "cell_type": "code",
   "execution_count": 4,
   "metadata": {},
   "outputs": [
    {
     "data": {
      "text/plain": [
       "126410606437752"
      ]
     },
     "execution_count": 4,
     "metadata": {},
     "output_type": "execute_result"
    }
   ],
   "source": [
    "def binom_fast(n,k):\n",
    "    d = {}\n",
    "    return binom_mem(n,k,d)\n",
    "\n",
    "def binom_mem(n,k,mem):\n",
    "    if n < 0 or k < 0 or n < k:\n",
    "        return 0\n",
    "    elif (k==0 or n==k):\n",
    "        return 1\n",
    "    if (n,k) not in mem:\n",
    "        mem[(n,k)] = binom_mem(n-1,k, mem) + \\\n",
    "                    binom_mem(n-1,k-1, mem)\n",
    "    return mem[(n,k)]\n",
    "\n",
    "binom_fast(4,2)\n",
    "binom_fast(50,25)"
   ]
  },
  {
   "cell_type": "markdown",
   "metadata": {},
   "source": [
    "Printing the recursive calls, with memoization:"
   ]
  },
  {
   "cell_type": "code",
   "execution_count": 6,
   "metadata": {},
   "outputs": [
    {
     "name": "stdout",
     "output_type": "stream",
     "text": [
      ">>(4,2)\n",
      ">>>>(3,2)\n",
      ">>>>>>(2,2)\n",
      "<<<<<<(2,2)\n",
      ">>>>>>(2,1)\n",
      ">>>>>>>>(1,1)\n",
      "<<<<<<<<(1,1)\n",
      ">>>>>>>>(1,0)\n",
      "<<<<<<<<(1,0)\n",
      "<<<<<<(2,1)\n",
      "<<<<(3,2)\n",
      ">>>>(3,1)\n",
      ">>>>>>(2,1)\n",
      "<<<<<<(2,1)\n",
      ">>>>>>(2,0)\n",
      "<<<<<<(2,0)\n",
      "<<<<(3,1)\n",
      "<<(4,2)\n"
     ]
    },
    {
     "data": {
      "text/plain": [
       "6"
      ]
     },
     "execution_count": 6,
     "metadata": {},
     "output_type": "execute_result"
    }
   ],
   "source": [
    "def binom_fast_trace(n,k):\n",
    "    mem = dict()\n",
    "    result = binom_mem_trace(n,k,mem)\n",
    "    return result\n",
    "\n",
    "def binom_mem_trace(n,k,mem,indent=1):\n",
    "    #indent = how much to indent the printouts\n",
    "    if (k<0 or n<0 or n<k): # safety checks\n",
    "        return 0\n",
    "    elif (k==0 or k==n): # halting conditions\n",
    "        print(\">>\"*indent + \"({},{})\".format(n,k))\n",
    "        print(\"<<\"*indent + \"({},{})\".format(n,k))\n",
    "        return 1\n",
    "    print(\">>\"*indent + \"({},{})\".format(n,k))\n",
    "    indent+=1\n",
    "    if (n,k) not in mem:\n",
    "        mem[(n,k)] = binom_mem_trace(n-1,k,mem,indent) + binom_mem_trace(n-1,k-1,mem,indent)\n",
    "    indent-=1\n",
    "    print(\"<<\"*indent + \"({},{})\".format(n,k))\n",
    "    return mem[(n,k)]\n",
    "\n",
    "\n",
    "binom_fast_trace(4,2)"
   ]
  },
  {
   "cell_type": "markdown",
   "metadata": {},
   "source": [
    "#### Analysis of binom_fast(n,k):\n",
    "\n",
    "Time complexity = number of different visited cells \\* number of visits per cell \\* time per visit (not including recursive calls)\n",
    "\n",
    "\n",
    "<img src=\"binom_proof.png\">"
   ]
  },
  {
   "cell_type": "markdown",
   "metadata": {},
   "source": [
    "## Change problem (from last week)"
   ]
  },
  {
   "cell_type": "markdown",
   "metadata": {},
   "source": [
    "A bus driver needs to give an exact change and she has coins of limited types. She has infinite coins of each type.\n",
    "Given the amount of change ($amount$) and the coin types (the list $coins$), how many ways are there? \n"
   ]
  },
  {
   "cell_type": "code",
   "execution_count": 2,
   "metadata": {},
   "outputs": [
    {
     "data": {
      "text/plain": [
       "5"
      ]
     },
     "execution_count": 2,
     "metadata": {},
     "output_type": "execute_result"
    }
   ],
   "source": [
    "def change(amount, coins):\n",
    "    if amount == 0:\n",
    "        return 1\n",
    "    elif amount < 0 or coins == []:\n",
    "        return 0\n",
    "    return change(amount, coins[:-1]) +\\\n",
    "        change(amount - coins[-1], coins)\n",
    "    \n",
    "change(5, [1,2,3])"
   ]
  },
  {
   "cell_type": "markdown",
   "metadata": {},
   "source": [
    "Now with memoization:\n"
   ]
  },
  {
   "cell_type": "code",
   "execution_count": 7,
   "metadata": {},
   "outputs": [
    {
     "data": {
      "text/plain": [
       "21084"
      ]
     },
     "execution_count": 7,
     "metadata": {},
     "output_type": "execute_result"
    }
   ],
   "source": [
    "def change_fast(amount, coins):\n",
    "    d = {}\n",
    "    return change_mem(amount, coins, d)\n",
    "\n",
    "def change_mem(amount, coins, d):\n",
    "    if amount == 0:\n",
    "        return 1\n",
    "    elif amount < 0 or coins == []:\n",
    "        return 0\n",
    "    #if (amount, tuple(coins)) not in d:\n",
    "    if (amount, len(coins)) not in d:\n",
    "        #d[(amount, tuple(coins))] = \\\n",
    "        d[(amount, len(coins))] = \\\n",
    "            change_mem(amount, coins[:-1], d) +\\\n",
    "            change_mem(amount - coins[-1], coins, d)\n",
    "    #return d[(amount, tuple(coins))]\n",
    "    return d[(amount, len(coins))]\n",
    "\n",
    "change_fast(500, [1,3,2])"
   ]
  },
  {
   "cell_type": "markdown",
   "metadata": {},
   "source": [
    "## $N$-Queens\n",
    "\n",
    "The $N$ queens problem is to determine how many\n",
    "possibilities are there to legally place $N$ queens on an $N$-by-$N$ chess\n",
    "board. Legally means no queen threatens another queen.\n",
    "\n",
    "\n",
    "Solution:\n",
    "We build the solution incrementally, column by column.\n",
    "We maintain a partial solution (implemented as a list), which is initially empty.\n",
    "\n",
    "The function $legal(partial, i)$ is given:\n",
    "- a partial solution placing the first $len(partial)$ queens on the leftmost columns\n",
    "- a positive integer $0\\leq i<N$\n",
    "\n",
    "It returns True if it is legal to place a queen in the next column on row $i$, given the partial placement $partial$"
   ]
  },
  {
   "cell_type": "code",
   "execution_count": null,
   "metadata": {},
   "outputs": [],
   "source": [
    "def legal(partial, i):\n",
    "    ''' Can we place a queen in the next column in row i ? '''\n",
    "    \n",
    "    # any queens in the same row to the left ?\n",
    "    left = [j for j in partial if j==i] \n",
    "    # diagonal up - left\n",
    "    diag_up = [j for j in partial if j - partial.index(j) == i - len(partial)]\n",
    "    # diagonal down - left\n",
    "    diag_down = [j for j in partial if j + partial.index(j) == i + len(partial)]\n",
    "    \n",
    "    res = ( left == diag_up == diag_down == [])\n",
    "    \n",
    "    return res"
   ]
  },
  {
   "cell_type": "markdown",
   "metadata": {},
   "source": [
    "The solution:"
   ]
  },
  {
   "cell_type": "code",
   "execution_count": null,
   "metadata": {},
   "outputs": [],
   "source": [
    "def queens (n, show = True):\n",
    "    ''' how many ways to place n queens on an nXn board ? '''\n",
    "    partial = [] # list representing partial placement of queens\n",
    "    return queens_rec (n, partial, show)\n",
    "\n",
    "def queens_rec (n, partial, show):\n",
    "    ''' Given a list representing partial placement of queens ,\n",
    "    can we legally extend it ? '''\n",
    "    if len(partial) == n: # all n queens are placed legally\n",
    "        return 1\n",
    "    else:\n",
    "        cnt = 0\n",
    "        for i in range(n):\n",
    "            # try to place a queen in row i of the next column\n",
    "            if legal(partial, i):\n",
    "                cnt += queens_rec(n, partial + [i], show)\n",
    "        return cnt"
   ]
  },
  {
   "cell_type": "markdown",
   "metadata": {},
   "source": [
    "Some intuition: \n",
    "assume we can find a solution for placing $k<N$ queens, how do we expand the solution to $k+1$?\n",
    "queens_rec returns the number of possible legal placements for $N$ queens, where $k$ are already placed at the leftmost columns and there are $N-k$ queens left to place. \n",
    "The recursive idea: Legally place queen number $(k+1)$ and recursively solve the problem, when there is one less queen to place.\n",
    "\n",
    "Note that the complexity is $O(N!)$ (greater than $O(2^N)$)"
   ]
  },
  {
   "cell_type": "markdown",
   "metadata": {},
   "source": [
    "## Choose sets"
   ]
  },
  {
   "cell_type": "markdown",
   "metadata": {},
   "source": [
    "Question from a past exam.\n",
    "\n",
    "<img src=\"choose_sets.PNG\">"
   ]
  },
  {
   "cell_type": "markdown",
   "metadata": {},
   "source": [
    "Some examples:\n",
    "\n",
    "choose_sets([1,2,3,4], 0) ---> [[]]\n",
    "choose_sets([1,2,3], 1) ---> [[2, 1], [3, 1], [4, 1], [3, 2], [4, 2], [4, 3]]\n",
    "  but these output examples are valid as well: \n",
    "choose_sets([1,2,3,4], 4) ---> [[]]\n"
   ]
  },
  {
   "cell_type": "code",
   "execution_count": 6,
   "metadata": {},
   "outputs": [
    {
     "data": {
      "text/plain": [
       "[[2, 1], [3, 1], [3, 2]]"
      ]
     },
     "execution_count": 6,
     "metadata": {},
     "output_type": "execute_result"
    }
   ],
   "source": [
    "def choose_sets(lst,k):\n",
    "    if k==0:\n",
    "        return [[]]\n",
    "    elif len(lst)<k:\n",
    "        return []\n",
    "    tmp = choose_sets(lst[1:],k-1)\n",
    "    for e in tmp:\n",
    "        e.append(lst[0])\n",
    "                \n",
    "    tmp.extend(choose_sets(lst[1:],k))\n",
    "    return tmp\n",
    "    \n",
    "#choose_sets([1,2,3,4], 0)\n",
    "choose_sets([1,2,3], 2)\n",
    "#choose_sets([1,2,3,4], 4)"
   ]
  },
  {
   "cell_type": "code",
   "execution_count": null,
   "metadata": {},
   "outputs": [],
   "source": []
  }
 ],
 "metadata": {
  "kernelspec": {
   "display_name": "Python 3",
   "language": "python",
   "name": "python3"
  },
  "language_info": {
   "codemirror_mode": {
    "name": "ipython",
    "version": 3
   },
   "file_extension": ".py",
   "mimetype": "text/x-python",
   "name": "python",
   "nbconvert_exporter": "python",
   "pygments_lexer": "ipython3",
   "version": "3.7.3"
  }
 },
 "nbformat": 4,
 "nbformat_minor": 1
}
