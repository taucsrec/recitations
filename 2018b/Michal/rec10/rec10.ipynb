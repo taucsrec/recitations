{
 "cells": [
  {
   "cell_type": "markdown",
   "metadata": {},
   "source": [
    "<h1><center>cs1001.py , Tel Aviv University, Spring 2018</center></h1>\n",
    "<img src=\"http://www.pngall.com/wp-content/uploads/2016/05/Python-Logo-PNG-Image-180x180.png\" width=50/>"
   ]
  },
  {
   "cell_type": "markdown",
   "metadata": {},
   "source": [
    "## Recitation 10\n",
    "\n",
    "We discussed iterators + generators and the Karp-Rabin algorithm for string matching."
   ]
  },
  {
   "cell_type": "markdown",
   "metadata": {},
   "source": [
    "###### Takeaways:\n",
    "- Generators function is a function that contains the yield command and returns a genertor object. \n",
    "- Make sure you read our KR <a href=\"http://tau-cs1001-py.wdfiles.com/local--files/recitation-logs-2017b/KR-summary_new.pdf\">summary.</a>\n",
    "- A naive solution for the string-matching problem has $O(m(n-m))$ time complexity.\n",
    "- By allowing \"false-positives\" (with small probability), we can obtain a linear time solution for the string-matching problem.\n",
    "- Make sure you understand the way the algorithm works, and in particular the \"rolling hash mechanism\", that is, how to compute the fingerprint of the next substring in $O(1)$ time, given the fingerprint of the current substring.\n",
    "- Make sure you understand the \"aritmetization\" step used by the algorithm.\n",
    "- Make sure you understand the question we solved."
   ]
  },
  {
   "cell_type": "markdown",
   "metadata": {},
   "source": [
    "#### Code for printing several outputs in one cell (not part of the recitation):"
   ]
  },
  {
   "cell_type": "code",
   "execution_count": 34,
   "metadata": {},
   "outputs": [],
   "source": [
    "from IPython.core.interactiveshell import InteractiveShell\n",
    "InteractiveShell.ast_node_interactivity = \"all\""
   ]
  },
  {
   "cell_type": "markdown",
   "metadata": {},
   "source": [
    "##  Iterators and Generators"
   ]
  },
  {
   "cell_type": "code",
   "execution_count": 35,
   "metadata": {},
   "outputs": [
    {
     "data": {
      "text/plain": [
       "list_iterator"
      ]
     },
     "execution_count": 35,
     "metadata": {},
     "output_type": "execute_result"
    }
   ],
   "source": [
    "l = [1,2,3]\n",
    "li = iter(l)\n",
    "type(li)\n",
    "li2 = iter(l)\n",
    "\n"
   ]
  },
  {
   "cell_type": "code",
   "execution_count": 36,
   "metadata": {},
   "outputs": [
    {
     "data": {
      "text/plain": [
       "1"
      ]
     },
     "execution_count": 36,
     "metadata": {},
     "output_type": "execute_result"
    },
    {
     "data": {
      "text/plain": [
       "2"
      ]
     },
     "execution_count": 36,
     "metadata": {},
     "output_type": "execute_result"
    },
    {
     "name": "stdout",
     "output_type": "stream",
     "text": [
      "z is 3\n"
     ]
    },
    {
     "data": {
      "text/plain": [
       "1"
      ]
     },
     "execution_count": 36,
     "metadata": {},
     "output_type": "execute_result"
    },
    {
     "name": "stdout",
     "output_type": "stream",
     "text": [
      "before loop\n",
      "2\n",
      "3\n"
     ]
    }
   ],
   "source": [
    "next(li)\n",
    "next(li)\n",
    "z = next(li)\n",
    "print(\"z is\", z)\n",
    "next(li2)\n",
    "#next(li)\n",
    "print(\"before loop\")\n",
    "for elem in li2:\n",
    "    print(elem)"
   ]
  },
  {
   "cell_type": "code",
   "execution_count": 37,
   "metadata": {},
   "outputs": [
    {
     "ename": "StopIteration",
     "evalue": "",
     "output_type": "error",
     "traceback": [
      "\u001b[1;31m---------------------------------------------------------------------------\u001b[0m",
      "\u001b[1;31mStopIteration\u001b[0m                             Traceback (most recent call last)",
      "\u001b[1;32m<ipython-input-37-c9b8845252db>\u001b[0m in \u001b[0;36m<module>\u001b[1;34m()\u001b[0m\n\u001b[1;32m----> 1\u001b[1;33m \u001b[0mnext\u001b[0m\u001b[1;33m(\u001b[0m\u001b[0mli\u001b[0m\u001b[1;33m)\u001b[0m\u001b[1;33m\u001b[0m\u001b[0m\n\u001b[0m",
      "\u001b[1;31mStopIteration\u001b[0m: "
     ]
    }
   ],
   "source": [
    "next(li)"
   ]
  },
  {
   "cell_type": "code",
   "execution_count": 38,
   "metadata": {},
   "outputs": [
    {
     "ename": "StopIteration",
     "evalue": "",
     "output_type": "error",
     "traceback": [
      "\u001b[1;31m---------------------------------------------------------------------------\u001b[0m",
      "\u001b[1;31mStopIteration\u001b[0m                             Traceback (most recent call last)",
      "\u001b[1;32m<ipython-input-38-a51a8cea1203>\u001b[0m in \u001b[0;36m<module>\u001b[1;34m()\u001b[0m\n\u001b[1;32m----> 1\u001b[1;33m \u001b[0mnext\u001b[0m\u001b[1;33m(\u001b[0m\u001b[0mli2\u001b[0m\u001b[1;33m)\u001b[0m\u001b[1;33m\u001b[0m\u001b[0m\n\u001b[0m",
      "\u001b[1;31mStopIteration\u001b[0m: "
     ]
    }
   ],
   "source": [
    "next(li2)"
   ]
  },
  {
   "cell_type": "markdown",
   "metadata": {},
   "source": [
    "### Try Except example"
   ]
  },
  {
   "cell_type": "code",
   "execution_count": 48,
   "metadata": {},
   "outputs": [
    {
     "name": "stdout",
     "output_type": "stream",
     "text": [
      "item is  1\n",
      "item is  2\n",
      "item is  3\n"
     ]
    },
    {
     "ename": "StopIteration",
     "evalue": "",
     "output_type": "error",
     "traceback": [
      "\u001b[1;31m---------------------------------------------------------------------------\u001b[0m",
      "\u001b[1;31mStopIteration\u001b[0m                             Traceback (most recent call last)",
      "\u001b[1;32m<ipython-input-48-8399bd59740b>\u001b[0m in \u001b[0;36m<module>\u001b[1;34m()\u001b[0m\n\u001b[0;32m      2\u001b[0m \u001b[0mli\u001b[0m \u001b[1;33m=\u001b[0m \u001b[0miter\u001b[0m\u001b[1;33m(\u001b[0m\u001b[0mlst\u001b[0m\u001b[1;33m)\u001b[0m\u001b[1;33m\u001b[0m\u001b[0m\n\u001b[0;32m      3\u001b[0m \u001b[1;32mwhile\u001b[0m \u001b[1;32mTrue\u001b[0m\u001b[1;33m:\u001b[0m\u001b[1;33m\u001b[0m\u001b[0m\n\u001b[1;32m----> 4\u001b[1;33m     \u001b[0mitem\u001b[0m \u001b[1;33m=\u001b[0m \u001b[0mnext\u001b[0m\u001b[1;33m(\u001b[0m\u001b[0mli\u001b[0m\u001b[1;33m)\u001b[0m\u001b[1;33m\u001b[0m\u001b[0m\n\u001b[0m\u001b[0;32m      5\u001b[0m     \u001b[0mprint\u001b[0m \u001b[1;33m(\u001b[0m\u001b[1;34m\"item is \"\u001b[0m\u001b[1;33m,\u001b[0m \u001b[0mitem\u001b[0m\u001b[1;33m)\u001b[0m\u001b[1;33m\u001b[0m\u001b[0m\n",
      "\u001b[1;31mStopIteration\u001b[0m: "
     ]
    }
   ],
   "source": [
    "lst = [1,2,3]\n",
    "li = iter(lst)\n",
    "while True:\n",
    "    item = next(li)\n",
    "    print (\"item is \", item)\n"
   ]
  },
  {
   "cell_type": "code",
   "execution_count": 47,
   "metadata": {},
   "outputs": [
    {
     "name": "stdout",
     "output_type": "stream",
     "text": [
      "item is  1\n",
      "item is  2\n",
      "item is  3\n",
      "Catching the error!!!\n"
     ]
    }
   ],
   "source": [
    "lst = [1,2,3]\n",
    "li = iter(lst)\n",
    "try:\n",
    "    while True:\n",
    "        item = next(li)\n",
    "        print (\"item is \", item)\n",
    "except StopIteration:\n",
    "    print (\"Catching the error!!!\")"
   ]
  },
  {
   "cell_type": "markdown",
   "metadata": {},
   "source": [
    "A function which produces a list of all positive even numbers up to $n$"
   ]
  },
  {
   "cell_type": "code",
   "execution_count": null,
   "metadata": {},
   "outputs": [],
   "source": [
    "def Evens_list(n):\n",
    "    ''' a list of evens up to n '''\n",
    "    return [num for num in range(n) if num%2==0]"
   ]
  },
  {
   "cell_type": "markdown",
   "metadata": {},
   "source": [
    "A generator function (includes a \"yield\" statement) that returns a generator that generates all positive even numbers up to $n$"
   ]
  },
  {
   "cell_type": "code",
   "execution_count": 40,
   "metadata": {},
   "outputs": [],
   "source": [
    "def Evens_gen(n):\n",
    "    ''' returns a generator of evens up to n '''\n",
    "    print(\"before loop\")\n",
    "    for i in range(n):\n",
    "        print(\"current i:\", i)\n",
    "        if i%2 == 0:\n",
    "            print(\"before yield\")\n",
    "            yield i\n",
    "            print(\"after yield\")"
   ]
  },
  {
   "cell_type": "code",
   "execution_count": 41,
   "metadata": {},
   "outputs": [
    {
     "data": {
      "text/plain": [
       "function"
      ]
     },
     "execution_count": 41,
     "metadata": {},
     "output_type": "execute_result"
    },
    {
     "data": {
      "text/plain": [
       "generator"
      ]
     },
     "execution_count": 41,
     "metadata": {},
     "output_type": "execute_result"
    }
   ],
   "source": [
    "type(Evens_gen)\n",
    "g = Evens_gen(10)\n",
    "type(g)"
   ]
  },
  {
   "cell_type": "code",
   "execution_count": 42,
   "metadata": {},
   "outputs": [
    {
     "name": "stdout",
     "output_type": "stream",
     "text": [
      "before loop\n",
      "current i: 0\n",
      "before yield\n"
     ]
    },
    {
     "data": {
      "text/plain": [
       "0"
      ]
     },
     "execution_count": 42,
     "metadata": {},
     "output_type": "execute_result"
    }
   ],
   "source": [
    "next(g)"
   ]
  },
  {
   "cell_type": "code",
   "execution_count": 43,
   "metadata": {},
   "outputs": [
    {
     "name": "stdout",
     "output_type": "stream",
     "text": [
      "after yield\n",
      "current i: 1\n",
      "current i: 2\n",
      "before yield\n"
     ]
    }
   ],
   "source": [
    "a = next(g)"
   ]
  },
  {
   "cell_type": "code",
   "execution_count": 45,
   "metadata": {},
   "outputs": [
    {
     "name": "stdout",
     "output_type": "stream",
     "text": [
      "2\n",
      "after yield\n",
      "current i: 3\n",
      "current i: 4\n",
      "before yield\n"
     ]
    },
    {
     "data": {
      "text/plain": [
       "4"
      ]
     },
     "execution_count": 45,
     "metadata": {},
     "output_type": "execute_result"
    },
    {
     "name": "stdout",
     "output_type": "stream",
     "text": [
      "after yield\n",
      "current i: 5\n",
      "current i: 6\n",
      "before yield\n"
     ]
    },
    {
     "data": {
      "text/plain": [
       "6"
      ]
     },
     "execution_count": 45,
     "metadata": {},
     "output_type": "execute_result"
    },
    {
     "name": "stdout",
     "output_type": "stream",
     "text": [
      "after yield\n",
      "current i: 7\n",
      "current i: 8\n",
      "before yield\n"
     ]
    },
    {
     "data": {
      "text/plain": [
       "8"
      ]
     },
     "execution_count": 45,
     "metadata": {},
     "output_type": "execute_result"
    },
    {
     "name": "stdout",
     "output_type": "stream",
     "text": [
      "after yield\n",
      "current i: 9\n"
     ]
    },
    {
     "ename": "StopIteration",
     "evalue": "",
     "output_type": "error",
     "traceback": [
      "\u001b[1;31m---------------------------------------------------------------------------\u001b[0m",
      "\u001b[1;31mStopIteration\u001b[0m                             Traceback (most recent call last)",
      "\u001b[1;32m<ipython-input-45-adefbb0d6a72>\u001b[0m in \u001b[0;36m<module>\u001b[1;34m()\u001b[0m\n\u001b[0;32m      3\u001b[0m \u001b[0mnext\u001b[0m\u001b[1;33m(\u001b[0m\u001b[0mg\u001b[0m\u001b[1;33m)\u001b[0m\u001b[1;33m\u001b[0m\u001b[0m\n\u001b[0;32m      4\u001b[0m \u001b[0mnext\u001b[0m\u001b[1;33m(\u001b[0m\u001b[0mg\u001b[0m\u001b[1;33m)\u001b[0m\u001b[1;33m\u001b[0m\u001b[0m\n\u001b[1;32m----> 5\u001b[1;33m \u001b[0mnext\u001b[0m\u001b[1;33m(\u001b[0m\u001b[0mg\u001b[0m\u001b[1;33m)\u001b[0m\u001b[1;33m\u001b[0m\u001b[0m\n\u001b[0m",
      "\u001b[1;31mStopIteration\u001b[0m: "
     ]
    }
   ],
   "source": [
    "print(a)\n",
    "next(g)\n",
    "next(g)\n",
    "next(g)\n",
    "next(g)"
   ]
  },
  {
   "cell_type": "markdown",
   "metadata": {},
   "source": [
    "A generator function which produces the **infinite** sequence of all positive even numbers"
   ]
  },
  {
   "cell_type": "code",
   "execution_count": null,
   "metadata": {},
   "outputs": [],
   "source": [
    "def All_evens_gen():\n",
    "    i=0\n",
    "    while True:\n",
    "        yield i\n",
    "        i+=2"
   ]
  },
  {
   "cell_type": "markdown",
   "metadata": {},
   "source": [
    "#### Solving this <a href=\"http://tau-cs1001-py.wdfiles.com/local--files/recitation-logs-2017a/a10_geneators_exam_q.pdf\"> exam question about generators</a>"
   ]
  },
  {
   "cell_type": "markdown",
   "metadata": {},
   "source": [
    "Section (b)"
   ]
  },
  {
   "cell_type": "code",
   "execution_count": null,
   "metadata": {},
   "outputs": [],
   "source": [
    "def SomePairs():\n",
    "    i=0\n",
    "    while True:\n",
    "        for j in range(i):\n",
    "            yield(i,j)\n",
    "        i=i+1"
   ]
  },
  {
   "cell_type": "markdown",
   "metadata": {},
   "source": [
    "Section (c)"
   ]
  },
  {
   "cell_type": "code",
   "execution_count": null,
   "metadata": {},
   "outputs": [],
   "source": [
    "def RevGen(PairsGen):\n",
    "    pairs = PairsGen()\n",
    "    while True:\n",
    "        pair = next(pairs)\n",
    "        yield(pair[1],pair[0])"
   ]
  },
  {
   "cell_type": "markdown",
   "metadata": {},
   "source": [
    "Section (d1)"
   ]
  },
  {
   "cell_type": "code",
   "execution_count": null,
   "metadata": {},
   "outputs": [],
   "source": [
    "def UnionGenerators(gen1, gen2):\n",
    "    while True:\n",
    "        yield next(gen1)\n",
    "        yield next(gen2)"
   ]
  },
  {
   "cell_type": "markdown",
   "metadata": {},
   "source": [
    "Section (d2)"
   ]
  },
  {
   "cell_type": "code",
   "execution_count": null,
   "metadata": {},
   "outputs": [],
   "source": [
    "def EqPairs():\n",
    "    i=0\n",
    "    while True:\n",
    "        yield (i,i)\n",
    "        i=i+1"
   ]
  },
  {
   "cell_type": "code",
   "execution_count": null,
   "metadata": {},
   "outputs": [],
   "source": [
    "def AllPairs():\n",
    "    return UnionGenerators(SomePairs(),\n",
    "                           UnionGenerators(EqPairs(),\n",
    "                                           RevGen(SomePairs)))"
   ]
  },
  {
   "cell_type": "markdown",
   "metadata": {},
   "source": [
    "## The string-matching problem"
   ]
  },
  {
   "cell_type": "markdown",
   "metadata": {},
   "source": [
    "Given a string $text$ of length $n$, and a short(er) string $pattern$ of length $m$ ($m\\leq n$), report all occurrances of $pattern$ in $text$.\n",
    "\n",
    "Example:\n",
    "\n",
    "$text = $\"abracadabra\",  $pattern = $\"abr\"\n",
    "\n",
    "The requested output should be $[0,7]$, since $pattern$ appears in $text$ in indices $0,7$."
   ]
  },
  {
   "cell_type": "markdown",
   "metadata": {},
   "source": [
    "## Karp-Rabin Algorithm"
   ]
  },
  {
   "cell_type": "code",
   "execution_count": 2,
   "metadata": {},
   "outputs": [],
   "source": [
    "def fingerprint(text, basis=2**16, r=2**32-3):\n",
    "    \"\"\" used to compute karp-rabin fingerprint of the pattern\n",
    "        employs Horner method (modulo r) \"\"\"\n",
    "    partial_sum = 0\n",
    "    for ch in text:\n",
    "        partial_sum =(partial_sum*basis + ord(ch)) % r\n",
    "    return partial_sum\n",
    "\n",
    "def text_fingerprint(text, m, basis=2**16, r=2**32-3):\n",
    "    \"\"\" computes karp-rabin fingerprint of the text \"\"\"\n",
    "    f=[]\n",
    "    b_power = pow(basis, m-1, r)\n",
    "    list.append(f, fingerprint(text[0:m], basis, r))\n",
    "    # f[0] equals first text fingerprint \n",
    "    for s in range(1, len(text)-m+1):\n",
    "        new_fingerprint = ( (f[s-1] - ord(text[s-1])*b_power)*basis\n",
    "                         +ord(text[s+m-1]) ) % r\n",
    "            # compute f[s], based on f[s-1]\n",
    "        list.append(f,new_fingerprint)# append f[s] to existing f       \n",
    "    return f\n",
    "\n",
    "def find_matches_KR(pattern, text, basis=2**16, r=2**32-3):\n",
    "    \"\"\" find all occurances of pattern in text\n",
    "        using coin flipping Karp-Rabin algorithm \"\"\"\n",
    "    if len(pattern) > len(text):\n",
    "        return []\n",
    "    p = fingerprint(pattern, basis, r)\n",
    "    f = text_fingerprint(text, len(pattern), basis, r)\n",
    "    matches = [s for (s,f_s) in enumerate(f) if f_s == p]\n",
    "    # list comprehension \n",
    "    return matches"
   ]
  },
  {
   "cell_type": "code",
   "execution_count": 49,
   "metadata": {},
   "outputs": [],
   "source": [
    "text = \"abracadabra\"\n",
    "pattern = \"abr\""
   ]
  },
  {
   "cell_type": "code",
   "execution_count": 4,
   "metadata": {},
   "outputs": [
    {
     "data": {
      "text/plain": [
       "6422933"
      ]
     },
     "execution_count": 4,
     "metadata": {},
     "output_type": "execute_result"
    }
   ],
   "source": [
    "fingerprint(\"abr\")"
   ]
  },
  {
   "cell_type": "code",
   "execution_count": 50,
   "metadata": {},
   "outputs": [
    {
     "data": {
      "text/plain": [
       "416618250354"
      ]
     },
     "execution_count": 50,
     "metadata": {},
     "output_type": "execute_result"
    },
    {
     "data": {
      "text/plain": [
       "6422933"
      ]
     },
     "execution_count": 50,
     "metadata": {},
     "output_type": "execute_result"
    }
   ],
   "source": [
    "base = 2**16\n",
    "arit = ord(\"a\")*(base**2) + ord(\"b\")*(base**1) + ord(\"r\")*(base**0)\n",
    "arit\n",
    "r = 2**32 - 3\n",
    "fp = arit%r\n",
    "fp"
   ]
  },
  {
   "cell_type": "code",
   "execution_count": 6,
   "metadata": {},
   "outputs": [
    {
     "data": {
      "text/plain": [
       "[6422933,\n",
       " 7471495,\n",
       " 6357433,\n",
       " 6488452,\n",
       " 6357389,\n",
       " 6553988,\n",
       " 6357390,\n",
       " 6422933,\n",
       " 7471495]"
      ]
     },
     "execution_count": 6,
     "metadata": {},
     "output_type": "execute_result"
    }
   ],
   "source": [
    "text_fingerprint(text, 3)"
   ]
  },
  {
   "cell_type": "code",
   "execution_count": 7,
   "metadata": {},
   "outputs": [
    {
     "data": {
      "text/plain": [
       "[0, 7]"
      ]
     },
     "execution_count": 7,
     "metadata": {},
     "output_type": "execute_result"
    }
   ],
   "source": [
    "find_matches_KR(pattern, text)"
   ]
  },
  {
   "cell_type": "markdown",
   "metadata": {},
   "source": [
    "### Safe version\n",
    "Makes sure no false positives occur. In the worst case, when all $n-m$ possible substrings are indeed matches, behaves as the naive solution in terms of time complexity."
   ]
  },
  {
   "cell_type": "code",
   "execution_count": 8,
   "metadata": {},
   "outputs": [],
   "source": [
    "def find_matches_KR_safe(pattern, text, basis=2**16, r=2**32-3):\n",
    "    \"\"\" a safe version of KR\n",
    "        checks every suspect for a match \"\"\"\n",
    "\n",
    "    if len(pattern) > len(text):\n",
    "        return []\n",
    "    p = fingerprint(pattern, basis, r)\n",
    "    f = text_fingerprint(text, len(pattern), basis, r)\n",
    "    matches = [s for (s,f_s) in enumerate(f) if f_s == p \\\n",
    "               and text[s:s+len(pattern)]==pattern]\n",
    "    #note that python performs \"cleaver evaluation\" of the 'and' statement\n",
    "    return matches"
   ]
  },
  {
   "cell_type": "markdown",
   "metadata": {},
   "source": [
    "#### Competition between versions on single char string.\n",
    "This is the worst-case scenario for the safe version.\n",
    "Changing $m$ has a greater effect on the safe version than on the standard KR."
   ]
  },
  {
   "cell_type": "code",
   "execution_count": 31,
   "metadata": {},
   "outputs": [
    {
     "name": "stdout",
     "output_type": "stream",
     "text": [
      "text = 'a'* 1000000\n",
      "pattern = 'a'* 100\n",
      "find_matches_KR 2.0220746595732635\n",
      "find_matches_KR_safe 2.267512647478725\n",
      "\n",
      "pattern = 'a'* 1000\n",
      "find_matches_KR 1.8958205700764665\n",
      "find_matches_KR_safe 2.3651200483727735\n",
      "\n",
      "pattern = 'a'* 10000\n",
      "find_matches_KR 1.7998994991503423\n",
      "find_matches_KR_safe 3.4687894740054617\n",
      "\n",
      "pattern = 'a'* 100000\n",
      "find_matches_KR 1.7552307019359432\n",
      "find_matches_KR_safe 15.491687561574508\n",
      "\n"
     ]
    }
   ],
   "source": [
    "import time\n",
    "\n",
    "text = \"a\"*1000000\n",
    "print(\"text = 'a'*\",len(text))\n",
    "for pattern in [\"a\"*100, \"a\"*1000, \"a\"*10000, \"a\"*100000]:\n",
    "    print(\"pattern = 'a'*\",len(pattern))\n",
    "    for f in [find_matches_KR, find_matches_KR_safe]:\n",
    "        t0=time.clock()\n",
    "        res=f(pattern, text)\n",
    "        t1=time.clock()\n",
    "        print (f.__name__, t1-t0)\n",
    "    print(\"\") #newline"
   ]
  },
  {
   "cell_type": "markdown",
   "metadata": {},
   "source": [
    "#### Competition between versions on random strings. \n",
    "\n",
    "Note that the standard and safe versions of KR has similar running times. Moreover, as $m$ increases, the running time slightly decreases since there are less candidates to consider."
   ]
  },
  {
   "cell_type": "code",
   "execution_count": 33,
   "metadata": {},
   "outputs": [
    {
     "name": "stdout",
     "output_type": "stream",
     "text": [
      "random str of len n= 1000000  , random pattern of length m= 1000\n"
     ]
    },
    {
     "data": {
      "text/plain": [
       "[]"
      ]
     },
     "execution_count": 33,
     "metadata": {},
     "output_type": "execute_result"
    },
    {
     "name": "stdout",
     "output_type": "stream",
     "text": [
      "find_matches_KR 1.8567712938674958\n"
     ]
    },
    {
     "data": {
      "text/plain": [
       "[]"
      ]
     },
     "execution_count": 33,
     "metadata": {},
     "output_type": "execute_result"
    },
    {
     "name": "stdout",
     "output_type": "stream",
     "text": [
      "find_matches_KR_safe 1.876404880254995\n",
      "random str of len n= 1000000  , random pattern of length m= 10000\n"
     ]
    },
    {
     "data": {
      "text/plain": [
       "[]"
      ]
     },
     "execution_count": 33,
     "metadata": {},
     "output_type": "execute_result"
    },
    {
     "name": "stdout",
     "output_type": "stream",
     "text": [
      "find_matches_KR 1.8769306741451146\n"
     ]
    },
    {
     "data": {
      "text/plain": [
       "[]"
      ]
     },
     "execution_count": 33,
     "metadata": {},
     "output_type": "execute_result"
    },
    {
     "name": "stdout",
     "output_type": "stream",
     "text": [
      "find_matches_KR_safe 1.8435759195854189\n",
      "random str of len n= 1000000  , random pattern of length m= 100000\n"
     ]
    },
    {
     "data": {
      "text/plain": [
       "[]"
      ]
     },
     "execution_count": 33,
     "metadata": {},
     "output_type": "execute_result"
    },
    {
     "name": "stdout",
     "output_type": "stream",
     "text": [
      "find_matches_KR 1.6260555352055235\n"
     ]
    },
    {
     "data": {
      "text/plain": [
       "[]"
      ]
     },
     "execution_count": 33,
     "metadata": {},
     "output_type": "execute_result"
    },
    {
     "name": "stdout",
     "output_type": "stream",
     "text": [
      "find_matches_KR_safe 1.6044790377200115\n"
     ]
    }
   ],
   "source": [
    "import random\n",
    "def gen_str(size):\n",
    "    ''' Generate a random lowercase English string of length size'''\n",
    "    s=\"\"\n",
    "    for i in range(size):\n",
    "        s+=random.choice(\"abcdefghijklmnopqrstuvwxyz\")\n",
    "    return s\n",
    "\n",
    "\n",
    "n=1000000\n",
    "m=1000\n",
    "text = gen_str(n)\n",
    "pattern = gen_str(m)\n",
    "print(\"random str of len n=\", n, \" , random pattern of length m=\",m)\n",
    "for f in [find_matches_KR, find_matches_KR_safe]:\n",
    "    t0=time.clock()\n",
    "    f(pattern, text)\n",
    "    t1=time.clock()\n",
    "    print (f.__name__, t1-t0)\n",
    "    \n",
    "\n",
    "m=10000\n",
    "pattern = gen_str(m)\n",
    "print(\"random str of len n=\", n, \" , random pattern of length m=\",m)\n",
    "for f in [find_matches_KR, find_matches_KR_safe]:\n",
    "    t0=time.clock()\n",
    "    f(pattern, text)\n",
    "    t1=time.clock()\n",
    "    print (f.__name__, t1-t0)\n",
    "    \n",
    "m=100000\n",
    "pattern = gen_str(m)\n",
    "print(\"random str of len n=\", n, \" , random pattern of length m=\",m)\n",
    "for f in [find_matches_KR, find_matches_KR_safe]:\n",
    "    t0=time.clock()\n",
    "    f(pattern, text)\n",
    "    t1=time.clock()\n",
    "    print (f.__name__, t1-t0)"
   ]
  },
  {
   "cell_type": "markdown",
   "metadata": {},
   "source": [
    "### Choice of $r$"
   ]
  },
  {
   "cell_type": "markdown",
   "metadata": {},
   "source": [
    "By setting $r$ to be a power of the base, say $r=base$, we will obtain more false-positives. This may serve as an intuition for choosing a prime $r$."
   ]
  },
  {
   "cell_type": "code",
   "execution_count": 51,
   "metadata": {},
   "outputs": [
    {
     "data": {
      "text/plain": [
       "[2, 4, 6, 9]"
      ]
     },
     "execution_count": 51,
     "metadata": {},
     "output_type": "execute_result"
    },
    {
     "data": {
      "text/plain": [
       "[6]"
      ]
     },
     "execution_count": 51,
     "metadata": {},
     "output_type": "execute_result"
    }
   ],
   "source": [
    "find_matches_KR(\"da\", \"abracadabra\", basis=2**16, r=2**16)\n",
    "find_matches_KR_safe(\"da\", \"abracadabra\", basis=2**16, r=2**16)"
   ]
  },
  {
   "cell_type": "code",
   "execution_count": null,
   "metadata": {},
   "outputs": [],
   "source": [
    "fingerprint(\"da\", 2**16, r=2**16)\n",
    "ord(\"d\")*(2**16)**1 + ord(\"a\")\n",
    "ord(\"a\")\n",
    "\n",
    "fingerprint(\"ca\", 2**16, r=2**16)\n",
    "ord(\"c\")*(2**16)**1 + ord(\"a\")\n",
    "(ord(\"c\")*(2**16)**1 + ord(\"a\") )%2**16"
   ]
  },
  {
   "cell_type": "code",
   "execution_count": 13,
   "metadata": {},
   "outputs": [
    {
     "data": {
      "text/plain": [
       "97"
      ]
     },
     "execution_count": 13,
     "metadata": {},
     "output_type": "execute_result"
    },
    {
     "data": {
      "text/plain": [
       "420913348705"
      ]
     },
     "execution_count": 13,
     "metadata": {},
     "output_type": "execute_result"
    },
    {
     "data": {
      "text/plain": [
       "420913348705"
      ]
     },
     "execution_count": 13,
     "metadata": {},
     "output_type": "execute_result"
    },
    {
     "data": {
      "text/plain": [
       "True"
      ]
     },
     "execution_count": 13,
     "metadata": {},
     "output_type": "execute_result"
    },
    {
     "data": {
      "text/plain": [
       "97"
      ]
     },
     "execution_count": 13,
     "metadata": {},
     "output_type": "execute_result"
    },
    {
     "data": {
      "text/plain": [
       "425208316001"
      ]
     },
     "execution_count": 13,
     "metadata": {},
     "output_type": "execute_result"
    },
    {
     "data": {
      "text/plain": [
       "True"
      ]
     },
     "execution_count": 13,
     "metadata": {},
     "output_type": "execute_result"
    }
   ],
   "source": [
    "base = 2**16\n",
    "r = 2**16\n",
    "fingerprint(\"bda\", base, r)\n",
    "ord(\"b\")*(base**2) + ord(\"d\")*(base**1) + ord(\"a\")\n",
    "(ord(\"b\")*base + ord(\"d\"))*base + ord(\"a\")\n",
    "((ord(\"b\")*base + ord(\"d\"))*base + ord(\"a\"))%r == ord(\"a\")%r\n",
    "\n",
    "\n",
    "fingerprint(\"cda\", base, r)\n",
    "(ord(\"c\")*base + ord(\"d\"))*base + ord(\"a\")\n",
    "((ord(\"c\")*base + ord(\"d\"))*base + ord(\"a\"))%r == ord(\"a\")%r"
   ]
  },
  {
   "cell_type": "code",
   "execution_count": 14,
   "metadata": {},
   "outputs": [
    {
     "data": {
      "text/plain": [
       "[0, 7]"
      ]
     },
     "execution_count": 14,
     "metadata": {},
     "output_type": "execute_result"
    }
   ],
   "source": [
    "find_matches_KR(\"Humpty\", \"Humpty Dumpty\", r=2**(16*5))"
   ]
  },
  {
   "cell_type": "code",
   "execution_count": 15,
   "metadata": {},
   "outputs": [
    {
     "data": {
      "text/plain": [
       "2158299737877522940025"
      ]
     },
     "execution_count": 15,
     "metadata": {},
     "output_type": "execute_result"
    },
    {
     "data": {
      "text/plain": [
       "2158299737877522940025"
      ]
     },
     "execution_count": 15,
     "metadata": {},
     "output_type": "execute_result"
    }
   ],
   "source": [
    "fingerprint(\"Humpty\", r=2**(16*5))\n",
    "fingerprint(\"Dumpty\", r=2**(16*5))"
   ]
  },
  {
   "cell_type": "code",
   "execution_count": 16,
   "metadata": {},
   "outputs": [
    {
     "data": {
      "text/plain": [
       "[2158299737877522940025,\n",
       " 2010726629729956855840,\n",
       " 2066067987872461357124,\n",
       " 2139856371159933386869,\n",
       " 2232065040410175930477,\n",
       " 590314951159640293488,\n",
       " 1254411530052683432052,\n",
       " 2158299737877522940025]"
      ]
     },
     "execution_count": 16,
     "metadata": {},
     "output_type": "execute_result"
    }
   ],
   "source": [
    "text_fingerprint(\"Humpty Dumpty\", 6, r=2**(16*5))"
   ]
  },
  {
   "cell_type": "code",
   "execution_count": 17,
   "metadata": {},
   "outputs": [
    {
     "data": {
      "text/plain": [
       "[0]"
      ]
     },
     "execution_count": 17,
     "metadata": {},
     "output_type": "execute_result"
    }
   ],
   "source": [
    "find_matches_KR(\"Humpty\", \"Humpty Dumpty\", r=2**(16*6))"
   ]
  }
 ],
 "metadata": {
  "kernelspec": {
   "display_name": "Python 3",
   "language": "python",
   "name": "python3"
  },
  "language_info": {
   "codemirror_mode": {
    "name": "ipython",
    "version": 3
   },
   "file_extension": ".py",
   "mimetype": "text/x-python",
   "name": "python",
   "nbconvert_exporter": "python",
   "pygments_lexer": "ipython3",
   "version": "3.6.2"
  }
 },
 "nbformat": 4,
 "nbformat_minor": 1
}
