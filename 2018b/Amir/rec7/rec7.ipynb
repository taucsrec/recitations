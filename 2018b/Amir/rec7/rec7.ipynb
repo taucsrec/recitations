{
 "cells": [
  {
   "cell_type": "markdown",
   "metadata": {},
   "source": [
    "<h1><center>cs1001.py , Tel Aviv University, Fall 2017-2018</center></h1>\n",
    "<img src=\"http://www.pngall.com/wp-content/uploads/2016/05/Python-Logo-PNG-Image-180x180.png\" width=50/>"
   ]
  },
  {
   "cell_type": "markdown",
   "metadata": {},
   "source": [
    "# Recitation 7"
   ]
  },
  {
   "cell_type": "markdown",
   "metadata": {},
   "source": [
    "We continued discussing recursion. Then we discussed higher-order functions and mentioned lambda expressions.\n",
    "\n",
    "### Takeaways:\n",
    "\n",
    "<ol>\n",
    "  <li>For recursion takeaways, see previous recitation.</li>\n",
    "  <li>Lambda expressions are a method for writing short functions. Note that they are rather limited as only expressions (which have a value) can appear after \":\".</li>\n",
    "  <li>Higher-order functions are quite useful and may lead to a more compact code.</li>\n",
    "</ol>"
   ]
  },
  {
   "cell_type": "markdown",
   "metadata": {},
   "source": [
    "#### Code for printing several outputs in one cell (not part of the recitation):"
   ]
  },
  {
   "cell_type": "code",
   "execution_count": 1,
   "metadata": {},
   "outputs": [],
   "source": [
    "from IPython.core.interactiveshell import InteractiveShell\n",
    "InteractiveShell.ast_node_interactivity = \"all\""
   ]
  },
  {
   "cell_type": "markdown",
   "metadata": {},
   "source": [
    "## Count paths"
   ]
  },
  {
   "cell_type": "markdown",
   "metadata": {},
   "source": [
    "We solved question 2(a) from the 2015 fall semester exam (Moed B):\n",
    "<img src=\"cnt_path_question.png\">"
   ]
  },
  {
   "cell_type": "code",
   "execution_count": 2,
   "metadata": {},
   "outputs": [],
   "source": [
    "def cnt_paths(L):\n",
    "    if all_zeros(L):\n",
    "        return 1\n",
    "    \n",
    "    result = 0\n",
    "    for i in range(len(L)):\n",
    "        if L[i] != 0:\n",
    "            L[i] -= 1\n",
    "            result += cnt_paths(L)\n",
    "            L[i] += 1\n",
    "    return result\n",
    "\n",
    "def all_zeros(L):\n",
    "    for i in L:\n",
    "        if i != 0:\n",
    "            return False\n",
    "    return True"
   ]
  },
  {
   "cell_type": "markdown",
   "metadata": {},
   "source": [
    "Now with memoization:"
   ]
  },
  {
   "cell_type": "code",
   "execution_count": null,
   "metadata": {},
   "outputs": [],
   "source": [
    "def cnt_paths_fast(L):\n",
    "    d = {}\n",
    "    return cnt_paths_mem(L,d)\n",
    "\n",
    "def cnt_paths_mem(L,d):\n",
    "    if all_zeros(L):\n",
    "        return 1\n",
    "    if tuple(L) not in d:\n",
    "        result = 0\n",
    "        for i in range(len(L)):\n",
    "            if L[i] != 0:\n",
    "                L[i] -= 1\n",
    "                result += cnt_paths_mem(L, d)\n",
    "                L[i] += 1\n",
    "        d[tuple(L)] = result\n",
    "    return d[tuple(L)]\n",
    "\n",
    "def all_zeros(L):\n",
    "    for i in L:\n",
    "        if i != 0:\n",
    "            return False\n",
    "    return True\n",
    "\n",
    "cnt_paths_fast([1,2])\n",
    "cnt_paths_fast([1,2,80, 4, 7,6])"
   ]
  },
  {
   "cell_type": "markdown",
   "metadata": {},
   "source": [
    "## Catalan numbers"
   ]
  },
  {
   "cell_type": "markdown",
   "metadata": {},
   "source": [
    "We solved question 5 from the 2015 spring semester exam (Moed B):\n",
    "<img src=\"catalan.png\">"
   ]
  },
  {
   "cell_type": "markdown",
   "metadata": {},
   "source": [
    "#### An iterative implementation (section a):"
   ]
  },
  {
   "cell_type": "code",
   "execution_count": 5,
   "metadata": {},
   "outputs": [
    {
     "data": {
      "text/plain": [
       "896519947090131496687170070074100632420837521538745909320"
      ]
     },
     "execution_count": 5,
     "metadata": {},
     "output_type": "execute_result"
    }
   ],
   "source": [
    "def catalan1(n):\n",
    "    cat = [0]*(n+1)\n",
    "    cat[0] = 1\n",
    "    for i in range(1,n+1):\n",
    "        for j in range(i):\n",
    "            cat[i] += cat[j] * cat[i-j-1]\n",
    "    \n",
    "    return cat[n]\n",
    "\n",
    "catalan1(100)"
   ]
  },
  {
   "cell_type": "markdown",
   "metadata": {},
   "source": [
    "#### Complexity (section b):\n",
    "We assume that arithmetic operations take constant time.\n",
    "\n",
    "Let's consider the significant operations invelved in the function. First, it creates a list of size $n+1$, so that's $O(n)$ work. Then, it iterates through two loops, in a nested structure, where the inner loop is dependent on the outer loop. \n",
    "Using the tools we learned in class, we can analyze the number of iterations: $\\sum_{i=1}^{n} i = O(n^2)$."
   ]
  },
  {
   "cell_type": "markdown",
   "metadata": {},
   "source": [
    "#### A recursive implementation with memoization (section c):"
   ]
  },
  {
   "cell_type": "code",
   "execution_count": null,
   "metadata": {},
   "outputs": [],
   "source": [
    "def catalan2(n):\n",
    "    d = dict()\n",
    "    return catalan_rec(n,d)\n",
    "\n",
    "def catalan_rec(n,d):\n",
    "    if n == 0:\n",
    "        return 1\n",
    "    if n not in d:\n",
    "        result = 0\n",
    "        for j in range(n):\n",
    "            result += catalan_rec(j,d) * catalan_rec(n-j-1,d)\n",
    "        d[n] = result\n",
    "    return d[n]"
   ]
  },
  {
   "cell_type": "markdown",
   "metadata": {},
   "source": [
    "#### Analysis of the recursive version:\n",
    "The recursion depth is $O(n)$.\n",
    "\n",
    "The tree will have a path of length $O(n)$, and every inner node along this path (including the root), solving a problem of size $i$, will have $(2i−1)$ other child nodes that are leaves (among its $2i$ child nodes).\n",
    "\n",
    "Note that in every node, where we solve a problem of size $i$, we spend $O(i)$ time not including the recursive calls. Thus, the overall time complexity is $O(n^2)$."
   ]
  },
  {
   "cell_type": "markdown",
   "metadata": {},
   "source": [
    "## choose sets \n",
    "\n",
    "http://tau-cs1001-py.wdfiles.com/local--files/recitation-logs-2017b/a07_choose_sets.pdf"
   ]
  },
  {
   "cell_type": "code",
   "execution_count": 40,
   "metadata": {},
   "outputs": [
    {
     "data": {
      "text/plain": [
       "[[2, 1], [3, 1], [3, 2]]"
      ]
     },
     "execution_count": 40,
     "metadata": {},
     "output_type": "execute_result"
    }
   ],
   "source": [
    "def choose_sets(lst,k):\n",
    "    return choose_sets_rec(lst,k)\n",
    "\n",
    "def choose_sets_rec(lst,k):\n",
    "    if k==0:\n",
    "        return [[]]\n",
    "    elif len(lst)<k:\n",
    "        return []\n",
    "    tmp = choose_sets_rec(lst[1:],k-1)\n",
    "    for e in tmp:\n",
    "        e.append(lst[0])\n",
    "    tmp.extend(choose_sets_rec(lst[1:],k))\n",
    "    return tmp\n",
    "\n",
    "choose_sets([1,2,3], 2)"
   ]
  },
  {
   "cell_type": "markdown",
   "metadata": {},
   "source": [
    "## Lambda expressions and higher-order functions"
   ]
  },
  {
   "cell_type": "markdown",
   "metadata": {},
   "source": [
    "### Expressions:\n",
    "Anonymous vs. named values"
   ]
  },
  {
   "cell_type": "code",
   "execution_count": 6,
   "metadata": {},
   "outputs": [
    {
     "name": "stdout",
     "output_type": "stream",
     "text": [
      "1024\n",
      "1024\n"
     ]
    }
   ],
   "source": [
    "print(2**10)\n",
    "\n",
    "x = 2**10\n",
    "print(x)"
   ]
  },
  {
   "cell_type": "markdown",
   "metadata": {},
   "source": [
    "### Functions:"
   ]
  },
  {
   "cell_type": "markdown",
   "metadata": {},
   "source": [
    "Lambda expressions can be used for creating anonymous functions (and named ones as well)"
   ]
  },
  {
   "cell_type": "code",
   "execution_count": 7,
   "metadata": {},
   "outputs": [
    {
     "data": {
      "text/plain": [
       "5"
      ]
     },
     "execution_count": 7,
     "metadata": {},
     "output_type": "execute_result"
    },
    {
     "data": {
      "text/plain": [
       "5"
      ]
     },
     "execution_count": 7,
     "metadata": {},
     "output_type": "execute_result"
    }
   ],
   "source": [
    "(lambda x: x+2)(3)\n",
    "\n",
    "plus2 = lambda x : x + 2\n",
    "plus2(3)"
   ]
  },
  {
   "cell_type": "markdown",
   "metadata": {},
   "source": [
    "#### Example: A function that returns a function: make power"
   ]
  },
  {
   "cell_type": "code",
   "execution_count": 8,
   "metadata": {},
   "outputs": [
    {
     "data": {
      "text/plain": [
       "100"
      ]
     },
     "execution_count": 8,
     "metadata": {},
     "output_type": "execute_result"
    },
    {
     "data": {
      "text/plain": [
       "1000"
      ]
     },
     "execution_count": 8,
     "metadata": {},
     "output_type": "execute_result"
    }
   ],
   "source": [
    "def make_pow(n):\n",
    "    def fixed_pow(x):\n",
    "        return x**n\n",
    "    return fixed_pow\n",
    "\n",
    "square = make_pow(2)\n",
    "cube = make_pow(3)\n",
    "\n",
    "square(10)\n",
    "cube(10)"
   ]
  },
  {
   "cell_type": "code",
   "execution_count": 9,
   "metadata": {},
   "outputs": [
    {
     "data": {
      "text/plain": [
       "100"
      ]
     },
     "execution_count": 9,
     "metadata": {},
     "output_type": "execute_result"
    },
    {
     "data": {
      "text/plain": [
       "1000"
      ]
     },
     "execution_count": 9,
     "metadata": {},
     "output_type": "execute_result"
    }
   ],
   "source": [
    "def make_pow(n):\n",
    "    return lambda x : x ** n\n",
    "\n",
    "square = make_pow(2)\n",
    "cube = make_pow(3)\n",
    "\n",
    "square(10)\n",
    "cube(10)"
   ]
  },
  {
   "cell_type": "markdown",
   "metadata": {},
   "source": [
    "#### Example: A function that takes a function as its argument (function as an input): sorted"
   ]
  },
  {
   "cell_type": "code",
   "execution_count": 10,
   "metadata": {},
   "outputs": [
    {
     "data": {
      "text/plain": [
       "['amirgil', 'amirrub', 'benny', 'michal']"
      ]
     },
     "execution_count": 10,
     "metadata": {},
     "output_type": "execute_result"
    }
   ],
   "source": [
    "lst = [\"michal\", \"amirrub\", \"benny\", \"amirgil\"]\n",
    "\n",
    "sorted(lst)"
   ]
  },
  {
   "cell_type": "markdown",
   "metadata": {},
   "source": [
    "\"sorted\" can recieve a function as an argument and use it to sort the input list.\n",
    "The function is given as the \"key\" argument to \"sorted\".\n",
    "Note that the \"key\" is used for ordering the elements without changing them.\n",
    "\n",
    "examples: sort by length, sort by reverse lexicographical order"
   ]
  },
  {
   "cell_type": "code",
   "execution_count": 37,
   "metadata": {},
   "outputs": [
    {
     "data": {
      "text/plain": [
       "['benny', 'michal', 'amirrub', 'amirgil']"
      ]
     },
     "execution_count": 37,
     "metadata": {},
     "output_type": "execute_result"
    },
    {
     "data": {
      "text/plain": [
       "['benny', 'michal', 'amirrub', 'amirgil']"
      ]
     },
     "execution_count": 37,
     "metadata": {},
     "output_type": "execute_result"
    },
    {
     "data": {
      "text/plain": [
       "['amirrub', 'michal', 'amirgil', 'benny']"
      ]
     },
     "execution_count": 37,
     "metadata": {},
     "output_type": "execute_result"
    },
    {
     "data": {
      "text/plain": [
       "['amirrub', 'michal', 'amirgil', 'benny']"
      ]
     },
     "execution_count": 37,
     "metadata": {},
     "output_type": "execute_result"
    }
   ],
   "source": [
    "sorted(lst, key=lambda x: len(x))\n",
    "sorted(lst, key=len)\n",
    "\n",
    "def rev(s):\n",
    "    return s[::-1]\n",
    "\n",
    "sorted(lst, key=rev)\n",
    "sorted(lst, key=lambda s: s[::-1])"
   ]
  },
  {
   "cell_type": "markdown",
   "metadata": {},
   "source": [
    "another example: sort by the int value of the string elements"
   ]
  },
  {
   "cell_type": "code",
   "execution_count": 15,
   "metadata": {
    "scrolled": true
   },
   "outputs": [
    {
     "data": {
      "text/plain": [
       "['11', '232', '3']"
      ]
     },
     "execution_count": 15,
     "metadata": {},
     "output_type": "execute_result"
    },
    {
     "data": {
      "text/plain": [
       "['3', '11', '232']"
      ]
     },
     "execution_count": 15,
     "metadata": {},
     "output_type": "execute_result"
    }
   ],
   "source": [
    "lst2 = [\"232\", \"11\", \"3\"]\n",
    "sorted(lst2)\n",
    "sorted(lst2, key=int)"
   ]
  },
  {
   "cell_type": "markdown",
   "metadata": {},
   "source": [
    "#### Example: another function that gets a function as its input"
   ]
  },
  {
   "cell_type": "code",
   "execution_count": 16,
   "metadata": {},
   "outputs": [
    {
     "data": {
      "text/plain": [
       "55"
      ]
     },
     "execution_count": 16,
     "metadata": {},
     "output_type": "execute_result"
    }
   ],
   "source": [
    "def sum_naturals(n):\n",
    "    total = 0\n",
    "    for k in range(1,n+1):\n",
    "        total += k\n",
    "    return total\n",
    "\n",
    "sum_naturals(10)"
   ]
  },
  {
   "cell_type": "code",
   "execution_count": 17,
   "metadata": {},
   "outputs": [
    {
     "data": {
      "text/plain": [
       "385"
      ]
     },
     "execution_count": 17,
     "metadata": {},
     "output_type": "execute_result"
    }
   ],
   "source": [
    "def sum_squres(n):\n",
    "    total = 0\n",
    "    for k in range(1,n+1):\n",
    "        total += k**2\n",
    "    return total\n",
    "\n",
    "sum_squres(10)"
   ]
  },
  {
   "cell_type": "markdown",
   "metadata": {},
   "source": [
    "Let's make it a general function that gets another function as a parameter:"
   ]
  },
  {
   "cell_type": "code",
   "execution_count": 18,
   "metadata": {},
   "outputs": [],
   "source": [
    "def summation(n, term):\n",
    "    total = 0\n",
    "    for k in range(1,n+1):\n",
    "        total += term(k)\n",
    "    return total"
   ]
  },
  {
   "cell_type": "markdown",
   "metadata": {},
   "source": [
    "The equivalent to sum_naturals and sum_squares:"
   ]
  },
  {
   "cell_type": "code",
   "execution_count": 19,
   "metadata": {},
   "outputs": [
    {
     "data": {
      "text/plain": [
       "55"
      ]
     },
     "execution_count": 19,
     "metadata": {},
     "output_type": "execute_result"
    },
    {
     "data": {
      "text/plain": [
       "385"
      ]
     },
     "execution_count": 19,
     "metadata": {},
     "output_type": "execute_result"
    }
   ],
   "source": [
    "term_naturals = lambda x : x\n",
    "summation(10, term_naturals)\n",
    "\n",
    "term_squares = lambda x : x**2\n",
    "summation(10, term_squares)"
   ]
  },
  {
   "cell_type": "markdown",
   "metadata": {},
   "source": [
    "#### Approximating $\\pi$:\n",
    "\n",
    "The following (infinite) sum slowly converges to $\\pi$:\n",
    "$\\frac{8}{1\\cdot 3} + \\frac{8}{5\\cdot 7} + \\frac{8}{9\\cdot11} + \\ldots$\n",
    "We use \"summation\" to compute the sum of the first $n$ elements in this series"
   ]
  },
  {
   "cell_type": "code",
   "execution_count": 22,
   "metadata": {},
   "outputs": [
    {
     "data": {
      "text/plain": [
       "3.091623806667838"
      ]
     },
     "execution_count": 22,
     "metadata": {},
     "output_type": "execute_result"
    },
    {
     "data": {
      "text/plain": [
       "3.1365926848388144"
      ]
     },
     "execution_count": 22,
     "metadata": {},
     "output_type": "execute_result"
    },
    {
     "data": {
      "text/plain": [
       "3.1415926035880983"
      ]
     },
     "execution_count": 22,
     "metadata": {},
     "output_type": "execute_result"
    }
   ],
   "source": [
    "term_pi = lambda k : 8 / ((4*k-1) * (4*k-3))\n",
    "\n",
    "summation(10, term_pi)\n",
    "summation(100, term_pi)\n",
    "summation(10000000, term_pi)"
   ]
  },
  {
   "cell_type": "markdown",
   "metadata": {},
   "source": [
    "### Packing and Unpacking arguments using *\n",
    "\n",
    "The function below can recieve any number of of values as its input,\n",
    "all are packed into a tuple named \"params\", in this case.\n",
    "The content of a tuple can be unpacked using * when passed as input to another method, as if you'd passed every value separately."
   ]
  },
  {
   "cell_type": "markdown",
   "metadata": {},
   "source": [
    "#### Separate each param using * (unpacking):"
   ]
  },
  {
   "cell_type": "code",
   "execution_count": 39,
   "metadata": {},
   "outputs": [
    {
     "name": "stdout",
     "output_type": "stream",
     "text": [
      "[50, 51, 52, 53, 54]\n",
      "bad range\n"
     ]
    },
    {
     "ename": "TypeError",
     "evalue": "<lambda>() takes 3 positional arguments but 4 were given",
     "output_type": "error",
     "traceback": [
      "\u001b[1;31m---------------------------------------------------------------------------\u001b[0m",
      "\u001b[1;31mTypeError\u001b[0m                                 Traceback (most recent call last)",
      "\u001b[1;32m<ipython-input-39-1deb099ffd15>\u001b[0m in \u001b[0;36m<module>\u001b[1;34m()\u001b[0m\n\u001b[0;32m      5\u001b[0m \u001b[0mprint_consecutive_sublist\u001b[0m\u001b[1;33m(\u001b[0m\u001b[1;33m[\u001b[0m\u001b[0mi\u001b[0m \u001b[1;32mfor\u001b[0m \u001b[0mi\u001b[0m \u001b[1;32min\u001b[0m \u001b[0mrange\u001b[0m\u001b[1;33m(\u001b[0m\u001b[1;36m100\u001b[0m\u001b[1;33m)\u001b[0m\u001b[1;33m]\u001b[0m\u001b[1;33m,\u001b[0m \u001b[0mfunc\u001b[0m\u001b[1;33m,\u001b[0m \u001b[1;36m50\u001b[0m\u001b[1;33m,\u001b[0m\u001b[1;36m55\u001b[0m\u001b[1;33m)\u001b[0m\u001b[1;33m\u001b[0m\u001b[0m\n\u001b[0;32m      6\u001b[0m \u001b[0mprint_consecutive_sublist\u001b[0m\u001b[1;33m(\u001b[0m\u001b[1;33m[\u001b[0m\u001b[0mi\u001b[0m \u001b[1;32mfor\u001b[0m \u001b[0mi\u001b[0m \u001b[1;32min\u001b[0m \u001b[0mrange\u001b[0m\u001b[1;33m(\u001b[0m\u001b[1;36m100\u001b[0m\u001b[1;33m)\u001b[0m\u001b[1;33m]\u001b[0m\u001b[1;33m,\u001b[0m \u001b[0mfunc\u001b[0m\u001b[1;33m,\u001b[0m \u001b[1;36m55\u001b[0m\u001b[1;33m,\u001b[0m\u001b[1;36m50\u001b[0m\u001b[1;33m)\u001b[0m\u001b[1;33m\u001b[0m\u001b[0m\n\u001b[1;32m----> 7\u001b[1;33m \u001b[0mprint_consecutive_sublist\u001b[0m\u001b[1;33m(\u001b[0m\u001b[1;33m[\u001b[0m\u001b[0mi\u001b[0m \u001b[1;32mfor\u001b[0m \u001b[0mi\u001b[0m \u001b[1;32min\u001b[0m \u001b[0mrange\u001b[0m\u001b[1;33m(\u001b[0m\u001b[1;36m100\u001b[0m\u001b[1;33m)\u001b[0m\u001b[1;33m]\u001b[0m\u001b[1;33m,\u001b[0m \u001b[0mfunc\u001b[0m\u001b[1;33m,\u001b[0m \u001b[1;36m50\u001b[0m\u001b[1;33m,\u001b[0m\u001b[1;36m55\u001b[0m\u001b[1;33m,\u001b[0m\u001b[1;36m56\u001b[0m\u001b[1;33m)\u001b[0m \u001b[1;31m# more than three arguments given to func\u001b[0m\u001b[1;33m\u001b[0m\u001b[0m\n\u001b[0m",
      "\u001b[1;32m<ipython-input-39-1deb099ffd15>\u001b[0m in \u001b[0;36mprint_consecutive_sublist\u001b[1;34m(lst, func, *params)\u001b[0m\n\u001b[0;32m      1\u001b[0m \u001b[1;32mdef\u001b[0m \u001b[0mprint_consecutive_sublist\u001b[0m\u001b[1;33m(\u001b[0m\u001b[0mlst\u001b[0m\u001b[1;33m,\u001b[0m \u001b[0mfunc\u001b[0m\u001b[1;33m,\u001b[0m \u001b[1;33m*\u001b[0m\u001b[0mparams\u001b[0m\u001b[1;33m)\u001b[0m\u001b[1;33m:\u001b[0m\u001b[1;33m\u001b[0m\u001b[0m\n\u001b[1;32m----> 2\u001b[1;33m     \u001b[0mfunc\u001b[0m\u001b[1;33m(\u001b[0m\u001b[0mlst\u001b[0m\u001b[1;33m,\u001b[0m \u001b[1;33m*\u001b[0m\u001b[0mparams\u001b[0m\u001b[1;33m)\u001b[0m\u001b[1;33m\u001b[0m\u001b[0m\n\u001b[0m\u001b[0;32m      3\u001b[0m \u001b[1;33m\u001b[0m\u001b[0m\n\u001b[0;32m      4\u001b[0m \u001b[0mfunc\u001b[0m \u001b[1;33m=\u001b[0m \u001b[1;32mlambda\u001b[0m \u001b[0mlst\u001b[0m\u001b[1;33m,\u001b[0m \u001b[0mi\u001b[0m\u001b[1;33m,\u001b[0m \u001b[0mj\u001b[0m \u001b[1;33m:\u001b[0m \u001b[0mprint\u001b[0m\u001b[1;33m(\u001b[0m\u001b[0mlst\u001b[0m\u001b[1;33m[\u001b[0m\u001b[0mi\u001b[0m\u001b[1;33m:\u001b[0m\u001b[0mj\u001b[0m\u001b[1;33m]\u001b[0m \u001b[1;32mif\u001b[0m \u001b[0mi\u001b[0m \u001b[1;33m<\u001b[0m \u001b[0mj\u001b[0m \u001b[1;32melse\u001b[0m \u001b[1;34m\"bad range\"\u001b[0m\u001b[1;33m)\u001b[0m\u001b[1;33m\u001b[0m\u001b[0m\n\u001b[0;32m      5\u001b[0m \u001b[0mprint_consecutive_sublist\u001b[0m\u001b[1;33m(\u001b[0m\u001b[1;33m[\u001b[0m\u001b[0mi\u001b[0m \u001b[1;32mfor\u001b[0m \u001b[0mi\u001b[0m \u001b[1;32min\u001b[0m \u001b[0mrange\u001b[0m\u001b[1;33m(\u001b[0m\u001b[1;36m100\u001b[0m\u001b[1;33m)\u001b[0m\u001b[1;33m]\u001b[0m\u001b[1;33m,\u001b[0m \u001b[0mfunc\u001b[0m\u001b[1;33m,\u001b[0m \u001b[1;36m50\u001b[0m\u001b[1;33m,\u001b[0m\u001b[1;36m55\u001b[0m\u001b[1;33m)\u001b[0m\u001b[1;33m\u001b[0m\u001b[0m\n",
      "\u001b[1;31mTypeError\u001b[0m: <lambda>() takes 3 positional arguments but 4 were given"
     ]
    }
   ],
   "source": [
    "def print_consecutive_sublist(lst, func, *params):\n",
    "    func(lst, *params)\n",
    "\n",
    "func = lambda lst, i, j : print(lst[i:j] if i < j else \"bad range\")\n",
    "print_consecutive_sublist([i for i in range(100)], func, 50,55)\n",
    "print_consecutive_sublist([i for i in range(100)], func, 55,50)\n",
    "print_consecutive_sublist([i for i in range(100)], func, 50,55,56) # more than three arguments given to func"
   ]
  },
  {
   "cell_type": "markdown",
   "metadata": {},
   "source": [
    "#### Leave params as tuple:"
   ]
  },
  {
   "cell_type": "code",
   "execution_count": 33,
   "metadata": {},
   "outputs": [
    {
     "name": "stdout",
     "output_type": "stream",
     "text": [
      "[43, 44, 50, 55, 90]\n"
     ]
    }
   ],
   "source": [
    "def print_sublist(lst, func, *params):\n",
    "#     print(*params)\n",
    "#     print(params)\n",
    "    func(lst, params)\n",
    "    \n",
    "func2 = lambda lst, tup : print([x for x in lst if x in tup])\n",
    "print_sublist([i for i in range(100)], func2, 50,55, 43, 44, 90)"
   ]
  }
 ],
 "metadata": {
  "kernelspec": {
   "display_name": "Python 3",
   "language": "python",
   "name": "python3"
  },
  "language_info": {
   "codemirror_mode": {
    "name": "ipython",
    "version": 3
   },
   "file_extension": ".py",
   "mimetype": "text/x-python",
   "name": "python",
   "nbconvert_exporter": "python",
   "pygments_lexer": "ipython3",
   "version": "3.6.4"
  }
 },
 "nbformat": 4,
 "nbformat_minor": 1
}
